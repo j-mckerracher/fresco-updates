{
 "cells": [
  {
   "cell_type": "markdown",
   "id": "a077160a",
   "metadata": {},
   "source": [
    "# FRESCO Database Access and Analytics Notebook\n",
    "\n",
    "## Overview\n",
    "\n",
    "The FRESCO project is collecting, curating, and presenting public failure data of large-scale computing systems, in a repository called FRESCO. Our initial sources are Purdue, U of Illinois at Urbana-Champaign, and U of Texas at Austin. The data sets comprise static and dynamic information about system usage and the workloads, and failure information, for both planned and unplanned outages. The purpose of this notebook is to provide public access to this data.\n",
    "\n",
    "This notebook contains three cells:\n",
    "\n",
    "### 1. Data Filtering\n",
    "Begin by selecting a specific datetime window for either (or both) databases. Customize your dataset further with various filters.\n",
    "\n",
    "### 2. Data Analysis Options\n",
    "Explore a range of analysis options and select the ones that align with your requirements.\n",
    "\n",
    "### 3. Data Analysis and Visualizations\n",
    "Execute the chosen analysis on the filtered dataset and visualize the outcomes.\n",
    "\n",
    "## Step-by-Step Instructions\n",
    "\n",
    "- **Cell 1:**\n",
    "1. Run the first cell by clicking inside of it and using Ctrl+Enter.\n",
    "2. Define your query's temporal boundaries and click the \"Validate Dates\" button.\n",
    "3. If desired, use the filtering options to further narrow your query.\n",
    "4. Select \"Execute Query\"\n",
    "\n",
    "- **Cell 2:** Configure your statistical analyses:\n",
    "1. Run the cell.\n",
    "2. Choose the statistics to be calculated (e.g., Mean, Median).\n",
    "3. If \"Ratio of Data Outside Threshold\" was selected, provide the threshold.\n",
    "4. Select an interval type (Count or Time). If \"Time\" is chosen, define the time unit and interval count.\n",
    "5. Provide the interval value.\n",
    "\n",
    "- **Cell 3:** Run this cell to run the analyses selected in cell 2.\n",
    "\n",
    "## Database Table Information\n",
    "\n",
    "### Host Table\n",
    "- **jid**: Unique job identifier\n",
    "- **host**: Origin node of the data point\n",
    "- **event**: Resource usage metric type\n",
    "- **value**: Numeric value of the metric\n",
    "- **unit**: Measurement unit of the metric\n",
    "- **time**: Timestamp of the data point\n",
    "\n",
    "\n",
    "**Event Column Metrics:**\n",
    "- **cpuuser:** CPU user mode average percentage.\n",
    "- **block:** Data transfer rate to/from block devices.\n",
    "- **memused:** OS's total physical memory usage.\n",
    "- **memused_minus_diskcache:** Physical memory usage excluding caches.\n",
    "- **gpu_usage:** GPU active time average percentage (only for GPU jobs).\n",
    "- **nfs:** Data transfer rate over NFS mounts.\n",
    "\n",
    "### Job Table\n",
    "- **account**: Account or project name\n",
    "- **jid**: Unique job identifier\n",
    "- **ncores**: Total cores assigned to the job\n",
    "- **ngpus**: Total GPUs assigned to the job\n",
    "- **nhosts**: Number of nodes assigned to the job\n",
    "- **timelimit**: Requested job duration (in seconds)\n",
    "- **queue**: Job submission queue name\n",
    "- **end_time**: Job end time\n",
    "- **start_time**: Job start time\n",
    "- **submit_time**: Job submission time\n",
    "- **username**: Job owner's name\n",
    "- **exitcode**: Job's exit status\n",
    "- **host_list**: List of nodes the job ran on\n",
    "- **jobname**: Job's name"
   ]
  },
  {
   "cell_type": "code",
   "execution_count": 1,
   "id": "1412ebc2",
   "metadata": {
    "ExecuteTime": {
     "end_time": "2024-04-07T15:35:11.882217Z",
     "start_time": "2024-04-07T15:35:09.993075Z"
    }
   },
   "outputs": [
    {
     "ename": "ModuleNotFoundError",
     "evalue": "No module named 'pandas'",
     "output_type": "error",
     "traceback": [
      "\u001b[1;31m---------------------------------------------------------------------------\u001b[0m",
      "\u001b[1;31mModuleNotFoundError\u001b[0m                       Traceback (most recent call last)",
      "Cell \u001b[1;32mIn[1], line 1\u001b[0m\n\u001b[1;32m----> 1\u001b[0m \u001b[38;5;28;01mfrom\u001b[39;00m \u001b[38;5;21;01mclasses\u001b[39;00m\u001b[38;5;21;01m.\u001b[39;00m\u001b[38;5;21;01mnotebook_utilities\u001b[39;00m \u001b[38;5;28;01mimport\u001b[39;00m NotebookUtilities\n\u001b[0;32m      3\u001b[0m nu \u001b[38;5;241m=\u001b[39m NotebookUtilities()\n",
      "File \u001b[1;32m~\\PycharmProjects\\fresco-updates\\classes\\notebook_utilities.py:1\u001b[0m\n\u001b[1;32m----> 1\u001b[0m \u001b[38;5;28;01mfrom\u001b[39;00m \u001b[38;5;21;01mclasses\u001b[39;00m\u001b[38;5;21;01m.\u001b[39;00m\u001b[38;5;21;01mbase_widget_manager\u001b[39;00m \u001b[38;5;28;01mimport\u001b[39;00m BaseWidgetManager\n\u001b[0;32m      2\u001b[0m \u001b[38;5;28;01mfrom\u001b[39;00m \u001b[38;5;21;01mclasses\u001b[39;00m\u001b[38;5;21;01m.\u001b[39;00m\u001b[38;5;21;01mwidget_state_manager\u001b[39;00m \u001b[38;5;28;01mimport\u001b[39;00m WidgetStateManager\n\u001b[0;32m      5\u001b[0m \u001b[38;5;28;01mclass\u001b[39;00m \u001b[38;5;21;01mNotebookUtilities\u001b[39;00m:\n",
      "File \u001b[1;32m~\\PycharmProjects\\fresco-updates\\classes\\base_widget_manager.py:3\u001b[0m\n\u001b[0;32m      1\u001b[0m \u001b[38;5;28;01mimport\u001b[39;00m \u001b[38;5;21;01mipywidgets\u001b[39;00m \u001b[38;5;28;01mas\u001b[39;00m \u001b[38;5;21;01mwidgets\u001b[39;00m\n\u001b[0;32m      2\u001b[0m \u001b[38;5;28;01mfrom\u001b[39;00m \u001b[38;5;21;01mdatetime\u001b[39;00m \u001b[38;5;28;01mimport\u001b[39;00m datetime\n\u001b[1;32m----> 3\u001b[0m \u001b[38;5;28;01mimport\u001b[39;00m \u001b[38;5;21;01mpandas\u001b[39;00m \u001b[38;5;28;01mas\u001b[39;00m \u001b[38;5;21;01mpd\u001b[39;00m\n\u001b[0;32m      4\u001b[0m \u001b[38;5;28;01mfrom\u001b[39;00m \u001b[38;5;21;01mIPython\u001b[39;00m\u001b[38;5;21;01m.\u001b[39;00m\u001b[38;5;21;01mdisplay\u001b[39;00m \u001b[38;5;28;01mimport\u001b[39;00m display, clear_output\n\u001b[0;32m      5\u001b[0m \u001b[38;5;28;01mfrom\u001b[39;00m \u001b[38;5;21;01mmatplotlib\u001b[39;00m \u001b[38;5;28;01mimport\u001b[39;00m pyplot \u001b[38;5;28;01mas\u001b[39;00m plt\n",
      "\u001b[1;31mModuleNotFoundError\u001b[0m: No module named 'pandas'"
     ]
    }
   ],
   "source": [
    "from classes.notebook_utilities import NotebookUtilities\n",
    "\n",
    "nu = NotebookUtilities()"
   ]
  },
  {
   "cell_type": "code",
   "execution_count": null,
   "id": "7cbd8007",
   "metadata": {
    "ExecuteTime": {
     "end_time": "2024-04-07T15:42:55.114269Z",
     "start_time": "2024-04-07T15:42:55.064330Z"
    }
   },
   "outputs": [],
   "source": [
    "nu.display_statistics_widgets()"
   ]
  },
  {
   "cell_type": "code",
   "execution_count": null,
   "id": "303e0a53",
   "metadata": {
    "ExecuteTime": {
     "end_time": "2024-04-07T15:43:08.283181Z",
     "start_time": "2024-04-07T15:43:06.179285Z"
    }
   },
   "outputs": [],
   "source": [
    "%matplotlib inline\n",
    "nu.display_plots()"
   ]
  }
 ],
 "metadata": {
  "kernelspec": {
   "display_name": "Python 3 (ipykernel)",
   "language": "python",
   "name": "python3"
  },
  "language_info": {
   "codemirror_mode": {
    "name": "ipython",
    "version": 3
   },
   "file_extension": ".py",
   "mimetype": "text/x-python",
   "name": "python",
   "nbconvert_exporter": "python",
   "pygments_lexer": "ipython3",
   "version": "3.12.1"
  }
 },
 "nbformat": 4,
 "nbformat_minor": 5
}

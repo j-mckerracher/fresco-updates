{
 "cells": [
  {
   "cell_type": "markdown",
   "id": "a077160a",
   "metadata": {},
   "source": [
    "# FRESCO Database Access and Analytics Notebook\n",
    "\n",
    "## Overview\n",
    "\n",
    "The FRESCO project is collecting, curating, and presenting public failure data of large-scale computing systems, in a repository called FRESCO. Our initial sources are Purdue, U of Illinois at Urbana-Champaign, and U of Texas at Austin. The data sets comprise static and dynamic information about system usage and the workloads, and failure information, for both planned and unplanned outages. The purpose of this notebook is to provide public access to this data.\n",
    "\n",
    "This notebook contains three cells:\n",
    "\n",
    "### 1. Data Filtering\n",
    "Begin by selecting a specific datetime window for either (or both) databases. Customize your dataset further with various filters.\n",
    "\n",
    "### 2. Data Analysis Options\n",
    "Explore a range of analysis options and select the ones that align with your requirements.\n",
    "\n",
    "### 3. Data Analysis and Visualizations\n",
    "Execute the chosen analysis on the filtered dataset and visualize the outcomes.\n",
    "\n",
    "## Step-by-Step Instructions\n",
    "\n",
    "- **Cell 1:**\n",
    "1. Run the first cell by clicking inside of it and using Ctrl+Enter.\n",
    "2. Define your query's temporal boundaries and click the \"Validate Dates\" button.\n",
    "3. If desired, use the filtering options to further narrow your query.\n",
    "4. Select \"Execute Query\"\n",
    "\n",
    "- **Cell 2:** Configure your statistical analyses:\n",
    "1. Run the cell.\n",
    "2. Choose the statistics to be calculated (e.g., Mean, Median).\n",
    "3. If \"Ratio of Data Outside Threshold\" was selected, provide the threshold.\n",
    "4. Select an interval type (Count or Time). If \"Time\" is chosen, define the time unit and interval count.\n",
    "5. Provide the interval value.\n",
    "\n",
    "- **Cell 3:** Run this cell to run the analyses selected in cell 2.\n",
    "\n",
    "## Database Table Information\n",
    "\n",
    "### Host Table\n",
    "- **jid**: Unique job identifier\n",
    "- **host**: Origin node of the data point\n",
    "- **event**: Resource usage metric type\n",
    "- **value**: Numeric value of the metric\n",
    "- **unit**: Measurement unit of the metric\n",
    "- **time**: Timestamp of the data point\n",
    "\n",
    "\n",
    "**Event Column Metrics:**\n",
    "- **cpuuser:** CPU user mode average percentage.\n",
    "- **block:** Data transfer rate to/from block devices.\n",
    "- **memused:** OS's total physical memory usage.\n",
    "- **memused_minus_diskcache:** Physical memory usage excluding caches.\n",
    "- **gpu_usage:** GPU active time average percentage (only for GPU jobs).\n",
    "- **nfs:** Data transfer rate over NFS mounts.\n",
    "\n",
    "### Job Table\n",
    "- **account**: Account or project name\n",
    "- **jid**: Unique job identifier\n",
    "- **ncores**: Total cores assigned to the job\n",
    "- **ngpus**: Total GPUs assigned to the job\n",
    "- **nhosts**: Number of nodes assigned to the job\n",
    "- **timelimit**: Requested job duration (in seconds)\n",
    "- **queue**: Job submission queue name\n",
    "- **end_time**: Job end time\n",
    "- **start_time**: Job start time\n",
    "- **submit_time**: Job submission time\n",
    "- **username**: Job owner's name\n",
    "- **exitcode**: Job's exit status\n",
    "- **host_list**: List of nodes the job ran on\n",
    "- **jobname**: Job's name"
   ]
  },
  {
   "cell_type": "code",
   "execution_count": 1,
   "id": "1412ebc2",
   "metadata": {
    "ExecuteTime": {
     "end_time": "2024-04-06T19:34:36.478955Z",
     "start_time": "2024-04-06T19:34:35.161531Z"
    }
   },
   "outputs": [
    {
     "data": {
      "text/plain": "GridBox(children=(VBox(children=(HTML(value='<h1>Query the Host Data Table</h1>'), HTML(value='<h4>Select star…",
      "application/vnd.jupyter.widget-view+json": {
       "version_major": 2,
       "version_minor": 0,
       "model_id": "b5d35d045e344589881530572b87183d"
      }
     },
     "metadata": {},
     "output_type": "display_data"
    }
   ],
   "source": [
    "from classes.notebook_utilities import NotebookUtilities\n",
    "\n",
    "nu = NotebookUtilities()"
   ]
  },
  {
   "cell_type": "code",
   "execution_count": 2,
   "id": "7cbd8007",
   "metadata": {
    "ExecuteTime": {
     "end_time": "2024-04-06T19:35:32.358004Z",
     "start_time": "2024-04-06T19:35:32.329104Z"
    }
   },
   "outputs": [
    {
     "name": "stdout",
     "output_type": "stream",
     "text": [
      "Please select a statistic to calculate.\n"
     ]
    },
    {
     "data": {
      "text/plain": "SelectMultiple(description='Statistics', index=(0,), options=('None', 'Mean', 'Median', 'Standard Deviation', …",
      "application/vnd.jupyter.widget-view+json": {
       "version_major": 2,
       "version_minor": 0,
       "model_id": "17a4c087cb6e4370be5a756b119b447a"
      }
     },
     "metadata": {},
     "output_type": "display_data"
    },
    {
     "name": "stdout",
     "output_type": "stream",
     "text": [
      "Please provide the threshold if 'Ratio of Data Outside Threshold' was selected.\n"
     ]
    },
    {
     "data": {
      "text/plain": "IntText(value=0, description='Value:', disabled=True)",
      "application/vnd.jupyter.widget-view+json": {
       "version_major": 2,
       "version_minor": 0,
       "model_id": "aa6b051fff0f4f45a32d2703d5e7d959"
      }
     },
     "metadata": {},
     "output_type": "display_data"
    },
    {
     "name": "stdout",
     "output_type": "stream",
     "text": [
      "Please select an interval type to use in the statistic calculation. If count is selected, the interval will correspond to a count of rows. If time is selected, the interval will be a time window.\n"
     ]
    },
    {
     "data": {
      "text/plain": "Dropdown(description='Interval Type', disabled=True, options=('None', 'Count', 'Time'), value='None')",
      "application/vnd.jupyter.widget-view+json": {
       "version_major": 2,
       "version_minor": 0,
       "model_id": "9deb39d08d0942c6a588f29a5299ef88"
      }
     },
     "metadata": {},
     "output_type": "display_data"
    },
    {
     "name": "stdout",
     "output_type": "stream",
     "text": [
      "If time was selected, please select the unit of time.\n"
     ]
    },
    {
     "data": {
      "text/plain": "Dropdown(description='Interval Unit', disabled=True, options=('None', 'Days', 'Hours', 'Minutes', 'Seconds'), …",
      "application/vnd.jupyter.widget-view+json": {
       "version_major": 2,
       "version_minor": 0,
       "model_id": "2500ade10b2d4369a00b981a3add157d"
      }
     },
     "metadata": {},
     "output_type": "display_data"
    },
    {
     "name": "stdout",
     "output_type": "stream",
     "text": [
      "Please provide the interval count.\n"
     ]
    },
    {
     "data": {
      "text/plain": "IntText(value=0, description='Value:', disabled=True)",
      "application/vnd.jupyter.widget-view+json": {
       "version_major": 2,
       "version_minor": 0,
       "model_id": "43a38feb5ae14cd5924e33dabb532af7"
      }
     },
     "metadata": {},
     "output_type": "display_data"
    }
   ],
   "source": [
    "nu.display_statistics_widgets()"
   ]
  },
  {
   "cell_type": "code",
   "execution_count": 3,
   "id": "303e0a53",
   "metadata": {
    "ExecuteTime": {
     "end_time": "2024-04-06T19:35:49.517950Z",
     "start_time": "2024-04-06T19:35:48.641443Z"
    }
   },
   "outputs": [
    {
     "name": "stdout",
     "output_type": "stream",
     "text": []
    },
    {
     "data": {
      "text/plain": "Generating chart/s:   0%|          | 0/6 [00:00<?, ?it/s]",
      "application/vnd.jupyter.widget-view+json": {
       "version_major": 2,
       "version_minor": 0,
       "model_id": "a1f33fceb0314c58abaaeedc7606508b"
      }
     },
     "metadata": {},
     "output_type": "display_data"
    },
    {
     "data": {
      "text/plain": "HTML(value='Initializing . . .')",
      "application/vnd.jupyter.widget-view+json": {
       "version_major": 2,
       "version_minor": 0,
       "model_id": "061029b97a1f4f9cb1cebeab3b6f7c0e"
      }
     },
     "metadata": {},
     "output_type": "display_data"
    },
    {
     "name": "stdout",
     "output_type": "stream",
     "text": [
      "                    time     host         jid    event   unit      value\n",
      "0    2023-04-06 20:12:03  NODE396  JOB1154874  cpuuser  CPU %  97.754460\n",
      "1    2023-04-06 20:12:03  NODE388  JOB1154874  cpuuser  CPU %  97.706550\n",
      "2    2023-04-06 20:22:02  NODE887  JOB1155064  cpuuser  CPU %  47.721016\n",
      "3    2023-04-06 20:06:02  NODE917  JOB1150066  cpuuser  CPU %   0.003550\n",
      "4    2023-04-06 20:19:03  NODE895  JOB1155125  cpuuser  CPU %  19.040752\n",
      "...                  ...      ...         ...      ...    ...        ...\n",
      "9814 2023-04-06 19:51:02  NODE894  JOB1171997  cpuuser  CPU %  85.798134\n",
      "9815 2023-04-06 19:53:02  NODE894  JOB1171997  cpuuser  CPU %  86.726140\n",
      "9816 2023-04-06 19:55:02  NODE894  JOB1171997  cpuuser  CPU %  86.155550\n",
      "9817 2023-04-06 19:36:03  NODE903  JOB1173983  cpuuser  CPU %  98.963290\n",
      "9818 2023-04-06 19:37:03  NODE903  JOB1173983  cpuuser  CPU %  98.970680\n",
      "\n",
      "[9819 rows x 6 columns]\n"
     ]
    },
    {
     "ename": "DataError",
     "evalue": "Cannot aggregate non-numeric type: datetime64[us]",
     "output_type": "error",
     "traceback": [
      "\u001B[1;31m---------------------------------------------------------------------------\u001B[0m",
      "\u001B[1;31mNotImplementedError\u001B[0m                       Traceback (most recent call last)",
      "File \u001B[1;32m~\\PycharmProjects\\fresco-updates\\venv\\Lib\\site-packages\\pandas\\core\\window\\rolling.py:484\u001B[0m, in \u001B[0;36mBaseWindow._apply_blockwise\u001B[1;34m(self, homogeneous_func, name, numeric_only)\u001B[0m\n\u001B[0;32m    483\u001B[0m \u001B[38;5;28;01mtry\u001B[39;00m:\n\u001B[1;32m--> 484\u001B[0m     arr \u001B[38;5;241m=\u001B[39m \u001B[38;5;28;43mself\u001B[39;49m\u001B[38;5;241;43m.\u001B[39;49m\u001B[43m_prep_values\u001B[49m\u001B[43m(\u001B[49m\u001B[43marr\u001B[49m\u001B[43m)\u001B[49m\n\u001B[0;32m    485\u001B[0m \u001B[38;5;28;01mexcept\u001B[39;00m (\u001B[38;5;167;01mTypeError\u001B[39;00m, \u001B[38;5;167;01mNotImplementedError\u001B[39;00m) \u001B[38;5;28;01mas\u001B[39;00m err:\n",
      "File \u001B[1;32m~\\PycharmProjects\\fresco-updates\\venv\\Lib\\site-packages\\pandas\\core\\window\\rolling.py:357\u001B[0m, in \u001B[0;36mBaseWindow._prep_values\u001B[1;34m(self, values)\u001B[0m\n\u001B[0;32m    356\u001B[0m \u001B[38;5;28;01mif\u001B[39;00m needs_i8_conversion(values\u001B[38;5;241m.\u001B[39mdtype):\n\u001B[1;32m--> 357\u001B[0m     \u001B[38;5;28;01mraise\u001B[39;00m \u001B[38;5;167;01mNotImplementedError\u001B[39;00m(\n\u001B[0;32m    358\u001B[0m         \u001B[38;5;124mf\u001B[39m\u001B[38;5;124m\"\u001B[39m\u001B[38;5;124mops for \u001B[39m\u001B[38;5;132;01m{\u001B[39;00m\u001B[38;5;28mtype\u001B[39m(\u001B[38;5;28mself\u001B[39m)\u001B[38;5;241m.\u001B[39m\u001B[38;5;18m__name__\u001B[39m\u001B[38;5;132;01m}\u001B[39;00m\u001B[38;5;124m for this \u001B[39m\u001B[38;5;124m\"\u001B[39m\n\u001B[0;32m    359\u001B[0m         \u001B[38;5;124mf\u001B[39m\u001B[38;5;124m\"\u001B[39m\u001B[38;5;124mdtype \u001B[39m\u001B[38;5;132;01m{\u001B[39;00mvalues\u001B[38;5;241m.\u001B[39mdtype\u001B[38;5;132;01m}\u001B[39;00m\u001B[38;5;124m are not implemented\u001B[39m\u001B[38;5;124m\"\u001B[39m\n\u001B[0;32m    360\u001B[0m     )\n\u001B[0;32m    361\u001B[0m \u001B[38;5;66;03m# GH #12373 : rolling functions error on float32 data\u001B[39;00m\n\u001B[0;32m    362\u001B[0m \u001B[38;5;66;03m# make sure the data is coerced to float64\u001B[39;00m\n",
      "\u001B[1;31mNotImplementedError\u001B[0m: ops for Rolling for this dtype datetime64[us] are not implemented",
      "\nThe above exception was the direct cause of the following exception:\n",
      "\u001B[1;31mDataError\u001B[0m                                 Traceback (most recent call last)",
      "Cell \u001B[1;32mIn[3], line 2\u001B[0m\n\u001B[0;32m      1\u001B[0m get_ipython()\u001B[38;5;241m.\u001B[39mrun_line_magic(\u001B[38;5;124m'\u001B[39m\u001B[38;5;124mmatplotlib\u001B[39m\u001B[38;5;124m'\u001B[39m, \u001B[38;5;124m'\u001B[39m\u001B[38;5;124minline\u001B[39m\u001B[38;5;124m'\u001B[39m)\n\u001B[1;32m----> 2\u001B[0m \u001B[43mnu\u001B[49m\u001B[38;5;241;43m.\u001B[39;49m\u001B[43mdisplay_plots\u001B[49m\u001B[43m(\u001B[49m\u001B[43m)\u001B[49m\n",
      "File \u001B[1;32m~\\PycharmProjects\\fresco-updates\\classes\\notebook_utilities.py:14\u001B[0m, in \u001B[0;36mNotebookUtilities.display_plots\u001B[1;34m(self)\u001B[0m\n\u001B[0;32m     13\u001B[0m \u001B[38;5;28;01mdef\u001B[39;00m \u001B[38;5;21mdisplay_plots\u001B[39m(\u001B[38;5;28mself\u001B[39m):\n\u001B[1;32m---> 14\u001B[0m     \u001B[38;5;28;43mself\u001B[39;49m\u001B[38;5;241;43m.\u001B[39;49m\u001B[43mwidget_manager\u001B[49m\u001B[38;5;241;43m.\u001B[39;49m\u001B[43mdisplay_plots\u001B[49m\u001B[43m(\u001B[49m\u001B[43m)\u001B[49m\n",
      "File \u001B[1;32m~\\PycharmProjects\\fresco-updates\\classes\\base_widget_manager.py:498\u001B[0m, in \u001B[0;36mBaseWidgetManager.display_plots\u001B[1;34m(self)\u001B[0m\n\u001B[0;32m    496\u001B[0m \u001B[38;5;66;03m# Only calculate and plot basic stats if rolling is True\u001B[39;00m\n\u001B[0;32m    497\u001B[0m \u001B[38;5;28;01mif\u001B[39;00m rolling:\n\u001B[1;32m--> 498\u001B[0m     unit_stat_dfs[unit][metric] \u001B[38;5;241m=\u001B[39m \u001B[43mmetric_func_map\u001B[49m\u001B[43m[\u001B[49m\u001B[43mmetric\u001B[49m\u001B[43m]\u001B[49m\u001B[43m(\u001B[49m\u001B[43mmetric_df\u001B[49m\u001B[43m,\u001B[49m\u001B[43m \u001B[49m\u001B[43mrolling\u001B[49m\u001B[38;5;241;43m=\u001B[39;49m\u001B[38;5;28;43;01mTrue\u001B[39;49;00m\u001B[43m,\u001B[49m\n\u001B[0;32m    499\u001B[0m \u001B[43m                                                          \u001B[49m\u001B[43mwindow\u001B[49m\u001B[38;5;241;43m=\u001B[39;49m\u001B[43mwindow\u001B[49m\u001B[43m)\u001B[49m\n\u001B[0;32m    500\u001B[0m     \u001B[38;5;28;01mwith\u001B[39;00m outputs[unit][metric]:\n\u001B[0;32m    501\u001B[0m         unit_stat_dfs[unit][metric]\u001B[38;5;241m.\u001B[39mplot()\n",
      "File \u001B[1;32m~\\PycharmProjects\\fresco-updates\\classes\\data_processor.py:426\u001B[0m, in \u001B[0;36mDataProcessor.get_mean\u001B[1;34m(self, time_series, rolling, window)\u001B[0m\n\u001B[0;32m    423\u001B[0m result\u001B[38;5;241m.\u001B[39mdrop([\u001B[38;5;124m'\u001B[39m\u001B[38;5;124mjid\u001B[39m\u001B[38;5;124m'\u001B[39m, \u001B[38;5;124m'\u001B[39m\u001B[38;5;124mhost\u001B[39m\u001B[38;5;124m'\u001B[39m, \u001B[38;5;124m'\u001B[39m\u001B[38;5;124mevent\u001B[39m\u001B[38;5;124m'\u001B[39m, \u001B[38;5;124m'\u001B[39m\u001B[38;5;124munit\u001B[39m\u001B[38;5;124m'\u001B[39m], axis\u001B[38;5;241m=\u001B[39m\u001B[38;5;241m1\u001B[39m, inplace\u001B[38;5;241m=\u001B[39m\u001B[38;5;28;01mTrue\u001B[39;00m)\n\u001B[0;32m    425\u001B[0m \u001B[38;5;28;01mif\u001B[39;00m rolling:\n\u001B[1;32m--> 426\u001B[0m     \u001B[38;5;28;01mreturn\u001B[39;00m \u001B[43mresult\u001B[49m\u001B[38;5;241;43m.\u001B[39;49m\u001B[43mrolling\u001B[49m\u001B[43m(\u001B[49m\u001B[43mwindow\u001B[49m\u001B[38;5;241;43m=\u001B[39;49m\u001B[43mwindow\u001B[49m\u001B[43m)\u001B[49m\u001B[38;5;241;43m.\u001B[39;49m\u001B[43mmean\u001B[49m\u001B[43m(\u001B[49m\u001B[43m)\u001B[49m\n\u001B[0;32m    428\u001B[0m \u001B[38;5;28;01mreturn\u001B[39;00m result\u001B[38;5;241m.\u001B[39mmean()\n",
      "File \u001B[1;32m~\\PycharmProjects\\fresco-updates\\venv\\Lib\\site-packages\\pandas\\core\\window\\rolling.py:2245\u001B[0m, in \u001B[0;36mRolling.mean\u001B[1;34m(self, numeric_only, engine, engine_kwargs)\u001B[0m\n\u001B[0;32m   2202\u001B[0m \u001B[38;5;129m@doc\u001B[39m(\n\u001B[0;32m   2203\u001B[0m     template_header,\n\u001B[0;32m   2204\u001B[0m     create_section_header(\u001B[38;5;124m\"\u001B[39m\u001B[38;5;124mParameters\u001B[39m\u001B[38;5;124m\"\u001B[39m),\n\u001B[1;32m   (...)\u001B[0m\n\u001B[0;32m   2243\u001B[0m     engine_kwargs: \u001B[38;5;28mdict\u001B[39m[\u001B[38;5;28mstr\u001B[39m, \u001B[38;5;28mbool\u001B[39m] \u001B[38;5;241m|\u001B[39m \u001B[38;5;28;01mNone\u001B[39;00m \u001B[38;5;241m=\u001B[39m \u001B[38;5;28;01mNone\u001B[39;00m,\n\u001B[0;32m   2244\u001B[0m ):\n\u001B[1;32m-> 2245\u001B[0m     \u001B[38;5;28;01mreturn\u001B[39;00m \u001B[38;5;28;43msuper\u001B[39;49m\u001B[43m(\u001B[49m\u001B[43m)\u001B[49m\u001B[38;5;241;43m.\u001B[39;49m\u001B[43mmean\u001B[49m\u001B[43m(\u001B[49m\n\u001B[0;32m   2246\u001B[0m \u001B[43m        \u001B[49m\u001B[43mnumeric_only\u001B[49m\u001B[38;5;241;43m=\u001B[39;49m\u001B[43mnumeric_only\u001B[49m\u001B[43m,\u001B[49m\n\u001B[0;32m   2247\u001B[0m \u001B[43m        \u001B[49m\u001B[43mengine\u001B[49m\u001B[38;5;241;43m=\u001B[39;49m\u001B[43mengine\u001B[49m\u001B[43m,\u001B[49m\n\u001B[0;32m   2248\u001B[0m \u001B[43m        \u001B[49m\u001B[43mengine_kwargs\u001B[49m\u001B[38;5;241;43m=\u001B[39;49m\u001B[43mengine_kwargs\u001B[49m\u001B[43m,\u001B[49m\n\u001B[0;32m   2249\u001B[0m \u001B[43m    \u001B[49m\u001B[43m)\u001B[49m\n",
      "File \u001B[1;32m~\\PycharmProjects\\fresco-updates\\venv\\Lib\\site-packages\\pandas\\core\\window\\rolling.py:1617\u001B[0m, in \u001B[0;36mRollingAndExpandingMixin.mean\u001B[1;34m(self, numeric_only, engine, engine_kwargs)\u001B[0m\n\u001B[0;32m   1615\u001B[0m         \u001B[38;5;28;01mreturn\u001B[39;00m \u001B[38;5;28mself\u001B[39m\u001B[38;5;241m.\u001B[39m_numba_apply(sliding_mean, engine_kwargs)\n\u001B[0;32m   1616\u001B[0m window_func \u001B[38;5;241m=\u001B[39m window_aggregations\u001B[38;5;241m.\u001B[39mroll_mean\n\u001B[1;32m-> 1617\u001B[0m \u001B[38;5;28;01mreturn\u001B[39;00m \u001B[38;5;28;43mself\u001B[39;49m\u001B[38;5;241;43m.\u001B[39;49m\u001B[43m_apply\u001B[49m\u001B[43m(\u001B[49m\u001B[43mwindow_func\u001B[49m\u001B[43m,\u001B[49m\u001B[43m \u001B[49m\u001B[43mname\u001B[49m\u001B[38;5;241;43m=\u001B[39;49m\u001B[38;5;124;43m\"\u001B[39;49m\u001B[38;5;124;43mmean\u001B[39;49m\u001B[38;5;124;43m\"\u001B[39;49m\u001B[43m,\u001B[49m\u001B[43m \u001B[49m\u001B[43mnumeric_only\u001B[49m\u001B[38;5;241;43m=\u001B[39;49m\u001B[43mnumeric_only\u001B[49m\u001B[43m)\u001B[49m\n",
      "File \u001B[1;32m~\\PycharmProjects\\fresco-updates\\venv\\Lib\\site-packages\\pandas\\core\\window\\rolling.py:614\u001B[0m, in \u001B[0;36mBaseWindow._apply\u001B[1;34m(self, func, name, numeric_only, numba_args, **kwargs)\u001B[0m\n\u001B[0;32m    611\u001B[0m     \u001B[38;5;28;01mreturn\u001B[39;00m result\n\u001B[0;32m    613\u001B[0m \u001B[38;5;28;01mif\u001B[39;00m \u001B[38;5;28mself\u001B[39m\u001B[38;5;241m.\u001B[39mmethod \u001B[38;5;241m==\u001B[39m \u001B[38;5;124m\"\u001B[39m\u001B[38;5;124msingle\u001B[39m\u001B[38;5;124m\"\u001B[39m:\n\u001B[1;32m--> 614\u001B[0m     \u001B[38;5;28;01mreturn\u001B[39;00m \u001B[38;5;28;43mself\u001B[39;49m\u001B[38;5;241;43m.\u001B[39;49m\u001B[43m_apply_blockwise\u001B[49m\u001B[43m(\u001B[49m\u001B[43mhomogeneous_func\u001B[49m\u001B[43m,\u001B[49m\u001B[43m \u001B[49m\u001B[43mname\u001B[49m\u001B[43m,\u001B[49m\u001B[43m \u001B[49m\u001B[43mnumeric_only\u001B[49m\u001B[43m)\u001B[49m\n\u001B[0;32m    615\u001B[0m \u001B[38;5;28;01melse\u001B[39;00m:\n\u001B[0;32m    616\u001B[0m     \u001B[38;5;28;01mreturn\u001B[39;00m \u001B[38;5;28mself\u001B[39m\u001B[38;5;241m.\u001B[39m_apply_tablewise(homogeneous_func, name, numeric_only)\n",
      "File \u001B[1;32m~\\PycharmProjects\\fresco-updates\\venv\\Lib\\site-packages\\pandas\\core\\window\\rolling.py:486\u001B[0m, in \u001B[0;36mBaseWindow._apply_blockwise\u001B[1;34m(self, homogeneous_func, name, numeric_only)\u001B[0m\n\u001B[0;32m    484\u001B[0m     arr \u001B[38;5;241m=\u001B[39m \u001B[38;5;28mself\u001B[39m\u001B[38;5;241m.\u001B[39m_prep_values(arr)\n\u001B[0;32m    485\u001B[0m \u001B[38;5;28;01mexcept\u001B[39;00m (\u001B[38;5;167;01mTypeError\u001B[39;00m, \u001B[38;5;167;01mNotImplementedError\u001B[39;00m) \u001B[38;5;28;01mas\u001B[39;00m err:\n\u001B[1;32m--> 486\u001B[0m     \u001B[38;5;28;01mraise\u001B[39;00m DataError(\n\u001B[0;32m    487\u001B[0m         \u001B[38;5;124mf\u001B[39m\u001B[38;5;124m\"\u001B[39m\u001B[38;5;124mCannot aggregate non-numeric type: \u001B[39m\u001B[38;5;132;01m{\u001B[39;00marr\u001B[38;5;241m.\u001B[39mdtype\u001B[38;5;132;01m}\u001B[39;00m\u001B[38;5;124m\"\u001B[39m\n\u001B[0;32m    488\u001B[0m     ) \u001B[38;5;28;01mfrom\u001B[39;00m \u001B[38;5;21;01merr\u001B[39;00m\n\u001B[0;32m    489\u001B[0m res \u001B[38;5;241m=\u001B[39m homogeneous_func(arr)\n\u001B[0;32m    490\u001B[0m res_values\u001B[38;5;241m.\u001B[39mappend(res)\n",
      "\u001B[1;31mDataError\u001B[0m: Cannot aggregate non-numeric type: datetime64[us]"
     ]
    }
   ],
   "source": [
    "%matplotlib inline\n",
    "nu.display_plots()"
   ]
  }
 ],
 "metadata": {
  "kernelspec": {
   "display_name": "Python 3 (ipykernel)",
   "language": "python",
   "name": "python3"
  },
  "language_info": {
   "codemirror_mode": {
    "name": "ipython",
    "version": 3
   },
   "file_extension": ".py",
   "mimetype": "text/x-python",
   "name": "python",
   "nbconvert_exporter": "python",
   "pygments_lexer": "ipython3",
   "version": "3.11.4"
  }
 },
 "nbformat": 4,
 "nbformat_minor": 5
}

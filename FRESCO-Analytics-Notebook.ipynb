{
 "cells": [
  {
   "cell_type": "markdown",
   "id": "a077160a",
   "metadata": {},
   "source": [
    "# FRESCO Anvil Database Access and Analytics Notebook\n",
    "\n",
    "## Overview\n",
    "\n",
    "The FRESCO Analytics Notebook is tailored for effortless analysis of the Anvil dataset. It offers functionalities to:\n",
    "\n",
    "- Extract filtered data from the Anvil database.\n",
    "- Conduct statistical analyses on the filtered data.\n",
    "- Visualize the results of the analyses.\n",
    "\n",
    "The notebook is structured into three main sections:\n",
    "\n",
    "### 1. Data Filtering\n",
    "Define your analysis scope by selecting a specific datetime window. Customize your dataset further with various filters.\n",
    "\n",
    "### 2. Data Analysis Options\n",
    "Explore a range of analysis options and select the ones that align with your requirements.\n",
    "\n",
    "### 3. Data Analysis and Visualizations\n",
    "Execute the chosen analysis on the filtered dataset and visualize the outcomes.\n",
    "\n",
    "## Step-by-Step Instructions\n",
    "\n",
    "- **Cell 1:** Define the dataset's temporal boundaries. This will guide the extraction of relevant host time series and job accounting data. Additional conditions can be added for more refined data filtering.\n",
    "\n",
    "- **Cell 2:** Configure your statistical analyses by:\n",
    "  - Choosing statistics (e.g., Mean, Median).\n",
    "  - Setting a threshold for \"Ratio of Data Outside Threshold\".\n",
    "  - Selecting an interval type (Count or Time). If \"Time\" is chosen, define the time unit and interval count.\n",
    "\n",
    "- **Cell 3:** Analyze the time series data based on Cell 2 configurations and generate visualizations.\n",
    "\n",
    "## Database Table Information\n",
    "\n",
    "### Host Table\n",
    "- **jid**: Unique job identifier\n",
    "- **host**: Origin node of the data point\n",
    "- **event**: Resource usage metric type\n",
    "- **value**: Numeric value of the metric\n",
    "- **unit**: Measurement unit of the metric\n",
    "- **time**: Timestamp of the data point\n",
    "\n",
    "\n",
    "**Event Column Metrics:**\n",
    "- **cpuuser:** CPU user mode average percentage.\n",
    "- **block:** Data transfer rate to/from block devices.\n",
    "- **memused:** OS's total physical memory usage.\n",
    "- **memused_minus_diskcache:** Physical memory usage excluding caches.\n",
    "- **gpu_usage:** GPU active time average percentage (only for GPU jobs).\n",
    "- **nfs:** Data transfer rate over NFS mounts.\n",
    "\n",
    "### Job Table\n",
    "- **account**: Account or project name\n",
    "- **jid**: Unique job identifier\n",
    "- **ncores**: Total cores assigned to the job\n",
    "- **ngpus**: Total GPUs assigned to the job\n",
    "- **nhosts**: Number of nodes assigned to the job\n",
    "- **timelimit**: Requested job duration (in seconds)\n",
    "- **queue**: Job submission queue name\n",
    "- **end_time**: Job end time\n",
    "- **start_time**: Job start time\n",
    "- **submit_time**: Job submission time\n",
    "- **username**: Job owner's name\n",
    "- **exitcode**: Job's exit status\n",
    "- **host_list**: List of nodes the job ran on\n",
    "- **jobname**: Job's name"
   ]
  },
  {
   "cell_type": "code",
   "execution_count": 2,
   "id": "1412ebc2",
   "metadata": {
    "ExecuteTime": {
     "end_time": "2023-09-10T01:19:01.028887300Z",
     "start_time": "2023-09-10T01:18:59.584556900Z"
    },
    "scrolled": false
   },
   "outputs": [
    {
     "data": {
      "application/vnd.jupyter.widget-view+json": {
       "model_id": "47a84829dc5a4ea0b0eee089ed6343db",
       "version_major": 2,
       "version_minor": 0
      },
      "text/plain": [
       "GridBox(children=(VBox(children=(HTML(value='<h1>Query the Host Data Table</h1>'), HTML(value='<h5>Please sele…"
      ]
     },
     "metadata": {},
     "output_type": "display_data"
    }
   ],
   "source": [
    "import notebook_functions as nbf\n",
    "import matplotlib.pyplot as plt\n",
    "import pandas as pd\n",
    "import ipywidgets as widgets\n",
    "from datetime import datetime\n",
    "from IPython.display import display, clear_output, HTML\n",
    "\n",
    "time_series_df, host_data_sql_query = nbf.display_widgets()\n"
   ]
  },
  {
   "cell_type": "code",
   "execution_count": 3,
   "id": "7cbd8007",
   "metadata": {
    "ExecuteTime": {
     "end_time": "2023-09-04T18:13:20.298050200Z",
     "start_time": "2023-09-04T18:13:20.232377500Z"
    }
   },
   "outputs": [
    {
     "name": "stdout",
     "output_type": "stream",
     "text": [
      "Please select a statistic to calculate.\n"
     ]
    },
    {
     "data": {
      "application/vnd.jupyter.widget-view+json": {
       "model_id": "7a648c494887435aac8697ce7479cfed",
       "version_major": 2,
       "version_minor": 0
      },
      "text/plain": [
       "SelectMultiple(description='Statistics', index=(0,), options=('None', 'Mean', 'Median', 'Standard Deviation', …"
      ]
     },
     "metadata": {},
     "output_type": "display_data"
    },
    {
     "name": "stdout",
     "output_type": "stream",
     "text": [
      "Please provide the threshold if 'Ratio of Data Outside Threshold' was selected.\n"
     ]
    },
    {
     "data": {
      "application/vnd.jupyter.widget-view+json": {
       "model_id": "2e41901d5c22460e8259863564453147",
       "version_major": 2,
       "version_minor": 0
      },
      "text/plain": [
       "IntText(value=0, description='Value:', disabled=True)"
      ]
     },
     "metadata": {},
     "output_type": "display_data"
    },
    {
     "name": "stdout",
     "output_type": "stream",
     "text": [
      "Please select an interval type to use in the statistic calculation. If count is selected, the interval will correspond to a count of rows. If time is selected, the interval will be a time window.\n"
     ]
    },
    {
     "data": {
      "application/vnd.jupyter.widget-view+json": {
       "model_id": "4a744ac4e52645e8a8a1c9b4d9bc5e6f",
       "version_major": 2,
       "version_minor": 0
      },
      "text/plain": [
       "Dropdown(description='Interval Type', disabled=True, options=('None', 'Count', 'Time'), value='None')"
      ]
     },
     "metadata": {},
     "output_type": "display_data"
    },
    {
     "name": "stdout",
     "output_type": "stream",
     "text": [
      "If time was selected, please select the unit of time.\n"
     ]
    },
    {
     "data": {
      "application/vnd.jupyter.widget-view+json": {
       "model_id": "0b327d6062f847789d7fa1179d30b004",
       "version_major": 2,
       "version_minor": 0
      },
      "text/plain": [
       "Dropdown(description='Interval Unit', disabled=True, options=('None', 'Days', 'Hours', 'Minutes', 'Seconds'), …"
      ]
     },
     "metadata": {},
     "output_type": "display_data"
    },
    {
     "name": "stdout",
     "output_type": "stream",
     "text": [
      "Please provide the interval count.\n"
     ]
    },
    {
     "data": {
      "application/vnd.jupyter.widget-view+json": {
       "model_id": "9d21a383617b4dba90cb9f17bb829def",
       "version_major": 2,
       "version_minor": 0
      },
      "text/plain": [
       "IntText(value=0, description='Value:', disabled=True)"
      ]
     },
     "metadata": {},
     "output_type": "display_data"
    }
   ],
   "source": [
    "try:\n",
    "    stats = widgets.SelectMultiple(\n",
    "        options=['None', 'Mean', 'Median', 'Standard Deviation', 'PDF', 'CDF', 'Ratio of Data Outside Threshold'],\n",
    "        value=['None'],\n",
    "        description='Statistics',\n",
    "        disabled=False\n",
    "    )\n",
    "\n",
    "    ratio_threshold = widgets.IntText(\n",
    "        value=0,\n",
    "        description='Value:',\n",
    "        disabled=True  # disabled by default\n",
    "    )\n",
    "\n",
    "    interval_type = widgets.Dropdown(\n",
    "        options=['None', 'Count', 'Time'],\n",
    "        value='None',\n",
    "        description='Interval Type',\n",
    "        disabled=True  # disabled by default\n",
    "    )\n",
    "\n",
    "    time_units = widgets.Dropdown(\n",
    "        options=['None', 'Days', 'Hours', 'Minutes', 'Seconds'],\n",
    "        value='None',\n",
    "        description='Interval Unit',\n",
    "        disabled=True  # disabled by default\n",
    "    )\n",
    "\n",
    "    time_value = widgets.IntText(\n",
    "        value=0,\n",
    "        description='Value:',\n",
    "        disabled=True  # disabled by default\n",
    "    )\n",
    "\n",
    "    # Define a function to be called when stats value changes\n",
    "    def on_stats_change(change):\n",
    "        if change['type'] == 'change' and change['name'] == 'value':\n",
    "            if \"Ratio of Data Outside Threshold\" in change['new']:\n",
    "                # enable ratio_threshold if 'Ratio of Data Outside Threshold' is selected\n",
    "                ratio_threshold.disabled = False\n",
    "            else:\n",
    "                # disable ratio_threshold if 'Ratio of Data Outside Threshold' is not selected\n",
    "                ratio_threshold.disabled = True\n",
    "\n",
    "            if change['new'][0] != \"None\":\n",
    "                # enable interval_type if stats is not None\n",
    "                interval_type.disabled = False\n",
    "            else:\n",
    "                # disable interval_type if stats is None\n",
    "                interval_type.disabled = True\n",
    "                interval_type.value = 'None'  # reset interval_type to 'None'\n",
    "\n",
    "    stats.observe(on_stats_change)\n",
    "\n",
    "    # Define a function to be called when interval_type value changes\n",
    "    def on_interval_type_change(change):\n",
    "        if change['type'] == 'change' and change['name'] == 'value':\n",
    "            if change['new'] == \"None\":\n",
    "                time_units.disabled = True\n",
    "                time_value.disabled = True\n",
    "                time_units.value = 'None'  # reset time_units to 'None'\n",
    "                time_value.value = 0  # reset time_value to 0\n",
    "            elif change['new'] == \"Time\":\n",
    "                time_units.disabled = False\n",
    "                time_value.disabled = False\n",
    "            elif change['new'] == \"Count\":\n",
    "                time_units.disabled = True\n",
    "                time_value.disabled = False\n",
    "            else:\n",
    "                time_units.disabled = False\n",
    "                time_value.disabled = False\n",
    "\n",
    "    interval_type.observe(on_interval_type_change)\n",
    "\n",
    "    # Display the widgets\n",
    "    print(\"Please select a statistic to calculate.\")\n",
    "    display(stats)\n",
    "    print(\"Please provide the threshold if 'Ratio of Data Outside Threshold' was selected.\")\n",
    "    display(ratio_threshold)\n",
    "    print(\"Please select an interval type to use in the statistic calculation. If count is selected, the interval will correspond to a count of rows. If time is selected, the interval will be a time window.\")\n",
    "    display(interval_type)\n",
    "    print(\"If time was selected, please select the unit of time.\")\n",
    "    display(time_units)\n",
    "    print(\"Please provide the interval count.\")\n",
    "    display(time_value)\n",
    "\n",
    "    time_series_df = nbf.remove_columns(time_series_df)\n",
    "except NameError:\n",
    "    print(\"ERROR: Please make sure to run the previous notebook cell before executing this one.\")"
   ]
  },
  {
   "cell_type": "code",
   "execution_count": 4,
   "id": "303e0a53",
   "metadata": {
    "is_executing": true
   },
   "outputs": [
    {
     "name": "stdout",
     "output_type": "stream",
     "text": [
      "\n",
      "ERROR: Please make sure to run the previous notebook cells before executing this one.\n"
     ]
    }
   ],
   "source": [
    "try:\n",
    "    %matplotlib inline\n",
    "    # Convert the 'time' columns to datetime\n",
    "    try:\n",
    "        time_series_df['time'] = pd.to_datetime(time_series_df['time'])\n",
    "        time_series_df = time_series_df.set_index('time')\n",
    "        time_series_df = time_series_df.sort_index()\n",
    "    except Exception as e:\n",
    "        print(\"\")\n",
    "\n",
    "    metric_func_map = {\n",
    "        \"Mean\": nbf.get_mean if \"Mean\" in stats.value else \"\",\n",
    "        \"Median\": nbf.get_median if \"Median\" in stats.value else \"\",\n",
    "        \"Standard Deviation\": nbf.get_standard_deviation if \"Standard Deviation\" in stats.value else \"\",\n",
    "        \"PDF\": nbf.plot_pdf if \"PDF\" in stats.value else \"\",\n",
    "        \"CDF\": nbf.plot_cdf if \"CDF\" in stats.value else \"\",\n",
    "        \"Ratio of Data Outside Threshold\": nbf.plot_data_points_outside_threshold if 'Ratio of Data Outside Threshold' in stats.value else \"\"\n",
    "    }\n",
    "\n",
    "    unit_map = {\n",
    "        \"CPU %\": \"cpuuser\",\n",
    "        \"GPU %\": \"gpu_usage\",\n",
    "        \"GB:memused\": \"memused\",\n",
    "        \"GB:memused_minus_diskcache\": \"memused_minus_diskcache\",\n",
    "        \"GB/s\": \"block\",\n",
    "        \"MB/s\": \"nfs\"\n",
    "    }\n",
    "\n",
    "    units = nbf.parse_host_data_query(host_data_sql_query, unit_map)  # get units requested in SQL query\n",
    "\n",
    "    # set up outputs and tabbed layout\n",
    "    tab = widgets.Tab()\n",
    "    outputs = {}\n",
    "    stat_values = []\n",
    "    basic_stats = ['Mean', 'Median', 'Standard Deviation']\n",
    "\n",
    "    # Populate the outputs dictionary\n",
    "    for unit in units:\n",
    "        outputs[unit] = {}\n",
    "        if any(stat in stats.value for stat in basic_stats):\n",
    "            for stat in stats.value + ('Box and Whisker',):\n",
    "                outputs[unit][stat] = widgets.Output()\n",
    "        else:\n",
    "            for stat in stats.value:\n",
    "                outputs[unit][stat] = widgets.Output()\n",
    "\n",
    "    # set the tab children\n",
    "    if any(stat in stats.value for stat in basic_stats):\n",
    "        tab.children = [widgets.Accordion([widgets.Box([widgets.Label(stat), outputs[unit][stat]]) for stat in stats.value + ('Box and Whisker',)], titles=stats.value + ('Box and Whisker',)) for unit in units]\n",
    "    else:\n",
    "        tab.children = [widgets.Accordion([widgets.Box([widgets.Label(stat), outputs[unit][stat]]) for stat in stats.value], titles=stats.value) for unit in units]\n",
    "\n",
    "    tab.titles = units\n",
    "\n",
    "    with plt.style.context('fivethirtyeight'):\n",
    "        unit_stat_dfs = {}\n",
    "        time_map = {'Days': 'D', 'Hours': 'H', 'Minutes': 'T', 'Seconds': 'S'}\n",
    "        for unit in units:\n",
    "            unit_stat_dfs[unit] = {}\n",
    "            for metric in stats.value:\n",
    "                metric_df = time_series_df.query(f\"`event` == '{unit_map[unit]}'\")\n",
    "                rolling = False\n",
    "\n",
    "                # Calculate stats\n",
    "                if interval_type.value == \"Time\":\n",
    "                    rolling = True\n",
    "                    window = f\"{time_value.value}{time_map[time_units.value]}\"\n",
    "                elif interval_type.value == \"Count\":\n",
    "                    rolling = True\n",
    "                    window = time_value.value\n",
    "\n",
    "                # Handle special cases outside the rolling condition\n",
    "                if metric == \"PDF\":\n",
    "                    with outputs[unit][metric]:\n",
    "                        unit_stat_dfs[unit][metric] = metric_func_map[metric](metric_df)\n",
    "                    continue\n",
    "                elif metric == \"CDF\":\n",
    "                    with outputs[unit][metric]:\n",
    "                        unit_stat_dfs[unit][metric] = metric_func_map[metric](metric_df)\n",
    "                    continue\n",
    "                elif metric == \"Ratio of Data Outside Threshold\":\n",
    "                    with outputs[unit][metric]:\n",
    "                        unit_stat_dfs[unit][metric] = metric_func_map[metric](ratio_threshold.value, metric_df)\n",
    "                    continue\n",
    "\n",
    "                # Only calculate and plot basic stats if rolling is True\n",
    "                if rolling:\n",
    "                    unit_stat_dfs[unit][metric] = metric_func_map[metric](metric_df, rolling=True, window=window)\n",
    "\n",
    "                    # Plot stats\n",
    "                    with outputs[unit][metric]:\n",
    "                        unit_stat_dfs[unit][metric].plot()\n",
    "                        x_axis_label = \"\"\n",
    "                        if interval_type.value == \"Count\":\n",
    "                            x_axis_label += f\"Count - Rolling Window: {time_value.value} Rows\"\n",
    "                        elif interval_type.value == \"Time\":\n",
    "                            x_axis_label += f\"Timestamp - Rolling Window: {time_value.value}{time_map[time_units.value]}\"\n",
    "                        y_axis_label = unit\n",
    "                        plt.gcf().autofmt_xdate()  # auto formats datetimes\n",
    "                        plt.style.use('fivethirtyeight')\n",
    "                        plt.title(f\"{unit} {metric}\")\n",
    "                        plt.legend(loc='upper left', fontsize=\"10\")\n",
    "                        plt.xlabel(x_axis_label)\n",
    "                        plt.ylabel(y_axis_label)\n",
    "                        plt.show()\n",
    "\n",
    "            # Get the stats dataframes\n",
    "            df_mean = unit_stat_dfs[unit].get('Mean')\n",
    "            df_std = unit_stat_dfs[unit].get('Standard Deviation')\n",
    "            df_median = unit_stat_dfs[unit].get('Median')\n",
    "\n",
    "            # Plot box and whisker\n",
    "            if any(df is not None for df in [df_mean, df_std, df_median]):\n",
    "                with outputs[unit]['Box and Whisker']:\n",
    "                    nbf.plot_box_and_whisker(df_mean, df_std, df_median)\n",
    "\n",
    "        display(tab)\n",
    "except NameError:\n",
    "    print(\"ERROR: Please make sure to run the previous notebook cells before executing this one.\")"
   ]
  },
  {
   "cell_type": "code",
   "execution_count": null,
   "id": "a87e2db6-e306-4811-8dc6-c550936f20a7",
   "metadata": {
    "tags": []
   },
   "outputs": [],
   "source": [
    "try:\n",
    "    def on_selection_change(change):\n",
    "        if len(change.new) > 2:\n",
    "            correlations.value = change.new[:2]\n",
    "\n",
    "    def on_button_click(button):\n",
    "        graph_output.clear_output()\n",
    "        with graph_output:\n",
    "            with plt.style.context('fivethirtyeight'):\n",
    "                display(nbf.calculate_and_plot_correlation(time_series_df, correlations.value))\n",
    "\n",
    "    correlations = widgets.SelectMultiple(\n",
    "        options=['None', 'cpuuser', 'gpu_usage', 'nfs', 'block', 'memused', 'memused_minus_diskcache'],\n",
    "        value=['None'],\n",
    "        description='Metrics',\n",
    "        disabled=False\n",
    "    )\n",
    "\n",
    "    plot_button = widgets.Button(\n",
    "        description = \"Plot correlation\",\n",
    "        disabled = False,\n",
    "        icon= \"chart-line\"\n",
    "    )\n",
    "    plot_button.on_click(on_button_click)\n",
    "\n",
    "    graph_output = widgets.Output()\n",
    "\n",
    "    container = widgets.VBox(\n",
    "        [widgets.HBox([correlations, plot_button], layout = widgets.Layout(\n",
    "            width = \"50%\",\n",
    "            justify_content=\"space-between\",\n",
    "            align_items=\"center\"),),\n",
    "        graph_output])\n",
    "    correlations.observe(on_selection_change, names='value')\n",
    "\n",
    "    # Give the user the option to calculate correlations\n",
    "    print(\"Please select two metrics below to find their Pearson correlation:\")\n",
    "    display(container)\n",
    "\n",
    "except NameError:\n",
    "    print(\"ERROR: Please make sure to run the previous notebook cells before executing this one.\")\n"
   ]
  }
 ],
 "metadata": {
  "kernelspec": {
   "display_name": "Python 3 (ipykernel)",
   "language": "python",
   "name": "python3"
  },
  "language_info": {
   "codemirror_mode": {
    "name": "ipython",
    "version": 3
   },
   "file_extension": ".py",
   "mimetype": "text/x-python",
   "name": "python",
   "nbconvert_exporter": "python",
   "pygments_lexer": "ipython3",
   "version": "3.11.4"
  }
 },
 "nbformat": 4,
 "nbformat_minor": 5
}

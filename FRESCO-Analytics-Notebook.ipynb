{
 "cells": [
  {
   "cell_type": "markdown",
   "id": "a077160a",
   "metadata": {},
   "source": [
    "# FRESCO Anvil Database Access and Analytics Notebook\n",
    "\n",
    "## Overview\n",
    "\n",
    "The FRESCO Analytics Notebook is tailored for effortless analysis of the Anvil dataset. It offers functionalities to:\n",
    "\n",
    "- Extract filtered data from the Anvil database.\n",
    "- Conduct statistical analyses on the filtered data.\n",
    "- Visualize the results of the analyses.\n",
    "\n",
    "The notebook is structured into three main sections:\n",
    "\n",
    "### 1. Data Filtering\n",
    "Define your analysis scope by selecting a specific datetime window. Customize your dataset further with various filters.\n",
    "\n",
    "### 2. Data Analysis Options\n",
    "Explore a range of analysis options and select the ones that align with your requirements.\n",
    "\n",
    "### 3. Data Analysis and Visualizations\n",
    "Execute the chosen analysis on the filtered dataset and visualize the outcomes.\n",
    "\n",
    "## Step-by-Step Instructions\n",
    "\n",
    "- **Cell 1:** Define the dataset's temporal boundaries. This will guide the extraction of relevant host time series and job accounting data. Additional conditions can be added for more refined data filtering.\n",
    "\n",
    "- **Cell 2:** Configure your statistical analyses by:\n",
    "  - Choosing statistics (e.g., Mean, Median).\n",
    "  - Setting a threshold for \"Ratio of Data Outside Threshold\".\n",
    "  - Selecting an interval type (Count or Time). If \"Time\" is chosen, define the time unit and interval count.\n",
    "\n",
    "- **Cell 3:** Analyze the time series data based on Cell 2 configurations and generate visualizations.\n",
    "\n",
    "## Database Table Information\n",
    "\n",
    "### Host Table\n",
    "- **jid**: Unique job identifier\n",
    "- **host**: Origin node of the data point\n",
    "- **event**: Resource usage metric type\n",
    "- **value**: Numeric value of the metric\n",
    "- **unit**: Measurement unit of the metric\n",
    "- **time**: Timestamp of the data point\n",
    "\n",
    "\n",
    "**Event Column Metrics:**\n",
    "- **cpuuser:** CPU user mode average percentage.\n",
    "- **block:** Data transfer rate to/from block devices.\n",
    "- **memused:** OS's total physical memory usage.\n",
    "- **memused_minus_diskcache:** Physical memory usage excluding caches.\n",
    "- **gpu_usage:** GPU active time average percentage (only for GPU jobs).\n",
    "- **nfs:** Data transfer rate over NFS mounts.\n",
    "\n",
    "### Job Table\n",
    "- **account**: Account or project name\n",
    "- **jid**: Unique job identifier\n",
    "- **ncores**: Total cores assigned to the job\n",
    "- **ngpus**: Total GPUs assigned to the job\n",
    "- **nhosts**: Number of nodes assigned to the job\n",
    "- **timelimit**: Requested job duration (in seconds)\n",
    "- **queue**: Job submission queue name\n",
    "- **end_time**: Job end time\n",
    "- **start_time**: Job start time\n",
    "- **submit_time**: Job submission time\n",
    "- **username**: Job owner's name\n",
    "- **exitcode**: Job's exit status\n",
    "- **host_list**: List of nodes the job ran on\n",
    "- **jobname**: Job's name"
   ]
  },
  {
   "cell_type": "code",
   "execution_count": 1,
   "id": "1412ebc2",
   "metadata": {
    "scrolled": false
   },
   "outputs": [
    {
     "data": {
      "application/vnd.jupyter.widget-view+json": {
       "model_id": "744d057b903a4b9dbd6b0bf2f0f8c4c4",
       "version_major": 2,
       "version_minor": 0
      },
      "text/plain": [
       "GridBox(children=(VBox(children=(HTML(value='<h1>Query the Host Data Table</h1>'), HTML(value='<h4>Select star…"
      ]
     },
     "metadata": {},
     "output_type": "display_data"
    },
    {
     "name": "stdout",
     "output_type": "stream",
     "text": [
      "\n"
     ]
    }
   ],
   "source": [
    "from notebook_utilities import NotebookUtilities\n",
    "\n",
    "nu = NotebookUtilities()"
   ]
  },
  {
   "cell_type": "code",
   "execution_count": null,
   "id": "7cbd8007",
   "metadata": {
    "ExecuteTime": {
     "end_time": "2023-09-04T18:13:20.298050200Z",
     "start_time": "2023-09-04T18:13:20.232377500Z"
    }
   },
   "outputs": [],
   "source": [
    "nu.display_statistics_widgets()"
   ]
  },
  {
   "cell_type": "code",
   "execution_count": null,
   "id": "303e0a53",
   "metadata": {
    "is_executing": true,
    "scrolled": false
   },
   "outputs": [],
   "source": [
    "%matplotlib inline\n",
    "nu.display_plots()"
   ]
  },
  {
   "cell_type": "code",
   "execution_count": null,
   "id": "a87e2db6-e306-4811-8dc6-c550936f20a7",
   "metadata": {
    "tags": []
   },
   "outputs": [],
   "source": [
    "nu.pearson_correlation()"
   ]
  }
 ],
 "metadata": {
  "kernelspec": {
   "display_name": "Python 3 (ipykernel)",
   "language": "python",
   "name": "python3"
  },
  "language_info": {
   "codemirror_mode": {
    "name": "ipython",
    "version": 3
   },
   "file_extension": ".py",
   "mimetype": "text/x-python",
   "name": "python",
   "nbconvert_exporter": "python",
   "pygments_lexer": "ipython3",
   "version": "3.11.4"
  }
 },
 "nbformat": 4,
 "nbformat_minor": 5
}

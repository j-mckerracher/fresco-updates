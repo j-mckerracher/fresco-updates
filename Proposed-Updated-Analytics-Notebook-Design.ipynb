{
 "cells": [
  {
   "cell_type": "markdown",
   "id": "64f51439",
   "metadata": {},
   "source": [
    "## FRESCO Analytics Notebook\n",
    "### Overview\n",
    "This notebook has been designed to make analysis of the Anvil dataset as easy as possible. Generally speaking, it will allow the user to access the Anvil files stored locally, select a number of analysis options, and view the results.\n",
    "### Instructions\n",
    "1. Run the first cell and provide the complete directory path to the data in the 'Path' field.\n",
    "2. Run the second cell. If data preprocessing is needed, select the desired options. Otherwise, skip to the \"If data preprocessing options were not selected, follow these instructions\" section below.\n",
    "#### If data preprocessing options were selected, follow these instructions\n",
    "3. Run cell 3 and provide start time and end times.\n",
    "4. Run cell 4 and select the units to be included in the timeseries data.\n",
    "5. Run cell 5 and provide the desired options.\n",
    "6. Run cell 6 and provide the desired statistic.\n",
    "7. Run cell 7 and provide the desired data visualisation options.\n",
    "8. Run cell 8 to see the data visualizations.\n",
    "\n",
    "#### If data preprocessing options were not selected, follow these instructions\n",
    "3. Run cell 4 and provide start time and end times and select the units to be included in the timeseries data.\n",
    "4. Run cell 5 and provide the desired options.\n",
    "5. Run cell 6 and provide the desired statistic.\n",
    "6. Run cell 7 and provide the desired data visualisation options.\n",
    "7. Run cell 8 to see the data visualizations.\n"
   ]
  },
  {
   "cell_type": "code",
   "execution_count": 1,
   "id": "814c04de",
   "metadata": {
    "ExecuteTime": {
     "end_time": "2023-06-18T15:48:36.397211800Z",
     "start_time": "2023-06-18T15:48:32.967575200Z"
    }
   },
   "outputs": [
    {
     "name": "stdout",
     "output_type": "stream",
     "text": [
      "Please provide the directory path to the data files e.g., D:\\Data\n"
     ]
    },
    {
     "data": {
      "application/vnd.jupyter.widget-view+json": {
       "model_id": "64aecb7fe88540559c9aa37b63dde302",
       "version_major": 2,
       "version_minor": 0
      },
      "text/plain": [
       "Text(value='', description='Path:', placeholder='')"
      ]
     },
     "metadata": {},
     "output_type": "display_data"
    }
   ],
   "source": [
    "# -------------- CELL 1 --------------\n",
    "from IPython.display import display, FileLink, clear_output, display\n",
    "import ipywidgets as widgets\n",
    "import pandas as pd\n",
    "import notebook_functions as nbf\n",
    "\n",
    "print(r\"Please provide the directory path to the data files e.g., D:\\Data\")\n",
    "dir_path = widgets.Text(\n",
    "    value='',\n",
    "    placeholder='',\n",
    "    description='Path:',\n",
    "    disabled=False\n",
    ")\n",
    "display(dir_path)"
   ]
  },
  {
   "cell_type": "code",
   "execution_count": 2,
   "id": "7ff024e8",
   "metadata": {
    "ExecuteTime": {
     "end_time": "2023-06-18T15:48:47.080810200Z",
     "start_time": "2023-06-18T15:48:47.039477400Z"
    },
    "scrolled": true
   },
   "outputs": [
    {
     "name": "stdout",
     "output_type": "stream",
     "text": [
      "Data preprocessing: select either option (or both):\n"
     ]
    },
    {
     "data": {
      "application/vnd.jupyter.widget-view+json": {
       "model_id": "88dec3d5e1af42c8b76e65c7088e9283",
       "version_major": 2,
       "version_minor": 0
      },
      "text/plain": [
       "SelectMultiple(description='Preprocessing:', index=(0,), options=('None', 'Remove Rows with Missing Metrics?',…"
      ]
     },
     "metadata": {},
     "output_type": "display_data"
    }
   ],
   "source": [
    "# -------------- CELL 2 --------------\n",
    "\n",
    "data_path = nbf.get_data_files_directory(dir_path.value)\n",
    "\n",
    "print(\"Data preprocessing: select either option (or both):\")\n",
    "preprocessing = widgets.SelectMultiple(\n",
    "    options=['None', 'Remove Rows with Missing Metrics?', 'Add an Interval Column?'],\n",
    "    value=['None'],\n",
    "    description='Preprocessing:',\n",
    "    disabled=False,\n",
    ")\n",
    "\n",
    "display(preprocessing)"
   ]
  },
  {
   "cell_type": "code",
   "execution_count": 3,
   "id": "7a37a54c",
   "metadata": {
    "ExecuteTime": {
     "end_time": "2023-06-18T15:58:02.817537Z",
     "start_time": "2023-06-18T15:58:02.800889600Z"
    }
   },
   "outputs": [],
   "source": [
    "# -------------- CELL 3 --------------\n",
    "pre_proc_bools = {\"preprocess_remove\": False, \"add_interval_col\": False}\n",
    "\n",
    "for value in preprocessing.value:\n",
    "    if \"Remove\" in value or \"Add\" in value:\n",
    "        print(\"Please add the start time and end time for the data preprocessing. Please use the form YYYY-MM-DD HH:MM:SS\")\n",
    "        start_time = widgets.Text(\n",
    "            value='2022-01-01 00:01:01',\n",
    "            placeholder='',\n",
    "            description='Start Time:',\n",
    "            disabled=False\n",
    "        )\n",
    "\n",
    "        end_time = widgets.Text(\n",
    "            value='2022-01-31 23:59:59',\n",
    "            placeholder='',\n",
    "            description='End Time:',\n",
    "            disabled=False\n",
    "        )\n",
    "\n",
    "        save_button = widgets.Button(\n",
    "            description='Save',\n",
    "            disabled=False,\n",
    "            button_style='',  # 'success', 'info', 'warning', 'danger' or ''\n",
    "            tooltip='Save',\n",
    "            icon='check'  # (FontAwesome names without the `fa-` prefix)\n",
    "        )\n",
    "\n",
    "        # Function to call when the \"Save\" button is clicked\n",
    "        def on_save_button_clicked(b):\n",
    "            if nbf.validate_times(start_time.value, end_time.value, start_time, end_time, save_button):\n",
    "                b.description = \"Values Saved!\"\n",
    "                b.button_style = 'success'  # The button turns green when clicked\n",
    "            else:\n",
    "                b.button_style = ''\n",
    "                b.description = \"Save\"\n",
    "\n",
    "\n",
    "        # Set the function to call when the \"Save\" button is clicked\n",
    "        save_button.on_click(on_save_button_clicked)\n",
    "\n",
    "        display(start_time, end_time, save_button)\n",
    "        break\n",
    "\n",
    "for value in preprocessing.value:\n",
    "    if \"Remove\" in value:\n",
    "        pre_proc_bools[\"preprocess_remove\"] = True\n",
    "    if \"Add\" in value:\n",
    "        pre_proc_bools[\"add_interval_col\"] = True\n",
    "\n"
   ]
  },
  {
   "cell_type": "code",
   "execution_count": 4,
   "id": "c2bb83db",
   "metadata": {
    "ExecuteTime": {
     "end_time": "2023-06-12T19:17:32.271924900Z",
     "start_time": "2023-06-12T19:17:32.211473Z"
    }
   },
   "outputs": [
    {
     "name": "stdout",
     "output_type": "stream",
     "text": [
      "Please enter a start time and end time. Please use the form YYYY-MM-DD HH:MM:SS\n",
      "Optional: select the units to be included in the timeseries data.\n"
     ]
    },
    {
     "data": {
      "application/vnd.jupyter.widget-view+json": {
       "model_id": "15295cff31794e759e74dccc2768b459",
       "version_major": 2,
       "version_minor": 0
      },
      "text/plain": [
       "Text(value='2022-01-01 00:01:01', description='Start Time:', placeholder='')"
      ]
     },
     "metadata": {},
     "output_type": "display_data"
    },
    {
     "data": {
      "application/vnd.jupyter.widget-view+json": {
       "model_id": "88be50cba8504e5baedc19533be9a82e",
       "version_major": 2,
       "version_minor": 0
      },
      "text/plain": [
       "Text(value='2022-01-31 23:59:59', description='End Time:', placeholder='')"
      ]
     },
     "metadata": {},
     "output_type": "display_data"
    },
    {
     "data": {
      "application/vnd.jupyter.widget-view+json": {
       "model_id": "1994287b73f6428b91a39b433e5dd3ed",
       "version_major": 2,
       "version_minor": 0
      },
      "text/plain": [
       "Button(description='Save', icon='check', style=ButtonStyle(), tooltip='Save')"
      ]
     },
     "metadata": {},
     "output_type": "display_data"
    },
    {
     "data": {
      "application/vnd.jupyter.widget-view+json": {
       "model_id": "1c256a24237a4fe4bdbb1fb4c2ce6a16",
       "version_major": 2,
       "version_minor": 0
      },
      "text/plain": [
       "SelectMultiple(description='Units:', index=(0,), options=('None', 'CPU %', 'GPU %', 'GB:memused', 'GB:memused_…"
      ]
     },
     "metadata": {},
     "output_type": "display_data"
    }
   ],
   "source": [
    "# -------------- CELL 4 --------------\n",
    "\n",
    "dataframe = pd.DataFrame()\n",
    "\n",
    "if pre_proc_bools[\"preprocess_remove\"]:\n",
    "    dataframe = nbf.handle_missing_metrics(start_time.value, end_time.value, data_path)\n",
    "\n",
    "if pre_proc_bools[\"add_interval_col\"]:\n",
    "    dataframe = nbf.add_interval_column(start_time.value, end_time.value, data_path)\n",
    "\n",
    "if not pre_proc_bools[\"preprocess_remove\"] and not pre_proc_bools[\"add_interval_col\"]:\n",
    "    print(\"Please enter a start time and end time. Please use the form YYYY-MM-DD HH:MM:SS\")\n",
    "    start_time = widgets.Text(\n",
    "        value='2022-01-01 00:01:01',\n",
    "        placeholder='',\n",
    "        description='Start Time:',\n",
    "        disabled=False\n",
    "    )\n",
    "\n",
    "    end_time = widgets.Text(\n",
    "        value='2022-01-31 23:59:59',\n",
    "        placeholder='',\n",
    "        description='End Time:',\n",
    "        disabled=False\n",
    "    )\n",
    "\n",
    "    save_button = widgets.Button(\n",
    "        description='Save',\n",
    "        disabled=False,\n",
    "        button_style='',  # 'success', 'info', 'warning', 'danger' or ''\n",
    "        tooltip='Save',\n",
    "        icon='check'  # (FontAwesome names without the `fa-` prefix)\n",
    "    )\n",
    "\n",
    "    print(\"Optional: select the units to be included in the timeseries data.\")\n",
    "    units = widgets.SelectMultiple(\n",
    "        options=['None', 'CPU %', 'GPU %', 'GB:memused', 'GB:memused_minus_diskcache', 'GB/s', 'MB/s'],\n",
    "        value=['None'],\n",
    "        description='Units:',\n",
    "        disabled=False,\n",
    "    )\n",
    "\n",
    "    # Function to call when the \"Save\" button is clicked\n",
    "    def on_save_button_clicked(b):\n",
    "        if nbf.validate_times(start_time.value, end_time.value, start_time, end_time, save_button, unit_widget=units):\n",
    "            b.description = \"Values Saved!\"\n",
    "            b.button_style = 'success'  # The button turns green when clicked\n",
    "\n",
    "    # Set the function to call when the \"Save\" button is clicked\n",
    "    save_button.on_click(on_save_button_clicked)\n",
    "\n",
    "    display(start_time, end_time, save_button, units)\n"
   ]
  },
  {
   "cell_type": "code",
   "execution_count": 5,
   "id": "b1cb487b",
   "metadata": {
    "ExecuteTime": {
     "end_time": "2023-06-12T19:17:39.877534800Z",
     "start_time": "2023-06-12T19:17:39.760932700Z"
    }
   },
   "outputs": [
    {
     "name": "stdout",
     "output_type": "stream",
     "text": [
      "Optional: provide the hosts to be included in the timeseries data e.g., 'NODE1, NODE2'\n"
     ]
    },
    {
     "data": {
      "application/vnd.jupyter.widget-view+json": {
       "model_id": "e742475e922c452fa4b71e790a8c54ec",
       "version_major": 2,
       "version_minor": 0
      },
      "text/plain": [
       "Text(value='', description='Hosts:', placeholder='')"
      ]
     },
     "metadata": {},
     "output_type": "display_data"
    },
    {
     "name": "stdout",
     "output_type": "stream",
     "text": [
      "Optional: provide the jobs to be included in the timeseries data e.g., 'JOB1, JOB2'\n"
     ]
    },
    {
     "data": {
      "application/vnd.jupyter.widget-view+json": {
       "model_id": "03cad50cc6214e49b50cc54f761360b3",
       "version_major": 2,
       "version_minor": 0
      },
      "text/plain": [
       "Text(value='', description='Jobs:', placeholder='')"
      ]
     },
     "metadata": {},
     "output_type": "display_data"
    },
    {
     "name": "stdout",
     "output_type": "stream",
     "text": [
      "Optional: select if you want the account logs to be returned for the Job IDs matching your query.\n"
     ]
    },
    {
     "data": {
      "application/vnd.jupyter.widget-view+json": {
       "model_id": "a80f882a4f1b447cbba97e62ac402496",
       "version_major": 2,
       "version_minor": 0
      },
      "text/plain": [
       "ToggleButton(value=False, description='Account Logs', icon='check', tooltip='Return Account Logs?')"
      ]
     },
     "metadata": {},
     "output_type": "display_data"
    },
    {
     "name": "stdout",
     "output_type": "stream",
     "text": [
      "Optional: select the columns to be included in the timeseries data (hold control to select multiple). If no columns are selected, all columns will be included.\n"
     ]
    },
    {
     "data": {
      "application/vnd.jupyter.widget-view+json": {
       "model_id": "8dea376ef5a246a7a755f3c9c4a63d68",
       "version_major": 2,
       "version_minor": 0
      },
      "text/plain": [
       "SelectMultiple(description='Return Columns', index=(0,), options=('None', 'Job Id', 'Hosts', 'Events', 'Units'…"
      ]
     },
     "metadata": {},
     "output_type": "display_data"
    }
   ],
   "source": [
    "# -------------- CELL 5 --------------\n",
    "\n",
    "unit_values = {}  # stores user low and high value user input such that: key = a unit from the units list above /// value = (low_value, high_value)\n",
    "\n",
    "for value in units.value:\n",
    "    if value != 'None':\n",
    "        nbf.setup_widgets(unit_values, value)\n",
    "\n",
    "print(\"Optional: provide the hosts to be included in the timeseries data e.g., 'NODE1, NODE2'\")\n",
    "hosts = widgets.Text(\n",
    "    value='',\n",
    "    placeholder='',\n",
    "    description='Hosts:',\n",
    "    disabled=False\n",
    ")\n",
    "display(hosts)\n",
    "\n",
    "print(\"Optional: provide the jobs to be included in the timeseries data e.g., 'JOB1, JOB2'\")\n",
    "job_ids = widgets.Text(\n",
    "    value='',\n",
    "    placeholder='',\n",
    "    description='Jobs:',\n",
    "    disabled=False\n",
    ")\n",
    "display(job_ids)\n",
    "\n",
    "print(\"Optional: select if you want the account logs to be returned for the Job IDs matching your query.\")\n",
    "return_account_logs = widgets.ToggleButton(\n",
    "    value=False,\n",
    "    description='Account Logs',\n",
    "    disabled=False,\n",
    "    button_style='',\n",
    "    tooltip='Return Account Logs?',\n",
    "    icon='check'\n",
    ")\n",
    "display(return_account_logs)\n",
    "\n",
    "print(\"Optional: select the columns to be included in the timeseries data (hold control to select multiple). If no columns are \"\n",
    "      \"selected, all columns will be included.\")\n",
    "timeseries_return_columns = widgets.SelectMultiple(\n",
    "    options=['None', 'Job Id', 'Hosts', 'Events', 'Units', 'Values', 'Timestamps'],\n",
    "    value=['None'],\n",
    "    description='Return Columns',\n",
    "    disabled=False\n",
    ")\n",
    "display(timeseries_return_columns)"
   ]
  },
  {
   "cell_type": "code",
   "execution_count": 8,
   "id": "4f5b1281",
   "metadata": {},
   "outputs": [
    {
     "ename": "TypeError",
     "evalue": "get_timeseries_by_values_and_unit() missing 2 required positional arguments: 'low_value' and 'high_value'",
     "output_type": "error",
     "traceback": [
      "\u001B[1;31m---------------------------------------------------------------------------\u001B[0m",
      "\u001B[1;31mTypeError\u001B[0m                                 Traceback (most recent call last)",
      "Cell \u001B[1;32mIn[8], line 6\u001B[0m\n\u001B[0;32m      3\u001B[0m nbf\u001B[38;5;241m.\u001B[39mget_timeseries_by_timestamp(start_time\u001B[38;5;241m.\u001B[39mvalue, end_time\u001B[38;5;241m.\u001B[39mvalue, timeseries_return_columns\u001B[38;5;241m.\u001B[39mvalue)\n\u001B[0;32m      5\u001B[0m \u001B[38;5;28;01mif\u001B[39;00m units\u001B[38;5;241m.\u001B[39mvalue \u001B[38;5;241m!=\u001B[39m \u001B[38;5;124m\"\u001B[39m\u001B[38;5;124mNone\u001B[39m\u001B[38;5;124m\"\u001B[39m:\n\u001B[1;32m----> 6\u001B[0m     \u001B[43mnbf\u001B[49m\u001B[38;5;241;43m.\u001B[39;49m\u001B[43mget_timeseries_by_values_and_unit\u001B[49m\u001B[43m(\u001B[49m\u001B[43munit_values\u001B[49m\u001B[43m)\u001B[49m\n\u001B[0;32m      8\u001B[0m \u001B[38;5;28;01mif\u001B[39;00m \u001B[38;5;28mlen\u001B[39m(hosts\u001B[38;5;241m.\u001B[39mvalue) \u001B[38;5;241m>\u001B[39m \u001B[38;5;241m0\u001B[39m:\n\u001B[0;32m      9\u001B[0m     nbf\u001B[38;5;241m.\u001B[39mget_timeseries_by_hosts(hosts\u001B[38;5;241m.\u001B[39mvalue)\n",
      "\u001B[1;31mTypeError\u001B[0m: get_timeseries_by_values_and_unit() missing 2 required positional arguments: 'low_value' and 'high_value'"
     ]
    }
   ],
   "source": [
    "# -------------- CELL 6 --------------\n",
    "\n",
    "nbf.get_timeseries_by_timestamp(start_time.value, end_time.value, timeseries_return_columns.value)\n",
    "\n",
    "if units.value != \"None\":\n",
    "    nbf.get_timeseries_by_values_and_unit(unit_values)\n",
    "\n",
    "if len(hosts.value) > 0:\n",
    "    nbf.get_timeseries_by_hosts(hosts.value)\n",
    "    \n",
    "if len(job_ids.value) > 0:\n",
    "    nbf.get_account_logs_by_job_ids(job_ids.value)\n",
    "\n",
    "if return_account_logs:\n",
    "    nbf.get_account_logs_by_job_ids()\n",
    "\n",
    "print(\"Do you want to download the filtered data?\")\n",
    "# Create download button\n",
    "download_button = widgets.Button(description=\"Download Data\")\n",
    "\n",
    "def on_button_clicked(b):\n",
    "    # Create download link when button is clicked and display link\n",
    "    display(nbf.create_download_link(dataframe))\n",
    "\n",
    "download_button.on_click(on_button_clicked)\n",
    "display(download_button)\n",
    "\n",
    "print(\"Please select which statistics to be calculated:\")\n",
    "stats = widgets.SelectMultiple(\n",
    "    options=['Average', 'Mean', 'Median', 'Standard Deviation', 'PDF', 'CDF', 'Ratio of Data Outside Threshold'],\n",
    "    value=['Mean'],\n",
    "    description='Statistics',\n",
    "    disabled=False\n",
    ")\n",
    "display(stats)"
   ]
  },
  {
   "cell_type": "code",
   "execution_count": null,
   "id": "58e03c05",
   "metadata": {},
   "outputs": [],
   "source": [
    "# -------------- CELL 7 --------------\n",
    "\n",
    "# Display statistical data here\n",
    "\n",
    "\n",
    "# Give the user the option to calculate correlations\n",
    "print(\"If you would like to explore correlations among metrics and statistics, select from the options below:\")\n",
    "\n",
    "correlations = widgets.SelectMultiple(\n",
    "    options=['None', 'CPU %', 'GPU %', 'GB(memused_minus_diskcache)', 'GB(memused)', 'GB/s', 'MB/s'],\n",
    "    value=['None'],\n",
    "    description='Metrics',\n",
    "    disabled=False\n",
    ")\n",
    "\n",
    "stats = widgets.SelectMultiple(\n",
    "    options=['Average', 'Mean', 'Median', 'Standard Deviation', 'PDF', 'CDF', 'Ratio of Data Outside Threshold'],\n",
    "    value=['Mean'],\n",
    "    description='Statistics',\n",
    "    disabled=False\n",
    ")\n",
    "\n",
    "display(correlations, stats)\n"
   ]
  },
  {
   "cell_type": "code",
   "execution_count": null,
   "id": "6614ebea",
   "metadata": {},
   "outputs": [],
   "source": [
    "# -------------- CELL 8 --------------\n",
    "\n",
    "# calculate correlations\n",
    "nbf.calculate_correlation()\n",
    "\n",
    "# Display correlation visualizations here\n"
   ]
  },
  {
   "cell_type": "code",
   "execution_count": null,
   "id": "e150e5fa",
   "metadata": {},
   "outputs": [],
   "source": [
    "# -------------- CELL 9 ---------------\n",
    "\n",
    "# Give the user the option to download data here.\n",
    "print(\"Select the files to be downloaded:\")\n",
    "files_to_provide = widgets.SelectMultiple(\n",
    "    options=['None', 'job_ts_metrics_aug2022_anon', 'job_ts_metrics_dec2022_anon',\n",
    "             'job_ts_metrics_jan2022_anon', 'job_ts_metrics_july2022_anon',\n",
    "             'job_ts_metrics_nov2022_anon', 'job_ts_metrics_sep2022_anon'],\n",
    "    value=['None'],\n",
    "    description='Files',\n",
    "    disabled=False\n",
    ")\n",
    "display(files_to_provide)\n",
    "\n",
    "# Create and display download button\n",
    "download_button = widgets.Button(description='Download File/s')\n",
    "download_button.on_click(nbf.on_download_button_clicked)\n",
    "display(download_button)"
   ]
  },
  {
   "cell_type": "code",
   "execution_count": null,
   "id": "9e516ccc",
   "metadata": {},
   "outputs": [],
   "source": [
    "# -------------- CELL 10 ---------------\n"
   ]
  }
 ],
 "metadata": {
  "kernelspec": {
   "display_name": "Python 3 (ipykernel)",
   "language": "python",
   "name": "python3"
  },
  "language_info": {
   "codemirror_mode": {
    "name": "ipython",
    "version": 3
   },
   "file_extension": ".py",
   "mimetype": "text/x-python",
   "name": "python",
   "nbconvert_exporter": "python",
   "pygments_lexer": "ipython3",
   "version": "3.11.3"
  }
 },
 "nbformat": 4,
 "nbformat_minor": 5
}

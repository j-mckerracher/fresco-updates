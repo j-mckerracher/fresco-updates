{
 "cells": [
  {
   "cell_type": "markdown",
   "id": "25999cae",
   "metadata": {},
   "source": [
    "# FRESCO Analytics Notebook\n",
    "### Overview\n",
    "This notebook has been designed to make analysis of the Anvil dataset as easy as possible. Generally speaking, it will allow the user to access the Anvil files stored locally, select a number of analysis options, and view the results.\n",
    "### Instructions\n",
    "1. Run the first cell and provide the window for your dataset. This window of time will be used to pull the host timeseries and job accounting data from the database.\n",
    "2. Run cell 2 and select the desired preprocessing options (can be more than one).\n",
    "3. Run cell 3 and select the desired host data time series units to be included (can be more than one).\n",
    "4. Run cell 4 and provide the desired values and options. **Note**: if units were selected in step 3, the \"Save Values\" button must be selected before moving on.\n",
    "5. Run cell 5 and select the desired options.\n",
    "6. Run cell 6 to see your data visualizations. If you would like to explore correlations among metrics and statistics, select from the provided options.\n",
    "7. Run cell 7 to see the correlation visualizations.\n",
    "8. Run cell 8 and download the desired data.\n"
   ]
  },
  {
   "cell_type": "code",
   "execution_count": 1,
   "id": "814c04de",
   "metadata": {
    "scrolled": true,
    "tags": [],
    "ExecuteTime": {
     "end_time": "2023-07-02T17:24:01.115347900Z",
     "start_time": "2023-07-02T17:24:00.717877700Z"
    }
   },
   "outputs": [
    {
     "name": "stdout",
     "output_type": "stream",
     "text": [
      "Please provide a time window for your host dataset.\n"
     ]
    },
    {
     "data": {
      "text/plain": "NaiveDatetimePicker(value=datetime.datetime(2023, 7, 2, 11, 24, 1), description='Start Time:')",
      "application/vnd.jupyter.widget-view+json": {
       "version_major": 2,
       "version_minor": 0,
       "model_id": "71f109a4808545d79f61669f2e2e5089"
      }
     },
     "metadata": {},
     "output_type": "display_data"
    },
    {
     "data": {
      "text/plain": "NaiveDatetimePicker(value=datetime.datetime(2023, 7, 2, 11, 24, 1), description='End Time:')",
      "application/vnd.jupyter.widget-view+json": {
       "version_major": 2,
       "version_minor": 0,
       "model_id": "df3c2f2e76284ceb9847d982cb329736"
      }
     },
     "metadata": {},
     "output_type": "display_data"
    }
   ],
   "source": [
    "# -------------- CELL 1 --------------\n",
    "from IPython.display import display, FileLink, clear_output, display\n",
    "import ipywidgets as widgets\n",
    "import notebook_functions as nbf\n",
    "from datetime import datetime\n",
    "import matplotlib.pyplot as plt\n",
    "import pandas as pd\n",
    "import openpyxl\n",
    "\n",
    "\n",
    "print(r\"Please provide a time window for your host dataset.\")\n",
    "\n",
    "start_time = widgets.NaiveDatetimePicker(\n",
    "    value=datetime.now().replace(microsecond=0),\n",
    "    placeholder='',\n",
    "    description='Start Time:',\n",
    "    disabled=False\n",
    ")\n",
    "\n",
    "end_time = widgets.NaiveDatetimePicker(\n",
    "    value=datetime.now().replace(microsecond=0),\n",
    "    placeholder='',\n",
    "    description='End Time:',\n",
    "    disabled=False\n",
    ")\n",
    "\n",
    "def validate_date_range(change):\n",
    "    # 'change' includes information about the change event\n",
    "    # including the 'owner' which is the widget itself\n",
    "    if change['owner'] == start_time:\n",
    "        if end_time.value and change['new'] >= end_time.value:\n",
    "            print(\"Error: Start Time should be less than End Time\")\n",
    "        else:\n",
    "            print(\"Time range is valid\")\n",
    "    elif change['owner'] == end_time:\n",
    "        if start_time.value and change['new'] <= start_time.value:\n",
    "            print(\"Error: End Time should be greater than Start Time\")\n",
    "        else:\n",
    "            print(\"Time range is valid\")\n",
    "\n",
    "# Attach the validation function to the 'value' trait of the date picker widgets\n",
    "start_time.observe(validate_date_range, 'value')\n",
    "end_time.observe(validate_date_range, 'value')\n",
    "\n",
    "display(start_time, end_time)"
   ]
  },
  {
   "cell_type": "code",
   "execution_count": 2,
   "id": "7ff024e8",
   "metadata": {
    "scrolled": true,
    "tags": [],
    "ExecuteTime": {
     "end_time": "2023-07-02T17:24:01.122921800Z",
     "start_time": "2023-07-02T17:24:01.117347300Z"
    }
   },
   "outputs": [
    {
     "name": "stdout",
     "output_type": "stream",
     "text": [
      "Data preprocessing: select either option (or both):\n"
     ]
    },
    {
     "data": {
      "text/plain": "SelectMultiple(description='Options:', index=(0,), options=('None', 'Remove Rows with Missing Metrics?', 'Add …",
      "application/vnd.jupyter.widget-view+json": {
       "version_major": 2,
       "version_minor": 0,
       "model_id": "f9e2272274d6470393a02dea9c0c900f"
      }
     },
     "metadata": {},
     "output_type": "display_data"
    }
   ],
   "source": [
    "# -------------- CELL 2 --------------\n",
    "\n",
    "print(\"Data preprocessing: select either option (or both):\")\n",
    "preprocessing = widgets.SelectMultiple(\n",
    "    options=['None', 'Remove Rows with Missing Metrics?', 'Add an Interval Column?'],\n",
    "    value=['None'],\n",
    "    description='Options:',\n",
    "    disabled=False,\n",
    ")\n",
    "\n",
    "display(preprocessing)"
   ]
  },
  {
   "cell_type": "code",
   "execution_count": 3,
   "id": "c2bb83db",
   "metadata": {
    "tags": [],
    "ExecuteTime": {
     "end_time": "2023-07-02T17:24:01.134597900Z",
     "start_time": "2023-07-02T17:24:01.125911500Z"
    }
   },
   "outputs": [
    {
     "name": "stdout",
     "output_type": "stream",
     "text": [
      "Optional: select the units to be included in the timeseries data.\n"
     ]
    },
    {
     "data": {
      "text/plain": "SelectMultiple(description='Units:', index=(0,), options=('None', 'CPU %', 'GPU %', 'GB:memused', 'GB:memused_…",
      "application/vnd.jupyter.widget-view+json": {
       "version_major": 2,
       "version_minor": 0,
       "model_id": "188ae497db2f45e3a3af2643c8b7168e"
      }
     },
     "metadata": {},
     "output_type": "display_data"
    }
   ],
   "source": [
    "# -------------- CELL 3 --------------\n",
    "\n",
    "# get timeseries from the DB\n",
    "time_series_df = nbf.get_time_series_from_database(start_time.value.strftime('%Y-%m-%d %H:%M:%S'), end_time.value.strftime('%Y-%m-%d %H:%M:%S'))\n",
    "\n",
    "# get the account logs from the DB\n",
    "account_log_df = nbf.get_account_log_from_database(start_time.value.strftime('%Y-%m-%d %H:%M:%S'), end_time.value.strftime('%Y-%m-%d %H:%M:%S'))\n",
    "\n",
    "# do the preprocessing\n",
    "for value in preprocessing.value:\n",
    "    if \"Remove\" in value:\n",
    "        time_series_df = time_series_df.dropna()\n",
    "    if \"Add\" in value:\n",
    "        time_series_df = nbf.add_interval_column(end_time.value, time_series_df)\n",
    "\n",
    "print(\"Optional: select the units to be included in the timeseries data.\")\n",
    "units = widgets.SelectMultiple(\n",
    "    options=['None', 'CPU %', 'GPU %', 'GB:memused', 'GB:memused_minus_diskcache', 'GB/s', 'MB/s'],\n",
    "    value=['None'],\n",
    "    description='Units:',\n",
    "    disabled=False,\n",
    ")\n",
    "\n",
    "display(units)\n"
   ]
  },
  {
   "cell_type": "code",
   "execution_count": 4,
   "id": "b1cb487b",
   "metadata": {
    "tags": [],
    "ExecuteTime": {
     "end_time": "2023-07-02T17:24:01.217950700Z",
     "start_time": "2023-07-02T17:24:01.132604200Z"
    }
   },
   "outputs": [
    {
     "name": "stdout",
     "output_type": "stream",
     "text": [
      "Optional: provide the hosts to be included in the timeseries data e.g., 'NODE1, NODE2'\n"
     ]
    },
    {
     "data": {
      "text/plain": "Text(value='', description='Hosts:', placeholder='')",
      "application/vnd.jupyter.widget-view+json": {
       "version_major": 2,
       "version_minor": 0,
       "model_id": "35f3b9b762f54200a65ce188cf6cf5e4"
      }
     },
     "metadata": {},
     "output_type": "display_data"
    },
    {
     "name": "stdout",
     "output_type": "stream",
     "text": [
      "Optional: provide the jobs to be included in the timeseries data e.g., 'JOB1, JOB2'\n"
     ]
    },
    {
     "data": {
      "text/plain": "Text(value='', description='Jobs:', placeholder='')",
      "application/vnd.jupyter.widget-view+json": {
       "version_major": 2,
       "version_minor": 0,
       "model_id": "13a840357ac34c6ea6b2604e3d02ceb6"
      }
     },
     "metadata": {},
     "output_type": "display_data"
    },
    {
     "name": "stdout",
     "output_type": "stream",
     "text": [
      "Optional: select if you want the account logs to be returned for the Job IDs matching your query.\n"
     ]
    },
    {
     "data": {
      "text/plain": "ToggleButton(value=False, description='Account Logs', icon='check', tooltip='Return Account Logs?')",
      "application/vnd.jupyter.widget-view+json": {
       "version_major": 2,
       "version_minor": 0,
       "model_id": "5b590f98597d463ea3c8d5689be13439"
      }
     },
     "metadata": {},
     "output_type": "display_data"
    },
    {
     "name": "stdout",
     "output_type": "stream",
     "text": [
      "Optional: select the columns to be included in the timeseries data (hold control to select multiple). If no columns are selected, all columns will be included.\n"
     ]
    },
    {
     "data": {
      "text/plain": "SelectMultiple(description='Return Columns', index=(0,), options=('None', 'Job Id', 'Hosts', 'Events', 'Units'…",
      "application/vnd.jupyter.widget-view+json": {
       "version_major": 2,
       "version_minor": 0,
       "model_id": "ab3afb003a93414bb326ccfdac162b7c"
      }
     },
     "metadata": {},
     "output_type": "display_data"
    }
   ],
   "source": [
    "# -------------- CELL 4 --------------\n",
    "\n",
    "unit_values = {}  # stores user low and high value user input such that: key = a unit from the units list above /// value = (low_value, high_value)\n",
    "\n",
    "for value in units.value:\n",
    "    if value != 'None':\n",
    "        nbf.setup_widgets(unit_values, value)\n",
    "\n",
    "print(\"Optional: provide the hosts to be included in the timeseries data e.g., 'NODE1, NODE2'\")\n",
    "hosts = widgets.Text(\n",
    "    value='',\n",
    "    placeholder='',\n",
    "    description='Hosts:',\n",
    "    disabled=False\n",
    ")\n",
    "display(hosts)\n",
    "\n",
    "print(\"Optional: provide the jobs to be included in the timeseries data e.g., 'JOB1, JOB2'\")\n",
    "job_ids = widgets.Text(\n",
    "    value='',\n",
    "    placeholder='',\n",
    "    description='Jobs:',\n",
    "    disabled=False\n",
    ")\n",
    "display(job_ids)\n",
    "\n",
    "print(\"Optional: select if you want the account logs to be returned for the Job IDs matching your query.\")\n",
    "return_account_logs = widgets.ToggleButton(\n",
    "    value=False,\n",
    "    description='Account Logs',\n",
    "    disabled=False,\n",
    "    button_style='',\n",
    "    tooltip='Return Account Logs?',\n",
    "    icon='check'\n",
    ")\n",
    "display(return_account_logs)\n",
    "\n",
    "print(\"Optional: select the columns to be included in the timeseries data (hold control to select multiple). If no columns are \"\n",
    "      \"selected, all columns will be included.\")\n",
    "timeseries_return_columns = widgets.SelectMultiple(\n",
    "    options=['None', 'Job Id', 'Hosts', 'Events', 'Units', 'Values', 'Timestamps'],\n",
    "    value=['None'],\n",
    "    description='Return Columns',\n",
    "    disabled=False\n",
    ")\n",
    "display(timeseries_return_columns)"
   ]
  },
  {
   "cell_type": "code",
   "execution_count": 5,
   "id": "c102bf5f-493a-43d5-bbf8-4d97177b993a",
   "metadata": {
    "tags": [],
    "ExecuteTime": {
     "end_time": "2023-07-02T17:24:01.218948900Z",
     "start_time": "2023-07-02T17:24:01.155162700Z"
    }
   },
   "outputs": [
    {
     "data": {
      "text/plain": "{}"
     },
     "execution_count": 5,
     "metadata": {},
     "output_type": "execute_result"
    }
   ],
   "source": [
    "unit_values  # TODO: remove when done with dev work"
   ]
  },
  {
   "cell_type": "code",
   "execution_count": 6,
   "id": "4f5b1281",
   "metadata": {
    "tags": [],
    "ExecuteTime": {
     "end_time": "2023-07-02T17:24:01.218948900Z",
     "start_time": "2023-07-02T17:24:01.163847100Z"
    }
   },
   "outputs": [
    {
     "name": "stdout",
     "output_type": "stream",
     "text": [
      "Do you want to download the filtered timeseries data?\n"
     ]
    },
    {
     "data": {
      "text/plain": "Button(description='Download as CSV', style=ButtonStyle())",
      "application/vnd.jupyter.widget-view+json": {
       "version_major": 2,
       "version_minor": 0,
       "model_id": "6cbc3191690f4b97bf154151b007edfa"
      }
     },
     "metadata": {},
     "output_type": "display_data"
    },
    {
     "data": {
      "text/plain": "Button(description='Download as Excel', style=ButtonStyle())",
      "application/vnd.jupyter.widget-view+json": {
       "version_major": 2,
       "version_minor": 0,
       "model_id": "5ce1b2d7aad64547bf830f05e7a7a01f"
      }
     },
     "metadata": {},
     "output_type": "display_data"
    },
    {
     "name": "stdout",
     "output_type": "stream",
     "text": [
      "Do you want to download the filtered accounting data?\n"
     ]
    },
    {
     "data": {
      "text/plain": "Button(description='Download as CSV', style=ButtonStyle())",
      "application/vnd.jupyter.widget-view+json": {
       "version_major": 2,
       "version_minor": 0,
       "model_id": "069b6016686f4cebb3c07c64d595239c"
      }
     },
     "metadata": {},
     "output_type": "display_data"
    },
    {
     "data": {
      "text/plain": "Button(description='Download as Excel', style=ButtonStyle())",
      "application/vnd.jupyter.widget-view+json": {
       "version_major": 2,
       "version_minor": 0,
       "model_id": "b2f6656601c145bb98564b8c620dbe34"
      }
     },
     "metadata": {},
     "output_type": "display_data"
    },
    {
     "name": "stdout",
     "output_type": "stream",
     "text": [
      "Please select which statistics to be calculated:\n"
     ]
    },
    {
     "data": {
      "text/plain": "SelectMultiple(description='Statistics', index=(1,), options=('Average', 'Mean', 'Median', 'Standard Deviation…",
      "application/vnd.jupyter.widget-view+json": {
       "version_major": 2,
       "version_minor": 0,
       "model_id": "ae3d7fabad0f4242b12b896c5fddc438"
      }
     },
     "metadata": {},
     "output_type": "display_data"
    }
   ],
   "source": [
    "# -------------- CELL 5 --------------\n",
    "\n",
    "# if units.value != \"None\":\n",
    "#     time_series_df = nbf.get_timeseries_by_values_and_unit(unit_values, time_series_df)\n",
    "#\n",
    "# if len(hosts.value) > 0:\n",
    "#     time_series_df = nbf.get_timeseries_by_hosts(hosts.value, time_series_df)\n",
    "#\n",
    "# if len(job_ids.value) > 0:\n",
    "#     account_log_df = nbf.get_timeseries_by_job_ids(job_ids.value)\n",
    "#\n",
    "# if return_account_logs:\n",
    "#     account_log_df = nbf.get_account_logs_by_job_ids(time_series_df, account_log_df)\n",
    "\n",
    "# -------------- timeseries download --------------\n",
    "\n",
    "print(\"Do you want to download the filtered timeseries data?\")\n",
    "csv_download_button = widgets.Button(description=\"Download as CSV\")\n",
    "excel_download_button = widgets.Button(description=\"Download as Excel\")\n",
    "\n",
    "def on_csv_button_clicked(b):\n",
    "    display(nbf.create_csv_download_link(time_series_df, title=\"Download timeseries CSV\"))\n",
    "\n",
    "def on_excel_button_clicked(b):\n",
    "    display(nbf.create_excel_download_link(time_series_df, title=\"Download timeseries Excel\"))\n",
    "\n",
    "csv_download_button.on_click(on_csv_button_clicked)\n",
    "excel_download_button.on_click(on_excel_button_clicked)\n",
    "display(csv_download_button, excel_download_button)\n",
    "\n",
    "# -------------- account log download --------------\n",
    "\n",
    "print(\"Do you want to download the filtered accounting data?\")\n",
    "csv_acc_download_button = widgets.Button(description=\"Download as CSV\")\n",
    "excel_acc_download_button = widgets.Button(description=\"Download as Excel\")\n",
    "\n",
    "def on_acc_csv_button_clicked(b):\n",
    "    display(nbf.create_csv_download_link(account_log_df, title=\"Download accounting CSV\"))\n",
    "\n",
    "def on_acc_excel_button_clicked(b):\n",
    "    display(nbf.create_excel_download_link(account_log_df, title=\"Download accounting Excel\"))\n",
    "\n",
    "csv_acc_download_button.on_click(on_acc_csv_button_clicked)\n",
    "excel_acc_download_button.on_click(on_acc_excel_button_clicked)\n",
    "display(csv_acc_download_button, excel_acc_download_button)\n",
    "\n",
    "# -------------- stats options --------------\n",
    "\n",
    "print(\"Please select which statistics to be calculated:\")\n",
    "stats = widgets.SelectMultiple(\n",
    "    options=['Average', 'Mean', 'Median', 'Standard Deviation', 'PDF', 'CDF', 'Ratio of Data Outside Threshold'],\n",
    "    value=['Mean'],\n",
    "    description='Statistics',\n",
    "    disabled=False\n",
    ")\n",
    "display(stats)"
   ]
  },
  {
   "cell_type": "code",
   "execution_count": 7,
   "id": "58e03c05",
   "metadata": {
    "ExecuteTime": {
     "end_time": "2023-07-02T17:24:07.941219200Z",
     "start_time": "2023-07-02T17:24:07.931545100Z"
    }
   },
   "outputs": [
    {
     "name": "stdout",
     "output_type": "stream",
     "text": [
      "('Mean', 'Median')\n",
      "If you would like to explore correlations among metrics and statistics, select from the options below:\n"
     ]
    },
    {
     "data": {
      "text/plain": "SelectMultiple(description='Metrics', index=(0,), options=('None', 'CPU %', 'GPU %', 'GB(memused_minus_diskcac…",
      "application/vnd.jupyter.widget-view+json": {
       "version_major": 2,
       "version_minor": 0,
       "model_id": "573e98eda5e04c0eb9a3207e900e7906"
      }
     },
     "metadata": {},
     "output_type": "display_data"
    },
    {
     "data": {
      "text/plain": "SelectMultiple(description='Statistics', index=(1,), options=('Average', 'Mean', 'Median', 'Standard Deviation…",
      "application/vnd.jupyter.widget-view+json": {
       "version_major": 2,
       "version_minor": 0,
       "model_id": "4b3d2d21b36b4a2f8284d9959c9bbc08"
      }
     },
     "metadata": {},
     "output_type": "display_data"
    }
   ],
   "source": [
    "# -------------- CELL 6 --------------\n",
    "\n",
    "# Get stats:\n",
    "for choice in stats.value:\n",
    "    if choice == \"Average\":\n",
    "        pass\n",
    "    if choice == \"Mean\":\n",
    "        pass\n",
    "    if choice == \"Median\":\n",
    "        pass\n",
    "    if choice == \"Standard Deviation\":\n",
    "        pass\n",
    "    if choice == \"PDF\":\n",
    "        pass\n",
    "    if choice == \"CDF\":\n",
    "        pass\n",
    "    if choice == \"Ratio of Data Outside Threshold\":\n",
    "        pass\n",
    "\n",
    "# Display statistical data here# Create a figure and a set of subplots (3 subplots here)\n",
    "\n",
    "\n",
    "\n",
    "# Give the user the option to calculate correlations\n",
    "print(\"If you would like to explore correlations among metrics and statistics, select from the options below:\")\n",
    "\n",
    "correlations = widgets.SelectMultiple(\n",
    "    options=['None', 'CPU %', 'GPU %', 'GB(memused_minus_diskcache)', 'GB(memused)', 'GB/s', 'MB/s'],\n",
    "    value=['None'],\n",
    "    description='Metrics',\n",
    "    disabled=False\n",
    ")\n",
    "\n",
    "stats = widgets.SelectMultiple(\n",
    "    options=['Average', 'Mean', 'Median', 'Standard Deviation', 'PDF', 'CDF', 'Ratio of Data Outside Threshold'],\n",
    "    value=['Mean'],\n",
    "    description='Statistics',\n",
    "    disabled=False\n",
    ")\n",
    "\n",
    "display(correlations, stats)\n"
   ]
  },
  {
   "cell_type": "code",
   "execution_count": null,
   "id": "6614ebea",
   "metadata": {},
   "outputs": [],
   "source": [
    "# -------------- CELL 7 --------------\n",
    "\n",
    "# calculate correlations\n",
    "nbf.calculate_correlation()\n",
    "\n",
    "# Display correlation visualizations here\n"
   ]
  },
  {
   "cell_type": "code",
   "execution_count": null,
   "id": "e150e5fa",
   "metadata": {},
   "outputs": [],
   "source": [
    "# -------------- CELL 8 ---------------\n",
    "\n",
    "# Give the user the option to download data here.\n",
    "print(\"Select the files to be downloaded:\")\n",
    "files_to_provide = widgets.SelectMultiple(\n",
    "    options=['None', 'job_ts_metrics_aug2022_anon', 'job_ts_metrics_dec2022_anon',\n",
    "             'job_ts_metrics_jan2022_anon', 'job_ts_metrics_july2022_anon',\n",
    "             'job_ts_metrics_nov2022_anon', 'job_ts_metrics_sep2022_anon'],\n",
    "    value=['None'],\n",
    "    description='Files',\n",
    "    disabled=False\n",
    ")\n",
    "display(files_to_provide)\n",
    "\n",
    "# Create and display download button\n",
    "download_button = widgets.Button(description='Download File/s')\n",
    "download_button.on_click(nbf.on_download_button_clicked)\n",
    "display(download_button)"
   ]
  },
  {
   "cell_type": "code",
   "execution_count": null,
   "id": "9e516ccc",
   "metadata": {},
   "outputs": [],
   "source": [
    "# -------------- CELL 9 ---------------\n"
   ]
  }
 ],
 "metadata": {
  "kernelspec": {
   "display_name": "Python 3 (ipykernel)",
   "language": "python",
   "name": "python3"
  },
  "language_info": {
   "codemirror_mode": {
    "name": "ipython",
    "version": 3
   },
   "file_extension": ".py",
   "mimetype": "text/x-python",
   "name": "python",
   "nbconvert_exporter": "python",
   "pygments_lexer": "ipython3",
   "version": "3.11.4"
  }
 },
 "nbformat": 4,
 "nbformat_minor": 5
}

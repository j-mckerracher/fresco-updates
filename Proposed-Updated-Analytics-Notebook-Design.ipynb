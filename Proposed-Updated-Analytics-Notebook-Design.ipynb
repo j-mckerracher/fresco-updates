{
 "cells": [
  {
   "cell_type": "markdown",
   "id": "25999cae",
   "metadata": {},
   "source": [
    "# FRESCO Analytics Notebook\n",
    "### Overview\n",
    "This notebook has been designed to make analysis of the Anvil dataset as easy as possible. Generally speaking, it will allow the user to access the Anvil files stored locally, select a number of analysis options, and view the results.\n",
    "### Instructions\n",
    "1. Run the first cell and provide the window for your dataset. This window of time will be used to pull the host timeseries and job accounting data from the database.\n",
    "2. Run cell 2 and select the desired preprocessing options (can be more than one).\n",
    "3. Run cell 3 and select the desired host data time series units to be included (can be more than one).\n",
    "4. Run cell 4 and provide the desired values and options. **Note**: if units were selected in step 3, the \"Save Values\" button must be selected before moving on.\n",
    "5. Run cell 5 and select the desired options.\n",
    "6. Run cell 6 to see your data visualizations. If you would like to explore correlations among metrics and statistics, select from the provided options.\n",
    "7. Run cell 7 to see the correlation visualizations.\n",
    "8. Run cell 8 and download the desired data.\n"
   ]
  },
  {
   "cell_type": "code",
   "execution_count": 1,
   "id": "814c04de",
   "metadata": {
    "ExecuteTime": {
     "end_time": "2023-07-05T22:18:44.912252200Z",
     "start_time": "2023-07-05T22:18:44.844583Z"
    },
    "scrolled": true,
    "tags": []
   },
   "outputs": [
    {
     "name": "stdout",
     "output_type": "stream",
     "text": [
      "Please provide a time window for your dataset.\n"
     ]
    },
    {
     "data": {
      "application/vnd.jupyter.widget-view+json": {
       "model_id": "63e46e2cc3e94e43b780ab05e6b8bd5b",
       "version_major": 2,
       "version_minor": 0
      },
      "text/plain": [
       "NaiveDatetimePicker(value=datetime.datetime(2023, 7, 5, 16, 22, 39), description='Start Time:')"
      ]
     },
     "metadata": {},
     "output_type": "display_data"
    },
    {
     "data": {
      "application/vnd.jupyter.widget-view+json": {
       "model_id": "0308d70ff828452383c6891f467a3f28",
       "version_major": 2,
       "version_minor": 0
      },
      "text/plain": [
       "NaiveDatetimePicker(value=datetime.datetime(2023, 7, 5, 16, 22, 39), description='End Time:')"
      ]
     },
     "metadata": {},
     "output_type": "display_data"
    }
   ],
   "source": [
    "# -------------- CELL 1 --------------\n",
    "from IPython.display import display, FileLink, clear_output, display\n",
    "import ipywidgets as widgets\n",
    "import notebook_functions as nbf\n",
    "from datetime import datetime\n",
    "import matplotlib.pyplot as plt\n",
    "import seaborn as sns\n",
    "import pandas as pd\n",
    "import openpyxl\n",
    "\n",
    "\n",
    "print(r\"Please provide a time window for your dataset.\")\n",
    "\n",
    "start_time = widgets.NaiveDatetimePicker(\n",
    "    value=datetime.now().replace(microsecond=0),\n",
    "    placeholder='',\n",
    "    description='Start Time:',\n",
    "    disabled=False\n",
    ")\n",
    "\n",
    "end_time = widgets.NaiveDatetimePicker(\n",
    "    value=datetime.now().replace(microsecond=0),\n",
    "    placeholder='',\n",
    "    description='End Time:',\n",
    "    disabled=False\n",
    ")\n",
    "\n",
    "def validate_date_range(change):\n",
    "    # 'change' includes information about the change event\n",
    "    # including the 'owner' which is the widget itself\n",
    "    if change['owner'] == start_time:\n",
    "        if end_time.value and change['new'] >= end_time.value:\n",
    "            print(\"Error: Start Time should be less than End Time\")\n",
    "        else:\n",
    "            print(\"Time range is valid\")\n",
    "    elif change['owner'] == end_time:\n",
    "        if start_time.value and change['new'] <= start_time.value:\n",
    "            print(\"Error: End Time should be greater than Start Time\")\n",
    "        else:\n",
    "            print(\"Time range is valid\")\n",
    "\n",
    "# Attach the validation function to the 'value' trait of the date picker widgets\n",
    "start_time.observe(validate_date_range, 'value')\n",
    "end_time.observe(validate_date_range, 'value')\n",
    "\n",
    "display(start_time, end_time)"
   ]
  },
  {
   "cell_type": "code",
   "execution_count": 2,
   "id": "7ff024e8",
   "metadata": {
    "ExecuteTime": {
     "end_time": "2023-07-05T22:18:44.913240Z",
     "start_time": "2023-07-05T22:18:44.872371200Z"
    },
    "scrolled": true,
    "tags": []
   },
   "outputs": [
    {
     "name": "stdout",
     "output_type": "stream",
     "text": [
      "Data preprocessing: select either option (or both):\n"
     ]
    },
    {
     "data": {
      "application/vnd.jupyter.widget-view+json": {
       "model_id": "bc283fd5900f4c9ca59bf114d0140c9d",
       "version_major": 2,
       "version_minor": 0
      },
      "text/plain": [
       "SelectMultiple(description='Options:', index=(0,), options=('None', 'Remove Rows with Missing Metric', 'Remove…"
      ]
     },
     "metadata": {},
     "output_type": "display_data"
    }
   ],
   "source": [
    "# -------------- CELL 2 --------------\n",
    "\n",
    "print(\"Data preprocessing: select either option (or both):\")\n",
    "preprocessing = widgets.SelectMultiple(\n",
    "    options=['None', 'Remove Rows with Missing Metric', 'Remove Rows with Negative Value', 'Add an Interval Column'],\n",
    "    value=['None'],\n",
    "    description='Options:',\n",
    "    disabled=False,\n",
    ")\n",
    "\n",
    "display(preprocessing)"
   ]
  },
  {
   "cell_type": "code",
   "execution_count": 3,
   "id": "c2bb83db",
   "metadata": {
    "ExecuteTime": {
     "end_time": "2023-07-05T22:18:47.689084300Z",
     "start_time": "2023-07-05T22:18:44.877361600Z"
    },
    "tags": []
   },
   "outputs": [
    {
     "name": "stdout",
     "output_type": "stream",
     "text": [
      "Optional: select the units to be included in the timeseries data.\n"
     ]
    },
    {
     "data": {
      "application/vnd.jupyter.widget-view+json": {
       "model_id": "803389ea48474baf8ef06729420c3c5c",
       "version_major": 2,
       "version_minor": 0
      },
      "text/plain": [
       "SelectMultiple(description='Units:', index=(0,), options=('None', 'CPU %', 'GPU %', 'GB:memused', 'GB:memused_…"
      ]
     },
     "metadata": {},
     "output_type": "display_data"
    }
   ],
   "source": [
    "# -------------- CELL 3 --------------\n",
    "\n",
    "# get timeseries from the DB\n",
    "# time_series_df = nbf.get_time_series_from_database(start_time.value.strftime('%Y-%m-%d %H:%M:%S'), end_time.value.strftime('%Y-%m-%d %H:%M:%S'))\n",
    "\n",
    "# TODO: REMOVE WHEN DONE WITH DEV\n",
    "time_series_df = pd.read_csv(\"job_ts_metrics_july2022_anon.csv\")\n",
    "# TODO: REMOVE WHEN DONE WITH DEV\n",
    "\n",
    "# get the account logs from the DB\n",
    "account_log_df = nbf.get_account_log_from_database(start_time.value.strftime('%Y-%m-%d %H:%M:%S'), end_time.value.strftime('%Y-%m-%d %H:%M:%S'))\n",
    "\n",
    "# do the preprocessing\n",
    "for value in preprocessing.value:\n",
    "    if \"Missing Metric\" in value:\n",
    "        time_series_df = time_series_df.dropna()\n",
    "    if \"Add\" in value:\n",
    "        time_series_df = nbf.add_interval_column(end_time.value, time_series_df)\n",
    "    if \"Negative Value\":\n",
    "        time_series_df = time_series_df[time_series_df['Value'] >= 0]\n",
    "\n",
    "print(\"Optional: select the units to be included in the timeseries data.\")\n",
    "units = widgets.SelectMultiple(\n",
    "    options=['None', 'CPU %', 'GPU %', 'GB:memused', 'GB:memused_minus_diskcache', 'GB/s', 'MB/s'],\n",
    "    value=['None'],\n",
    "    description='Units:',\n",
    "    disabled=False,\n",
    ")\n",
    "\n",
    "display(units)\n"
   ]
  },
  {
   "cell_type": "code",
   "execution_count": 4,
   "id": "b1cb487b",
   "metadata": {
    "ExecuteTime": {
     "end_time": "2023-07-05T22:18:47.765720300Z",
     "start_time": "2023-07-05T22:18:47.694607Z"
    },
    "tags": []
   },
   "outputs": [
    {
     "name": "stdout",
     "output_type": "stream",
     "text": [
      "Optional: provide the hosts to be included in the timeseries data e.g., 'NODE1, NODE2'\n"
     ]
    },
    {
     "data": {
      "application/vnd.jupyter.widget-view+json": {
       "model_id": "a331b02e617f4e789e1f562bf9baffed",
       "version_major": 2,
       "version_minor": 0
      },
      "text/plain": [
       "Text(value='', description='Hosts:', placeholder='')"
      ]
     },
     "metadata": {},
     "output_type": "display_data"
    },
    {
     "name": "stdout",
     "output_type": "stream",
     "text": [
      "Optional: provide the jobs to be included in the timeseries data e.g., 'JOB1, JOB2'\n"
     ]
    },
    {
     "data": {
      "application/vnd.jupyter.widget-view+json": {
       "model_id": "62018834c50b44b6a336b1b8b37f3647",
       "version_major": 2,
       "version_minor": 0
      },
      "text/plain": [
       "Text(value='', description='Jobs:', placeholder='')"
      ]
     },
     "metadata": {},
     "output_type": "display_data"
    },
    {
     "name": "stdout",
     "output_type": "stream",
     "text": [
      "Optional: select if you want the account logs to be returned for the Job IDs matching your query.\n"
     ]
    },
    {
     "data": {
      "application/vnd.jupyter.widget-view+json": {
       "model_id": "80edb9edf3b64ac0a14d3b9aad38021f",
       "version_major": 2,
       "version_minor": 0
      },
      "text/plain": [
       "ToggleButton(value=False, description='Account Logs', icon='check', tooltip='Return Account Logs?')"
      ]
     },
     "metadata": {},
     "output_type": "display_data"
    },
    {
     "name": "stdout",
     "output_type": "stream",
     "text": [
      "Optional: select the columns to be included in the timeseries data (hold control to select multiple). If no columns are selected, all columns will be included.\n"
     ]
    },
    {
     "data": {
      "application/vnd.jupyter.widget-view+json": {
       "model_id": "8464e10d4f5d4c51b215a68a1c55171f",
       "version_major": 2,
       "version_minor": 0
      },
      "text/plain": [
       "SelectMultiple(description='Return Columns', index=(0,), options=('None', 'Job Id', 'Hosts', 'Events', 'Units'…"
      ]
     },
     "metadata": {},
     "output_type": "display_data"
    }
   ],
   "source": [
    "# -------------- CELL 4 --------------\n",
    "\n",
    "unit_values = {}  # stores user low and high value user input such that: key = a unit from the units list above /// value = (low_value, high_value)\n",
    "\n",
    "for value in units.value:\n",
    "    if value != 'None':\n",
    "        nbf.setup_widgets(unit_values, value)\n",
    "\n",
    "print(\"Optional: provide the hosts to be included in the timeseries data e.g., 'NODE1, NODE2'\")\n",
    "hosts = widgets.Text(\n",
    "    value='',\n",
    "    placeholder='',\n",
    "    description='Hosts:',\n",
    "    disabled=False\n",
    ")\n",
    "display(hosts)\n",
    "\n",
    "print(\"Optional: provide the jobs to be included in the timeseries data e.g., 'JOB1, JOB2'\")\n",
    "job_ids = widgets.Text(\n",
    "    value='',\n",
    "    placeholder='',\n",
    "    description='Jobs:',\n",
    "    disabled=False\n",
    ")\n",
    "display(job_ids)\n",
    "\n",
    "print(\"Optional: select if you want the account logs to be returned for the Job IDs matching your query.\")\n",
    "return_account_logs = widgets.ToggleButton(\n",
    "    value=False,\n",
    "    description='Account Logs',\n",
    "    disabled=False,\n",
    "    button_style='',\n",
    "    tooltip='Return Account Logs?',\n",
    "    icon='check'\n",
    ")\n",
    "display(return_account_logs)\n",
    "\n",
    "print(\"Optional: select the columns to be included in the timeseries data (hold control to select multiple). If no columns are \"\n",
    "      \"selected, all columns will be included.\")\n",
    "timeseries_return_columns = widgets.SelectMultiple(\n",
    "    options=['None', 'Job Id', 'Hosts', 'Events', 'Units', 'Values', 'Timestamps'],\n",
    "    value=['None'],\n",
    "    description='Return Columns',\n",
    "    disabled=False\n",
    ")\n",
    "display(timeseries_return_columns)"
   ]
  },
  {
   "cell_type": "code",
   "execution_count": 5,
   "id": "c102bf5f-493a-43d5-bbf8-4d97177b993a",
   "metadata": {
    "ExecuteTime": {
     "end_time": "2023-07-05T22:18:47.766694400Z",
     "start_time": "2023-07-05T22:18:47.723389700Z"
    },
    "tags": []
   },
   "outputs": [
    {
     "data": {
      "text/html": [
       "<div>\n",
       "<style scoped>\n",
       "    .dataframe tbody tr th:only-of-type {\n",
       "        vertical-align: middle;\n",
       "    }\n",
       "\n",
       "    .dataframe tbody tr th {\n",
       "        vertical-align: top;\n",
       "    }\n",
       "\n",
       "    .dataframe thead th {\n",
       "        text-align: right;\n",
       "    }\n",
       "</style>\n",
       "<table border=\"1\" class=\"dataframe\">\n",
       "  <thead>\n",
       "    <tr style=\"text-align: right;\">\n",
       "      <th></th>\n",
       "      <th>Job Id</th>\n",
       "      <th>Host</th>\n",
       "      <th>Event</th>\n",
       "      <th>Value</th>\n",
       "      <th>Units</th>\n",
       "      <th>Timestamp</th>\n",
       "    </tr>\n",
       "  </thead>\n",
       "  <tbody>\n",
       "    <tr>\n",
       "      <th>0</th>\n",
       "      <td>JOB1</td>\n",
       "      <td>NODE1</td>\n",
       "      <td>cpuuser</td>\n",
       "      <td>1.002607e-02</td>\n",
       "      <td>CPU %</td>\n",
       "      <td>2022-07-31 21:27:02</td>\n",
       "    </tr>\n",
       "    <tr>\n",
       "      <th>1</th>\n",
       "      <td>JOB1</td>\n",
       "      <td>NODE1</td>\n",
       "      <td>cpuuser</td>\n",
       "      <td>1.080711e-02</td>\n",
       "      <td>CPU %</td>\n",
       "      <td>2022-07-31 21:28:02</td>\n",
       "    </tr>\n",
       "    <tr>\n",
       "      <th>2</th>\n",
       "      <td>JOB1</td>\n",
       "      <td>NODE1</td>\n",
       "      <td>cpuuser</td>\n",
       "      <td>2.031279e-02</td>\n",
       "      <td>CPU %</td>\n",
       "      <td>2022-07-31 21:29:02</td>\n",
       "    </tr>\n",
       "    <tr>\n",
       "      <th>3</th>\n",
       "      <td>JOB1</td>\n",
       "      <td>NODE1</td>\n",
       "      <td>cpuuser</td>\n",
       "      <td>1.132790e-02</td>\n",
       "      <td>CPU %</td>\n",
       "      <td>2022-07-31 21:30:02</td>\n",
       "    </tr>\n",
       "    <tr>\n",
       "      <th>4</th>\n",
       "      <td>JOB1</td>\n",
       "      <td>NODE1</td>\n",
       "      <td>cpuuser</td>\n",
       "      <td>1.315121e-02</td>\n",
       "      <td>CPU %</td>\n",
       "      <td>2022-07-31 21:31:02</td>\n",
       "    </tr>\n",
       "    <tr>\n",
       "      <th>...</th>\n",
       "      <td>...</td>\n",
       "      <td>...</td>\n",
       "      <td>...</td>\n",
       "      <td>...</td>\n",
       "      <td>...</td>\n",
       "      <td>...</td>\n",
       "    </tr>\n",
       "    <tr>\n",
       "      <th>4729477</th>\n",
       "      <td>JOB47213</td>\n",
       "      <td>NODE36</td>\n",
       "      <td>block</td>\n",
       "      <td>1.271557e-07</td>\n",
       "      <td>GB/s</td>\n",
       "      <td>2022-07-01 04:10:05</td>\n",
       "    </tr>\n",
       "    <tr>\n",
       "      <th>4729478</th>\n",
       "      <td>JOB47213</td>\n",
       "      <td>NODE36</td>\n",
       "      <td>block</td>\n",
       "      <td>3.515863e-05</td>\n",
       "      <td>GB/s</td>\n",
       "      <td>2022-07-01 04:11:05</td>\n",
       "    </tr>\n",
       "    <tr>\n",
       "      <th>4729479</th>\n",
       "      <td>JOB47213</td>\n",
       "      <td>NODE36</td>\n",
       "      <td>nfs</td>\n",
       "      <td>4.193628e-01</td>\n",
       "      <td>MB/s</td>\n",
       "      <td>2022-07-01 04:09:05</td>\n",
       "    </tr>\n",
       "    <tr>\n",
       "      <th>4729480</th>\n",
       "      <td>JOB47213</td>\n",
       "      <td>NODE36</td>\n",
       "      <td>nfs</td>\n",
       "      <td>3.862497e-01</td>\n",
       "      <td>MB/s</td>\n",
       "      <td>2022-07-01 04:10:05</td>\n",
       "    </tr>\n",
       "    <tr>\n",
       "      <th>4729481</th>\n",
       "      <td>JOB47213</td>\n",
       "      <td>NODE36</td>\n",
       "      <td>nfs</td>\n",
       "      <td>3.989062e-01</td>\n",
       "      <td>MB/s</td>\n",
       "      <td>2022-07-01 04:11:05</td>\n",
       "    </tr>\n",
       "  </tbody>\n",
       "</table>\n",
       "<p>4729322 rows × 6 columns</p>\n",
       "</div>"
      ],
      "text/plain": [
       "           Job Id    Host    Event         Value  Units            Timestamp\n",
       "0            JOB1   NODE1  cpuuser  1.002607e-02  CPU %  2022-07-31 21:27:02\n",
       "1            JOB1   NODE1  cpuuser  1.080711e-02  CPU %  2022-07-31 21:28:02\n",
       "2            JOB1   NODE1  cpuuser  2.031279e-02  CPU %  2022-07-31 21:29:02\n",
       "3            JOB1   NODE1  cpuuser  1.132790e-02  CPU %  2022-07-31 21:30:02\n",
       "4            JOB1   NODE1  cpuuser  1.315121e-02  CPU %  2022-07-31 21:31:02\n",
       "...           ...     ...      ...           ...    ...                  ...\n",
       "4729477  JOB47213  NODE36    block  1.271557e-07   GB/s  2022-07-01 04:10:05\n",
       "4729478  JOB47213  NODE36    block  3.515863e-05   GB/s  2022-07-01 04:11:05\n",
       "4729479  JOB47213  NODE36      nfs  4.193628e-01   MB/s  2022-07-01 04:09:05\n",
       "4729480  JOB47213  NODE36      nfs  3.862497e-01   MB/s  2022-07-01 04:10:05\n",
       "4729481  JOB47213  NODE36      nfs  3.989062e-01   MB/s  2022-07-01 04:11:05\n",
       "\n",
       "[4729322 rows x 6 columns]"
      ]
     },
     "execution_count": 5,
     "metadata": {},
     "output_type": "execute_result"
    }
   ],
   "source": [
    "unit_values  # TODO: remove when done with dev work\n",
    "time_series_df"
   ]
  },
  {
   "cell_type": "code",
   "execution_count": 6,
   "id": "4f5b1281",
   "metadata": {
    "ExecuteTime": {
     "end_time": "2023-07-05T22:18:47.894139700Z",
     "start_time": "2023-07-05T22:18:47.750747700Z"
    },
    "tags": []
   },
   "outputs": [
    {
     "name": "stdout",
     "output_type": "stream",
     "text": [
      "Do you want to download the filtered timeseries data?\n"
     ]
    },
    {
     "data": {
      "application/vnd.jupyter.widget-view+json": {
       "model_id": "6c27ac64f76043af8926615a128b44d4",
       "version_major": 2,
       "version_minor": 0
      },
      "text/plain": [
       "Button(description='Download as CSV', style=ButtonStyle())"
      ]
     },
     "metadata": {},
     "output_type": "display_data"
    },
    {
     "data": {
      "application/vnd.jupyter.widget-view+json": {
       "model_id": "f7307939e3ec4cba8d5864093cd95852",
       "version_major": 2,
       "version_minor": 0
      },
      "text/plain": [
       "Button(description='Download as Excel', style=ButtonStyle())"
      ]
     },
     "metadata": {},
     "output_type": "display_data"
    },
    {
     "name": "stdout",
     "output_type": "stream",
     "text": [
      "Do you want to download the filtered accounting data?\n"
     ]
    },
    {
     "data": {
      "application/vnd.jupyter.widget-view+json": {
       "model_id": "6a3d63d6d6264b329407b85655530dea",
       "version_major": 2,
       "version_minor": 0
      },
      "text/plain": [
       "Button(description='Download as CSV', style=ButtonStyle())"
      ]
     },
     "metadata": {},
     "output_type": "display_data"
    },
    {
     "data": {
      "application/vnd.jupyter.widget-view+json": {
       "model_id": "030a59925a8743718d0abdbcd23f3991",
       "version_major": 2,
       "version_minor": 0
      },
      "text/plain": [
       "Button(description='Download as Excel', style=ButtonStyle())"
      ]
     },
     "metadata": {},
     "output_type": "display_data"
    },
    {
     "name": "stdout",
     "output_type": "stream",
     "text": [
      "Please select a statistic to calculate.\n"
     ]
    },
    {
     "data": {
      "application/vnd.jupyter.widget-view+json": {
       "model_id": "6910b49a03a84c69816953b5a827c0c2",
       "version_major": 2,
       "version_minor": 0
      },
      "text/plain": [
       "SelectMultiple(description='Statistics', index=(0,), options=('None', 'Average', 'Mean', 'Median', 'Standard D…"
      ]
     },
     "metadata": {},
     "output_type": "display_data"
    },
    {
     "name": "stdout",
     "output_type": "stream",
     "text": [
      "Please select an interval type to use in the statistic calculation. If count is selected, the interval will correspond to a count of rows. If time is selected, the interval will be a time window.\n"
     ]
    },
    {
     "data": {
      "application/vnd.jupyter.widget-view+json": {
       "model_id": "14e63266ec4b4974a687cf418a807999",
       "version_major": 2,
       "version_minor": 0
      },
      "text/plain": [
       "Dropdown(description='Interval Type', disabled=True, options=('None', 'Count', 'Time'), value='None')"
      ]
     },
     "metadata": {},
     "output_type": "display_data"
    },
    {
     "name": "stdout",
     "output_type": "stream",
     "text": [
      "If time was selected, please select the unit of time.\n"
     ]
    },
    {
     "data": {
      "application/vnd.jupyter.widget-view+json": {
       "model_id": "e3557caa257149eaa76f8d43eb413eb2",
       "version_major": 2,
       "version_minor": 0
      },
      "text/plain": [
       "Dropdown(description='Interval Unit', disabled=True, options=('None', 'Days', 'Hours', 'Minutes', 'Seconds'), …"
      ]
     },
     "metadata": {},
     "output_type": "display_data"
    },
    {
     "name": "stdout",
     "output_type": "stream",
     "text": [
      "Please provide the interval count.\n"
     ]
    },
    {
     "data": {
      "application/vnd.jupyter.widget-view+json": {
       "model_id": "d325774f0fd8480a965c31e6ebc70098",
       "version_major": 2,
       "version_minor": 0
      },
      "text/plain": [
       "IntText(value=0, description='Value:', disabled=True)"
      ]
     },
     "metadata": {},
     "output_type": "display_data"
    }
   ],
   "source": [
    "# -------------- CELL 5 --------------\n",
    "\n",
    "# if units.value != \"None\":\n",
    "#     time_series_df = nbf.get_timeseries_by_values_and_unit(unit_values, time_series_df)\n",
    "#\n",
    "# if len(hosts.value) > 0:\n",
    "#     time_series_df = nbf.get_timeseries_by_hosts(hosts.value, time_series_df)\n",
    "#\n",
    "# if len(job_ids.value) > 0:\n",
    "#     account_log_df = nbf.get_timeseries_by_job_ids(job_ids.value)\n",
    "#\n",
    "# if return_account_logs:\n",
    "#     account_log_df = nbf.get_account_logs_by_job_ids(time_series_df, account_log_df)\n",
    "\n",
    "# -------------- timeseries download --------------\n",
    "\n",
    "print(\"Do you want to download the filtered timeseries data?\")\n",
    "csv_download_button = widgets.Button(description=\"Download as CSV\")\n",
    "excel_download_button = widgets.Button(description=\"Download as Excel\")\n",
    "\n",
    "def on_csv_button_clicked(b):\n",
    "    display(nbf.create_csv_download_link(time_series_df, title=\"Download timeseries CSV\"))\n",
    "\n",
    "def on_excel_button_clicked(b):\n",
    "    display(nbf.create_excel_download_link(time_series_df, title=\"Download timeseries Excel\"))\n",
    "\n",
    "csv_download_button.on_click(on_csv_button_clicked)\n",
    "excel_download_button.on_click(on_excel_button_clicked)\n",
    "display(csv_download_button, excel_download_button)\n",
    "\n",
    "# -------------- account log download --------------\n",
    "\n",
    "print(\"Do you want to download the filtered accounting data?\")\n",
    "csv_acc_download_button = widgets.Button(description=\"Download as CSV\")\n",
    "excel_acc_download_button = widgets.Button(description=\"Download as Excel\")\n",
    "\n",
    "def on_acc_csv_button_clicked(b):\n",
    "    display(nbf.create_csv_download_link(account_log_df, title=\"Download accounting CSV\"))\n",
    "\n",
    "def on_acc_excel_button_clicked(b):\n",
    "    display(nbf.create_excel_download_link(account_log_df, title=\"Download accounting Excel\"))\n",
    "\n",
    "csv_acc_download_button.on_click(on_acc_csv_button_clicked)\n",
    "excel_acc_download_button.on_click(on_acc_excel_button_clicked)\n",
    "display(csv_acc_download_button, excel_acc_download_button)\n",
    "\n",
    "# -------------- stats options --------------\n",
    "stats = widgets.SelectMultiple(\n",
    "    options=['None', 'Average', 'Mean', 'Median', 'Standard Deviation', 'PDF', 'CDF', 'Ratio of Data Outside Threshold'],\n",
    "    value=['None'],\n",
    "    description='Statistics',\n",
    "    disabled=False\n",
    ")\n",
    "\n",
    "interval_type = widgets.Dropdown(\n",
    "    options=['None', 'Count', 'Time'],\n",
    "    value='None',\n",
    "    description='Interval Type',\n",
    "    disabled=True  # disabled by default\n",
    ")\n",
    "\n",
    "time_units = widgets.Dropdown(\n",
    "    options=['None', 'Days', 'Hours', 'Minutes', 'Seconds'],\n",
    "    value='None',\n",
    "    description='Interval Unit',\n",
    "    disabled=True  # disabled by default\n",
    ")\n",
    "\n",
    "time_value = widgets.IntText(\n",
    "    value=0,\n",
    "    description='Value:',\n",
    "    disabled=True  # disabled by default\n",
    ")\n",
    "\n",
    "# Define a function to be called when stats value changes\n",
    "def on_stats_change(change):\n",
    "    if change['type'] == 'change' and change['name'] == 'value':\n",
    "        if change['new'][0] != \"None\":  # enable interval_type if stats is not None\n",
    "            interval_type.disabled = False\n",
    "        else:  # disable interval_type if stats is None\n",
    "            interval_type.disabled = True\n",
    "            interval_type.value = 'None'  # reset interval_type to 'None'\n",
    "\n",
    "stats.observe(on_stats_change)\n",
    "\n",
    "# Define a function to be called when interval_type value changes\n",
    "def on_interval_type_change(change):\n",
    "    if change['type'] == 'change' and change['name'] == 'value':\n",
    "        if change['new'] == \"None\":\n",
    "            time_units.disabled = True\n",
    "            time_value.disabled = True\n",
    "            time_units.value = 'None'  # reset time_units to 'None'\n",
    "            time_value.value = 0  # reset time_value to 0\n",
    "        elif change['new'] == \"Time\":\n",
    "            time_units.disabled = False\n",
    "            time_value.disabled = False\n",
    "        elif change['new'] == \"Count\":\n",
    "            time_units.disabled = True\n",
    "            time_value.disabled = False\n",
    "        else:\n",
    "            time_units.disabled = False\n",
    "            time_value.disabled = False\n",
    "\n",
    "interval_type.observe(on_interval_type_change)\n",
    "\n",
    "# Display the widgets\n",
    "print(\"Please select a statistic to calculate.\")\n",
    "display(stats)\n",
    "print(\"Please select an interval type to use in the statistic calculation. If count is selected, the interval will correspond to a count of rows. If time is selected, the interval will be a time window.\")\n",
    "display(interval_type)\n",
    "print(\"If time was selected, please select the unit of time.\")\n",
    "display(time_units)\n",
    "print(\"Please provide the interval count.\")\n",
    "display(time_value)"
   ]
  },
  {
   "cell_type": "code",
   "execution_count": 7,
   "id": "58e03c05",
   "metadata": {
    "ExecuteTime": {
     "end_time": "2023-07-05T22:19:23.516732400Z",
     "start_time": "2023-07-05T22:19:21.842230500Z"
    }
   },
   "outputs": [
    {
     "name": "stdout",
     "output_type": "stream",
     "text": [
      "Plotting stats . . .\n",
      "Median: 10.659000396729 for 2023-07-05 16:22:39 to 2023-07-05 16:22:39\n",
      "Standard Deviation: 37.492689530357495 for 2023-07-05 16:22:39 to 2023-07-05 16:22:39\n",
      "If you would like to explore correlations among metrics and statistics, select from the options below:\n"
     ]
    },
    {
     "data": {
      "application/vnd.jupyter.widget-view+json": {
       "model_id": "0f88c3874b9e491eaaea92bf1a4302b7",
       "version_major": 2,
       "version_minor": 0
      },
      "text/plain": [
       "SelectMultiple(description='Metrics', index=(0,), options=('None', 'CPU %', 'GPU %', 'GB(memused_minus_diskcac…"
      ]
     },
     "metadata": {},
     "output_type": "display_data"
    },
    {
     "data": {
      "application/vnd.jupyter.widget-view+json": {
       "model_id": "114e5cafdb1c4bf9b959e5a5233edd5f",
       "version_major": 2,
       "version_minor": 0
      },
      "text/plain": [
       "SelectMultiple(description='Statistics', index=(1,), options=('Average', 'Mean', 'Median', 'Standard Deviation…"
      ]
     },
     "metadata": {},
     "output_type": "display_data"
    }
   ],
   "source": [
    "# -------------- CELL 6 --------------\n",
    "# Convert the 'Timestamp' columns to datetime\n",
    "time_series_df['Timestamp'] = pd.to_datetime(time_series_df['Timestamp'])\n",
    "# account_log_df['Timestamp'] = pd.to_datetime(account_log_df['Timestamp'])\n",
    "\n",
    "# set the 'Timestamp' column as the index\n",
    "time_series_df = time_series_df.set_index('Timestamp')\n",
    "# account_log_df = account_log_df.set_index('Timestamp')\n",
    "\n",
    "# sort each by timestamp\n",
    "time_series_df = time_series_df.sort_index()\n",
    "# account_log_df = account_log_df.sort_index()\n",
    "\n",
    "df_avg, df_mean, df_median, df_std = pd.DataFrame(), pd.DataFrame(), pd.DataFrame(), pd.DataFrame()\n",
    "time_map = {'Days': 'D', 'Hours': 'H', 'Minutes': 'T', 'Seconds': 'S'}\n",
    "\n",
    "pdf, cdf, ratio, rolling = False, False, False, False\n",
    "\n",
    "# Calculate stats:\n",
    "for choice in stats.value:\n",
    "    if choice == \"Average\":\n",
    "        if interval_type.value == \"Time\":\n",
    "            df_avg = nbf.get_average(time_series_df, True, f\"{time_value.value}{time_map[time_units.value]}\")\n",
    "            rolling = True\n",
    "        elif interval_type.value == \"Count\":\n",
    "            df_avg = nbf.get_average(time_series_df, True, time_value.value)\n",
    "            rolling = True\n",
    "        else:\n",
    "            df_avg = nbf.get_average(time_series_df)\n",
    "    if choice == \"Mean\":\n",
    "        if interval_type.value == \"Time\":\n",
    "            df_mean = nbf.get_mean(time_series_df, True, f\"{time_value.value}{time_map[time_units.value]}\")\n",
    "            rolling = True\n",
    "        elif interval_type.value == \"Count\":\n",
    "            df_mean = nbf.get_mean(time_series_df, True, time_value.value)\n",
    "            rolling = True\n",
    "        else:\n",
    "            df_mean = nbf.get_mean(time_series_df)\n",
    "    if choice == \"Median\":\n",
    "        if interval_type.value == \"Time\":\n",
    "            df_median = nbf.get_median(time_series_df, True, f\"{time_value.value}{time_map[time_units.value]}\")\n",
    "            rolling = True\n",
    "        elif interval_type.value == \"Count\":\n",
    "            df_median = nbf.get_median(time_series_df, True, time_value.value)\n",
    "            rolling = True\n",
    "        else:\n",
    "            df_median = nbf.get_median(time_series_df)\n",
    "    if choice == \"Standard Deviation\":\n",
    "        if interval_type.value == \"Time\":\n",
    "            df_std = nbf.get_standard_deviation(time_series_df, True, f\"{time_value.value}{time_map[time_units.value]}\")\n",
    "            rolling = True\n",
    "        elif interval_type.value == \"Count\":\n",
    "            df_std = nbf.get_standard_deviation(time_series_df, True, time_value.value)\n",
    "            rolling = True\n",
    "        else:\n",
    "            df_std = nbf.get_standard_deviation(time_series_df)\n",
    "    if choice == \"PDF\":\n",
    "        pdf = True\n",
    "    if choice == \"CDF\":\n",
    "        cdf = True\n",
    "    if choice == \"Ratio of Data Outside Threshold\":\n",
    "        ratio = True\n",
    "\n",
    "print(\"Plotting stats . . .\")\n",
    "\n",
    "# ********************** basic stats plot formatting & show **********************\n",
    "\n",
    "# Display statistical data of the average, mean, median, and std dev dataframes (for each that have data)\n",
    "for choice in stats.value:\n",
    "    if choice == \"Average\":\n",
    "        if not rolling:\n",
    "            print(f\"{choice}: {df_avg['Value']} for {start_time.value.strftime('%Y-%m-%d %H:%M:%S')} to {end_time.value.strftime('%Y-%m-%d %H:%M:%S')}\")\n",
    "        else:\n",
    "            df_avg['Value'].plot(label='Average', color='b')\n",
    "    if choice == \"Mean\":\n",
    "        if not rolling:\n",
    "            print(f\"{choice}: {df_mean['Value']} for {start_time.value.strftime('%Y-%m-%d %H:%M:%S')} to {end_time.value.strftime('%Y-%m-%d %H:%M:%S')}\")\n",
    "        else:\n",
    "            df_mean['Value'].plot(label='Mean', color='g')\n",
    "    if choice == \"Median\":\n",
    "        if not rolling:\n",
    "            print(f\"{choice}: {df_median['Value']} for {start_time.value.strftime('%Y-%m-%d %H:%M:%S')} to {end_time.value.strftime('%Y-%m-%d %H:%M:%S')}\")\n",
    "        else:\n",
    "            df_median['Value'].plot(label='Median', color='r')\n",
    "    if choice == \"Standard Deviation\":\n",
    "        if not rolling:\n",
    "            print(f\"{choice}: {df_std['Value']} for {start_time.value.strftime('%Y-%m-%d %H:%M:%S')} to {end_time.value.strftime('%Y-%m-%d %H:%M:%S')}\")\n",
    "        else:\n",
    "            df_std['Value'].plot(label='Std Dev', color='k')\n",
    "\n",
    "if rolling:\n",
    "    x_axis_label = \"\"\n",
    "    if interval_type.value == \"Count\":\n",
    "        x_axis_label += f\"Timestamp - Rolling Window: {time_value.value:,} Rows\"\n",
    "    elif interval_type.value == \"Time\":\n",
    "        x_axis_label += f\"Timestamp - Rolling Window: {time_value.value}{time_map[time_units.value]}\"\n",
    "    else:\n",
    "        x_axis_label += \"Timestamp\"\n",
    "\n",
    "    y_axis_label = \"\"\n",
    "    if len(unit_values) > 0:\n",
    "        for key in unit_values.keys():\n",
    "            y_axis_label += f\"{key} \"\n",
    "\n",
    "\n",
    "    plt.gcf().autofmt_xdate()  # auto formats datetimes\n",
    "    plt.style.use('fivethirtyeight')\n",
    "    plt.legend(loc='upper left', fontsize=\"10\")\n",
    "    plt.xlabel(x_axis_label)\n",
    "    plt.ylabel(y_axis_label)\n",
    "    plt.grid()\n",
    "    plt.show()\n",
    "\n",
    "\n",
    "# ********************** PDF plot formatting & show **********************\n",
    "\n",
    "if pdf:\n",
    "    print(\"Plotting PDF . . .\")\n",
    "    time_series_df = time_series_df.dropna()\n",
    "    sns.histplot(time_series_df['Value'], kde=True)\n",
    "    plt.title('Probability Density Function (PDF)')\n",
    "    plt.show()\n",
    "\n",
    "# ********************** CDF plot formatting & show **********************\n",
    "if cdf:\n",
    "    print(\"Plotting CDF . . .\")\n",
    "    time_series_df = time_series_df.dropna()\n",
    "    sns.histplot(time_series_df['Value'], cumulative=True, element=\"step\", fill=False)\n",
    "    plt.title('Cumulative Distribution Function (CDF)')\n",
    "    plt.show()\n",
    "\n",
    "# Give the user the option to calculate correlations\n",
    "print(\"If you would like to explore correlations among metrics and statistics, select from the options below:\")\n",
    "\n",
    "correlations = widgets.SelectMultiple(\n",
    "    options=['None', 'CPU %', 'GPU %', 'GB(memused_minus_diskcache)', 'GB(memused)', 'GB/s', 'MB/s'],\n",
    "    value=['None'],\n",
    "    description='Metrics',\n",
    "    disabled=False\n",
    ")\n",
    "\n",
    "stats = widgets.SelectMultiple(\n",
    "    options=['Average', 'Mean', 'Median', 'Standard Deviation', 'PDF', 'CDF', 'Ratio of Data Outside Threshold'],\n",
    "    value=['Mean'],\n",
    "    description='Statistics',\n",
    "    disabled=False\n",
    ")\n",
    "\n",
    "display(correlations, stats)\n"
   ]
  },
  {
   "cell_type": "code",
   "execution_count": null,
   "id": "6614ebea",
   "metadata": {},
   "outputs": [],
   "source": [
    "# -------------- CELL 7 --------------\n",
    "\n",
    "# calculate correlations\n",
    "nbf.calculate_correlation()\n",
    "\n",
    "# Display correlation visualizations here\n"
   ]
  },
  {
   "cell_type": "code",
   "execution_count": null,
   "id": "e150e5fa",
   "metadata": {},
   "outputs": [],
   "source": [
    "# -------------- CELL 8 ---------------\n",
    "\n",
    "# Give the user the option to download data here.\n",
    "print(\"Select the files to be downloaded:\")\n",
    "files_to_provide = widgets.SelectMultiple(\n",
    "    options=['None', 'job_ts_metrics_aug2022_anon', 'job_ts_metrics_dec2022_anon',\n",
    "             'job_ts_metrics_jan2022_anon', 'job_ts_metrics_july2022_anon',\n",
    "             'job_ts_metrics_nov2022_anon', 'job_ts_metrics_sep2022_anon'],\n",
    "    value=['None'],\n",
    "    description='Files',\n",
    "    disabled=False\n",
    ")\n",
    "display(files_to_provide)\n",
    "\n",
    "# Create and display download button\n",
    "download_button = widgets.Button(description='Download File/s')\n",
    "download_button.on_click(nbf.on_download_button_clicked)\n",
    "display(download_button)"
   ]
  },
  {
   "cell_type": "code",
   "execution_count": null,
   "id": "9e516ccc",
   "metadata": {},
   "outputs": [],
   "source": [
    "# -------------- CELL 9 ---------------\n"
   ]
  }
 ],
 "metadata": {
  "kernelspec": {
   "display_name": "Python 3 (ipykernel)",
   "language": "python",
   "name": "python3"
  },
  "language_info": {
   "codemirror_mode": {
    "name": "ipython",
    "version": 3
   },
   "file_extension": ".py",
   "mimetype": "text/x-python",
   "name": "python",
   "nbconvert_exporter": "python",
   "pygments_lexer": "ipython3",
   "version": "3.11.4"
  }
 },
 "nbformat": 4,
 "nbformat_minor": 5
}

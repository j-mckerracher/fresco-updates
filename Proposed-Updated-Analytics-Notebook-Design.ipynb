{
 "cells": [
  {
   "cell_type": "code",
   "execution_count": 1,
   "id": "814c04de",
   "metadata": {},
   "outputs": [
    {
     "name": "stdout",
     "output_type": "stream",
     "text": [
      "Please provide the directory path to the data files e.g., 'D:\\Data'\n"
     ]
    },
    {
     "data": {
      "application/vnd.jupyter.widget-view+json": {
       "model_id": "9045f7dfa9d54aa1bb39b1ff923db054",
       "version_major": 2,
       "version_minor": 0
      },
      "text/plain": [
       "Text(value='', description='Path:', placeholder='')"
      ]
     },
     "metadata": {},
     "output_type": "display_data"
    }
   ],
   "source": [
    "from IPython.display import display\n",
    "import ipywidgets as widgets\n",
    "import pandas as pd\n",
    "import os\n",
    "\n",
    "print(r\"Please provide the directory path to the data files e.g., 'D:\\Data'\")\n",
    "dir_path = widgets.Text(\n",
    "    value='',\n",
    "    placeholder='',\n",
    "    description='Path:',\n",
    "    disabled=False\n",
    ")\n",
    "display(dir_path)"
   ]
  },
  {
   "cell_type": "code",
   "execution_count": 9,
   "id": "7ff024e8",
   "metadata": {},
   "outputs": [
    {
     "name": "stdout",
     "output_type": "stream",
     "text": [
      "Data preprocessing: select this option if rows with missing metrics should be removed.\n"
     ]
    },
    {
     "data": {
      "application/vnd.jupyter.widget-view+json": {
       "model_id": "621149cd9c0a4767b1ff885d0ed5644a",
       "version_major": 2,
       "version_minor": 0
      },
      "text/plain": [
       "ToggleButton(value=False, description='Remove Rows with Missing Metrics?', icon='check', tooltip='Remove Rows …"
      ]
     },
     "metadata": {},
     "output_type": "display_data"
    },
    {
     "name": "stdout",
     "output_type": "stream",
     "text": [
      "Data preprocessing: select this option if an interval column should be added to the data.\n"
     ]
    },
    {
     "data": {
      "application/vnd.jupyter.widget-view+json": {
       "model_id": "91a1306b0e8d4fabbb17f1479c4b37b8",
       "version_major": 2,
       "version_minor": 0
      },
      "text/plain": [
       "ToggleButton(value=False, description='Add Interval Column?', icon='check', tooltip='Add Interval Column?')"
      ]
     },
     "metadata": {},
     "output_type": "display_data"
    }
   ],
   "source": [
    "def get_data_files_directory(path):\n",
    "    \"\"\"\n",
    "    This function should produce a folder path to the data files.\n",
    "    :param path:\n",
    "    :return:\n",
    "    \"\"\"\n",
    "    pass\n",
    "\n",
    "\n",
    "data_path = get_data_files_directory(dir_path.value)\n",
    "\n",
    "# Data preprocessing: handling missing metrics\n",
    "print(\"Data preprocessing: select this option if rows with missing metrics should be removed.\")\n",
    "missing_metrics = widgets.ToggleButton(\n",
    "    value=False,\n",
    "    description='Remove Rows with Missing Metrics?',\n",
    "    disabled=False,\n",
    "    button_style='',\n",
    "    tooltip='Remove Rows with Missing Metrics?',\n",
    "    icon='check'\n",
    ")\n",
    "display(missing_metrics)\n",
    "\n",
    "print(\"Data preprocessing: select this option if an interval column should be added to the data.\")\n",
    "interval = widgets.ToggleButton(\n",
    "    value=False,\n",
    "    description='Add Interval Column?',\n",
    "    disabled=False,\n",
    "    button_style='',\n",
    "    tooltip='Add Interval Column?',\n",
    "    icon='check'\n",
    ")\n",
    "display(interval)"
   ]
  },
  {
   "cell_type": "code",
   "execution_count": 10,
   "id": "7a37a54c",
   "metadata": {},
   "outputs": [
    {
     "name": "stdout",
     "output_type": "stream",
     "text": [
      "Please select the start time and end time for the data preprocessing.\n"
     ]
    },
    {
     "data": {
      "application/vnd.jupyter.widget-view+json": {
       "model_id": "adc34d1512484ecb9b904063d5495f3d",
       "version_major": 2,
       "version_minor": 0
      },
      "text/plain": [
       "Text(value='01-01-2020', description='Start Time:', placeholder='')"
      ]
     },
     "metadata": {},
     "output_type": "display_data"
    },
    {
     "data": {
      "application/vnd.jupyter.widget-view+json": {
       "model_id": "908e095f1d37408a860de8ffce0ee0e8",
       "version_major": 2,
       "version_minor": 0
      },
      "text/plain": [
       "Text(value='12-31-9999', description='End Time:', placeholder='')"
      ]
     },
     "metadata": {},
     "output_type": "display_data"
    }
   ],
   "source": [
    "if missing_metrics.value or interval.value:\n",
    "    print(\"Please select the start time and end time for the data preprocessing.\")\n",
    "    start_time = widgets.Text(\n",
    "        value='01-01-2020',\n",
    "        placeholder='',\n",
    "        description='Start Time:',\n",
    "        disabled=False\n",
    "    )\n",
    "\n",
    "    end_time = widgets.Text(\n",
    "        value='12-31-9999',\n",
    "        placeholder='',\n",
    "        description='End Time:',\n",
    "        disabled=False\n",
    "    )\n",
    "    display(start_time, end_time)"
   ]
  },
  {
   "cell_type": "code",
   "execution_count": 21,
   "id": "c2bb83db",
   "metadata": {},
   "outputs": [
    {
     "name": "stdout",
     "output_type": "stream",
     "text": [
      "Optional: select the units to be included in the timeseries data.\n"
     ]
    },
    {
     "data": {
      "application/vnd.jupyter.widget-view+json": {
       "model_id": "96748bf6378649e6b920b74c054e8db1",
       "version_major": 2,
       "version_minor": 0
      },
      "text/plain": [
       "ToggleButtons(description='Units:', options=('None', 'CPU %:cpuuser', 'GPU %:gpu_usage', 'GB:memused_minus_dis…"
      ]
     },
     "metadata": {},
     "output_type": "display_data"
    }
   ],
   "source": [
    "def handle_missing_metrics(starting_time, ending_time, path):\n",
    "    \"\"\"\n",
    "    This function should remove the rows within the given timeframe that are missing metrics.\n",
    "    :param starting_time:\n",
    "    :param ending_time:\n",
    "    :param path:\n",
    "    :return:\n",
    "    \"\"\"\n",
    "    pass\n",
    "\n",
    "\n",
    "def add_interval_column(starting_time, ending_time, path):\n",
    "    \"\"\"\n",
    "    This function should add an interval column to the data that falls within the given timeframe. The interval column\n",
    "    should reflect the length of each timestamp.\n",
    "    :param starting_time:\n",
    "    :param ending_time:\n",
    "    :param path:\n",
    "    :return:\n",
    "    \"\"\"\n",
    "    pass\n",
    "\n",
    "dataframe = pd.DataFrame()\n",
    "\n",
    "if missing_metrics.value:\n",
    "    dataframe = handle_missing_metrics(start_time.value, end_time.value, data_path)\n",
    "\n",
    "if interval.value:\n",
    "    dataframe = add_interval_column(start_time.value, end_time.value, data_path)\n",
    "\n",
    "if not missing_metrics.value and not interval.value:\n",
    "    print(\"Please enter a start time and end time.\")\n",
    "    start_time = widgets.Text(\n",
    "        value='01-01-2020',\n",
    "        placeholder='',\n",
    "        description='Start Time:',\n",
    "        disabled=False\n",
    "    )\n",
    "\n",
    "    end_time = widgets.Text(\n",
    "        value='12-31-9999',\n",
    "        placeholder='',\n",
    "        description='End Time:',\n",
    "        disabled=False\n",
    "    )\n",
    "    display(start_time, end_time)\n",
    "\n",
    "print(\"Optional: select the units to be included in the timeseries data.\")\n",
    "units = widgets.ToggleButtons(\n",
    "    options=['None', 'CPU %:cpuuser', 'GPU %:gpu_usage', 'GB:memused_minus_diskcache or memused', 'GB/s:block', 'MB/s:nfs'],\n",
    "    description='Units:',\n",
    "    disabled=False,\n",
    "    button_style='',\n",
    "    tooltips=['None', 'CPU %', 'GPU %', 'GB', 'GB/s', 'MB/s']\n",
    ")\n",
    "\n",
    "display(units)"
   ]
  },
  {
   "cell_type": "code",
   "execution_count": 22,
   "id": "b1cb487b",
   "metadata": {},
   "outputs": [
    {
     "name": "stdout",
     "output_type": "stream",
     "text": [
      "Enter the low value for CPU %:cpuuser\n"
     ]
    },
    {
     "data": {
      "application/vnd.jupyter.widget-view+json": {
       "model_id": "bdf60c172cfa42348369f77098a672ee",
       "version_major": 2,
       "version_minor": 0
      },
      "text/plain": [
       "FloatText(value=0.1, description='CPU %:cpuuser Low Value:')"
      ]
     },
     "metadata": {},
     "output_type": "display_data"
    },
    {
     "name": "stdout",
     "output_type": "stream",
     "text": [
      "Enter the high value for CPU %:cpuuser\n"
     ]
    },
    {
     "data": {
      "application/vnd.jupyter.widget-view+json": {
       "model_id": "08246e223860472eaef8fb41e9d8da70",
       "version_major": 2,
       "version_minor": 0
      },
      "text/plain": [
       "FloatText(value=99.9, description='CPU %:cpuuser High Value:')"
      ]
     },
     "metadata": {},
     "output_type": "display_data"
    },
    {
     "name": "stdout",
     "output_type": "stream",
     "text": [
      "Optional: select the hosts to be included in the timeseries data e.g., 'NODE1, NODE2'\n"
     ]
    },
    {
     "data": {
      "application/vnd.jupyter.widget-view+json": {
       "model_id": "203db3e9919a43db9207ce7daeeb3e73",
       "version_major": 2,
       "version_minor": 0
      },
      "text/plain": [
       "Text(value='', description='Hosts:', placeholder='')"
      ]
     },
     "metadata": {},
     "output_type": "display_data"
    },
    {
     "name": "stdout",
     "output_type": "stream",
     "text": [
      "Optional: select the jobs to be included in the timeseries data e.g., 'JOB1, JOB2'\n"
     ]
    },
    {
     "data": {
      "application/vnd.jupyter.widget-view+json": {
       "model_id": "dc8b9a88bf2646988a125fc057f3555a",
       "version_major": 2,
       "version_minor": 0
      },
      "text/plain": [
       "Text(value='', description='Jobs:', placeholder='')"
      ]
     },
     "metadata": {},
     "output_type": "display_data"
    },
    {
     "name": "stdout",
     "output_type": "stream",
     "text": [
      "Optional: select if you want the account logs to be returned for the Job IDs matching your query.\n"
     ]
    },
    {
     "data": {
      "application/vnd.jupyter.widget-view+json": {
       "model_id": "3443b5342e344e1fbad0390d08f77bd4",
       "version_major": 2,
       "version_minor": 0
      },
      "text/plain": [
       "ToggleButton(value=False, description='Account Logs', icon='check', tooltip='Return Account Logs?')"
      ]
     },
     "metadata": {},
     "output_type": "display_data"
    },
    {
     "name": "stdout",
     "output_type": "stream",
     "text": [
      "Optional: select the columns to be included in the timeseries data (hold control to select multiple). If no columns are selected, all columns will be included.\n"
     ]
    },
    {
     "data": {
      "application/vnd.jupyter.widget-view+json": {
       "model_id": "d645539acf7f4807b4b1ca83d78ae589",
       "version_major": 2,
       "version_minor": 0
      },
      "text/plain": [
       "SelectMultiple(description='Return Columns', index=(0,), options=('None', 'Job Id', 'Hosts', 'Events', 'Units'…"
      ]
     },
     "metadata": {},
     "output_type": "display_data"
    }
   ],
   "source": [
    "if units.value != 'None':\n",
    "    print(f\"Enter the low value for {units.value}\")\n",
    "    low_value = widgets.FloatText(\n",
    "        value=0.1,\n",
    "        description=f'{units.value} Low Value:',\n",
    "        disabled=False\n",
    "    )\n",
    "    display(low_value)\n",
    "\n",
    "    print(f\"Enter the high value for {units.value}\")\n",
    "    high_value = widgets.FloatText(\n",
    "        value=99.9,\n",
    "        description=f'{units.value} High Value:',\n",
    "        disabled=False\n",
    "    )\n",
    "    display(high_value)\n",
    "    \n",
    "    if units.value == \"GB\":\n",
    "        print(\"Select the Event type for GB:\")\n",
    "        event = widgets.ToggleButtons(\n",
    "            options=['memused_minus_diskcache', 'memused'],\n",
    "            description='Event:',\n",
    "            disabled=False,\n",
    "            button_style='',\n",
    "            tooltips=['memused_minus_diskcache', 'memused']\n",
    "        )\n",
    "        display(event)\n",
    "\n",
    "\n",
    "print(\"Optional: select the hosts to be included in the timeseries data e.g., 'NODE1, NODE2'\")\n",
    "hosts = widgets.Text(\n",
    "    value='',\n",
    "    placeholder='',\n",
    "    description='Hosts:',\n",
    "    disabled=False\n",
    ")\n",
    "display(hosts)\n",
    "\n",
    "print(\"Optional: select the jobs to be included in the timeseries data e.g., 'JOB1, JOB2'\")\n",
    "job_ids = widgets.Text(\n",
    "    value='',\n",
    "    placeholder='',\n",
    "    description='Jobs:',\n",
    "    disabled=False\n",
    ")\n",
    "display(job_ids)\n",
    "\n",
    "print(\"Optional: select if you want the account logs to be returned for the Job IDs matching your query.\")\n",
    "return_account_logs = widgets.ToggleButton(\n",
    "    value=False,\n",
    "    description='Account Logs',\n",
    "    disabled=False,\n",
    "    button_style='',\n",
    "    tooltip='Return Account Logs?',\n",
    "    icon='check'\n",
    ")\n",
    "display(return_account_logs)\n",
    "\n",
    "print(\"Optional: select the columns to be included in the timeseries data (hold control to select multiple). If no columns are \"\n",
    "      \"selected, all columns will be included.\")\n",
    "timeseries_return_columns = widgets.SelectMultiple(\n",
    "    options=['None', 'Job Id', 'Hosts', 'Events', 'Units', 'Values', 'Timestamps'],\n",
    "    value=['None'],\n",
    "    description='Return Columns',\n",
    "    disabled=False\n",
    ")\n",
    "display(timeseries_return_columns)"
   ]
  },
  {
   "cell_type": "code",
   "execution_count": null,
   "id": "4f5b1281",
   "metadata": {},
   "outputs": [],
   "source": [
    "def get_timeseries_by_timestamp(begin_time: str, end_time: str, return_columns: list) -> pd.DataFrame:\n",
    "    pass\n",
    "\n",
    "def get_timeseries_by_values_and_unit(units: str, low_value, high_value) -> pd.DataFrame:\n",
    "    pass\n",
    "\n",
    "\n",
    "def get_timeseries_by_hosts(hosts: str) -> pd.DataFrame:\n",
    "    pass\n",
    "\n",
    "\n",
    "def get_timeseries_by_job_ids(job_ids: str) -> pd.DataFrame:\n",
    "    pass\n",
    "\n",
    "\n",
    "def get_account_logs_by_job_ids(job_ids: str) -> pd.DataFrame:\n",
    "    pass\n",
    "\n",
    "\n",
    "get_timeseries_by_timestamp(start_time.value, end_time.value, timeseries_return_columns.value)\n",
    "\n",
    "if units.value != \"None\":\n",
    "    get_timeseries_by_values_and_unit(units.value, low_value.value, high_value.value)\n",
    "\n",
    "if len(hosts.value) > 0:\n",
    "    get_timeseries_by_hosts(hosts.value)\n",
    "    \n",
    "if len(job_ids.value) > 0:\n",
    "    get_account_logs_by_job_ids(job_ids.value)\n",
    "    \n"
   ]
  },
  {
   "cell_type": "code",
   "execution_count": 5,
   "id": "52ccd25f",
   "metadata": {},
   "outputs": [
    {
     "data": {
      "application/vnd.jupyter.widget-view+json": {
       "model_id": "7fa85ad448894fe8bb0acb69c510b293",
       "version_major": 2,
       "version_minor": 0
      },
      "text/plain": [
       "SelectMultiple(description='Statistics', index=(0,), options=('Mean', 'Median', 'Mode', 'Standard Deviation', …"
      ]
     },
     "metadata": {},
     "output_type": "display_data"
    }
   ],
   "source": [
    "stats = widgets.SelectMultiple(\n",
    "    options=['Mean', 'Median', 'Mode', 'Standard Deviation', 'Variance'],\n",
    "    value=['Mean'],\n",
    "    description='Statistics',\n",
    "    disabled=False\n",
    ")\n",
    "\n",
    "display(stats)"
   ]
  },
  {
   "cell_type": "code",
   "execution_count": null,
   "id": "58e03c05",
   "metadata": {},
   "outputs": [],
   "source": [
    "def get_stat():  # placeholder\n",
    "    pass"
   ]
  },
  {
   "cell_type": "code",
   "execution_count": null,
   "id": "6614ebea",
   "metadata": {},
   "outputs": [],
   "source": [
    "# Display statistical data here"
   ]
  }
 ],
 "metadata": {
  "kernelspec": {
   "display_name": "Python 3.11 (XPython)",
   "language": "python",
   "name": "xpython"
  },
  "language_info": {
   "file_extension": ".py",
   "mimetype": "text/x-python",
   "name": "python",
   "version": "3.11.2"
  }
 },
 "nbformat": 4,
 "nbformat_minor": 5
}

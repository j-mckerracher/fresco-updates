{
 "cells": [
  {
   "cell_type": "markdown",
   "id": "64f51439",
   "metadata": {},
   "source": [
    "## FRESCO Analytics Notebook\n",
    "### Overview\n",
    "This notebook has been designed to make analysis of the Anvil dataset as easy as possible. Generally speaking, it will allow the user to access the Anvil files stored locally, select a number of analysis options, and view the results.\n",
    "### Instructions\n",
    "1. Run the first cell and provide the complete directory path to the data in the 'Path' field.\n",
    "2. Run the second cell. If data preprocessing is needed, select the desired options. Otherwise, skip to the \"If data preprocessing options were not selected, follow these instructions\" section below.\n",
    "#### If data preprocessing options were selected, follow these instructions\n",
    "3. Run cell 3 and provide start time and end times.\n",
    "4. Run cell 4 and select the units to be included in the timeseries data.\n",
    "5. Run cell 5 and provide the desired options.\n",
    "6. Run cell 6 and provide the desired statistic.\n",
    "7. Run cell 7 and provide the desired data visualisation options.\n",
    "8. Run cell 8 to see the data visualizations.\n",
    "\n",
    "#### If data preprocessing options were not selected, follow these instructions\n",
    "3. Run cell 4 and provide start time and end times and select the units to be included in the timeseries data.\n",
    "4. Run cell 5 and provide the desired options.\n",
    "5. Run cell 6 and provide the desired statistic.\n",
    "6. Run cell 7 and provide the desired data visualisation options.\n",
    "7. Run cell 8 to see the data visualizations.\n"
   ]
  },
  {
   "cell_type": "code",
   "execution_count": 1,
   "id": "814c04de",
   "metadata": {
    "ExecuteTime": {
     "end_time": "2023-06-14T21:50:05.006390300Z",
     "start_time": "2023-06-14T21:50:02.725124Z"
    }
   },
   "outputs": [
    {
     "name": "stdout",
     "output_type": "stream",
     "text": [
      "Please provide the directory path to the data files e.g., D:\\Data\n"
     ]
    },
    {
     "data": {
      "text/plain": "Text(value='', description='Path:', placeholder='')",
      "application/vnd.jupyter.widget-view+json": {
       "version_major": 2,
       "version_minor": 0,
       "model_id": "0715850a94004d50900f2446f5acb530"
      }
     },
     "metadata": {},
     "output_type": "display_data"
    }
   ],
   "source": [
    "# -------------- CELL 1 --------------\n",
    "\n",
    "from IPython.display import display, FileLink\n",
    "import ipywidgets as widgets\n",
    "import pandas as pd\n",
    "import notebook_functions as nbf\n",
    "\n",
    "print(r\"Please provide the directory path to the data files e.g., D:\\Data\")\n",
    "dir_path = widgets.Text(\n",
    "    value='',\n",
    "    placeholder='',\n",
    "    description='Path:',\n",
    "    disabled=False\n",
    ")\n",
    "display(dir_path)"
   ]
  },
  {
   "cell_type": "code",
   "execution_count": 2,
   "id": "7ff024e8",
   "metadata": {
    "scrolled": true,
    "ExecuteTime": {
     "end_time": "2023-06-14T21:50:40.530682400Z",
     "start_time": "2023-06-14T21:50:40.450444300Z"
    }
   },
   "outputs": [
    {
     "name": "stdout",
     "output_type": "stream",
     "text": [
      "Data preprocessing: select either option (or both):\n"
     ]
    },
    {
     "data": {
      "text/plain": "SelectMultiple(description='Preprocessing:', index=(0,), options=('None', 'Remove Rows with Missing Metrics?',…",
      "application/vnd.jupyter.widget-view+json": {
       "version_major": 2,
       "version_minor": 0,
       "model_id": "c0bf1437d330421cb7fef85b46acca01"
      }
     },
     "metadata": {},
     "output_type": "display_data"
    }
   ],
   "source": [
    "# -------------- CELL 2 --------------\n",
    "\n",
    "data_path = nbf.get_data_files_directory(dir_path.value)\n",
    "\n",
    "print(\"Data preprocessing: select either option (or both):\")\n",
    "preprocessing = widgets.SelectMultiple(\n",
    "    options=['None', 'Remove Rows with Missing Metrics?', 'Add an Interval Column?'],\n",
    "    value=['None'],\n",
    "    description='Preprocessing:',\n",
    "    disabled=False,\n",
    ")\n",
    "\n",
    "display(preprocessing)"
   ]
  },
  {
   "cell_type": "code",
   "execution_count": 3,
   "id": "7a37a54c",
   "metadata": {
    "ExecuteTime": {
     "end_time": "2023-06-12T19:17:30.055612600Z",
     "start_time": "2023-06-12T19:17:30.035612400Z"
    }
   },
   "outputs": [],
   "source": [
    "# -------------- CELL 3 --------------\n",
    "pre_proc_bools = {\"preprocess_remove\": False, \"add_interval_col\": False}\n",
    "\n",
    "for value in preprocessing.value:\n",
    "    if \"Remove\" in value or \"Add\" in value:\n",
    "        print(\"Please add the start time and end time for the data preprocessing. Please use the form MM-DD-YYYY HH:MM:SS\")\n",
    "        start_time = widgets.Text(\n",
    "            value='01-01-2020 00:01:01',\n",
    "            placeholder='',\n",
    "            description='Start Time:',\n",
    "            disabled=False\n",
    "        )\n",
    "\n",
    "        end_time = widgets.Text(\n",
    "            value='12-31-9999 23:59:59',\n",
    "            placeholder='',\n",
    "            description='End Time:',\n",
    "            disabled=False\n",
    "        )\n",
    "        display(start_time, end_time)\n",
    "        break\n",
    "\n",
    "for value in preprocessing.value:\n",
    "    if \"Remove\" in value:\n",
    "        pre_proc_bools[\"preprocess_remove\"] = True\n",
    "    if \"Add\" in value:\n",
    "        pre_proc_bools[\"add_interval_col\"] = True\n",
    "\n"
   ]
  },
  {
   "cell_type": "code",
   "execution_count": 4,
   "id": "c2bb83db",
   "metadata": {
    "ExecuteTime": {
     "end_time": "2023-06-12T19:17:32.271924900Z",
     "start_time": "2023-06-12T19:17:32.211473Z"
    }
   },
   "outputs": [
    {
     "name": "stdout",
     "output_type": "stream",
     "text": [
      "Please enter a start time and end time.\n"
     ]
    },
    {
     "data": {
      "text/plain": "Text(value='01-01-2020', description='Start Time:', placeholder='')",
      "application/vnd.jupyter.widget-view+json": {
       "version_major": 2,
       "version_minor": 0,
       "model_id": "a2649b259e144d0092beec9af39914b8"
      }
     },
     "metadata": {},
     "output_type": "display_data"
    },
    {
     "data": {
      "text/plain": "Text(value='12-31-9999', description='End Time:', placeholder='')",
      "application/vnd.jupyter.widget-view+json": {
       "version_major": 2,
       "version_minor": 0,
       "model_id": "849a2c6333bc46158545dc8c66d6593d"
      }
     },
     "metadata": {},
     "output_type": "display_data"
    },
    {
     "name": "stdout",
     "output_type": "stream",
     "text": [
      "Optional: select the units to be included in the timeseries data.\n"
     ]
    },
    {
     "data": {
      "text/plain": "SelectMultiple(description='Units:', index=(0,), options=('None', 'CPU %', 'GPU %', 'GB:memused', 'GB:memused_…",
      "application/vnd.jupyter.widget-view+json": {
       "version_major": 2,
       "version_minor": 0,
       "model_id": "0e2e2310f0ee4bdbbad7a98496416f57"
      }
     },
     "metadata": {},
     "output_type": "display_data"
    }
   ],
   "source": [
    "# -------------- CELL 4 --------------\n",
    "\n",
    "dataframe = pd.DataFrame()\n",
    "\n",
    "if pre_proc_bools[\"preprocess_remove\"]:\n",
    "    dataframe = nbf.handle_missing_metrics(start_time.value, end_time.value, data_path)\n",
    "\n",
    "if pre_proc_bools[\"add_interval_col\"]:\n",
    "    dataframe = nbf.add_interval_column(start_time.value, end_time.value, data_path)\n",
    "\n",
    "if not pre_proc_bools[\"preprocess_remove\"] and not pre_proc_bools[\"add_interval_col\"]:\n",
    "    print(\"Please enter a start time and end time. Please use the form MM-DD-YYYY HH:MM:SS\")\n",
    "    start_time = widgets.Text(\n",
    "        value='01-01-2020 00:01:01',\n",
    "        placeholder='',\n",
    "        description='Start Time:',\n",
    "        disabled=False\n",
    "    )\n",
    "\n",
    "    end_time = widgets.Text(\n",
    "        value='12-31-9999 23:59:59',\n",
    "        placeholder='',\n",
    "        description='End Time:',\n",
    "        disabled=False\n",
    "    )\n",
    "    display(start_time, end_time)\n",
    "\n",
    "print(\"Optional: select the units to be included in the timeseries data.\")\n",
    "units = widgets.SelectMultiple(\n",
    "    options=['None', 'CPU %', 'GPU %', 'GB:memused', 'GB:memused_minus_diskcache', 'GB/s', 'MB/s'],\n",
    "    value=['None'],\n",
    "    description='Units:',\n",
    "    disabled=False,\n",
    ")\n",
    "\n",
    "display(units)"
   ]
  },
  {
   "cell_type": "code",
   "execution_count": 5,
   "id": "b1cb487b",
   "metadata": {
    "ExecuteTime": {
     "end_time": "2023-06-12T19:17:39.877534800Z",
     "start_time": "2023-06-12T19:17:39.760932700Z"
    }
   },
   "outputs": [
    {
     "name": "stdout",
     "output_type": "stream",
     "text": [
      "********************************\n",
      "Enter the low value for CPU %\n"
     ]
    },
    {
     "data": {
      "text/plain": "FloatText(value=0.1, description='CPU % Low Value:')",
      "application/vnd.jupyter.widget-view+json": {
       "version_major": 2,
       "version_minor": 0,
       "model_id": "278e181a3e4b40fe885988da87507cd5"
      }
     },
     "metadata": {},
     "output_type": "display_data"
    },
    {
     "name": "stdout",
     "output_type": "stream",
     "text": [
      "Enter the high value for CPU %\n"
     ]
    },
    {
     "data": {
      "text/plain": "FloatText(value=99.9, description='CPU % High Value:')",
      "application/vnd.jupyter.widget-view+json": {
       "version_major": 2,
       "version_minor": 0,
       "model_id": "6283aafe6ace42d6acf14ca203e102f2"
      }
     },
     "metadata": {},
     "output_type": "display_data"
    },
    {
     "data": {
      "text/plain": "Button(description='Save Values', style=ButtonStyle())",
      "application/vnd.jupyter.widget-view+json": {
       "version_major": 2,
       "version_minor": 0,
       "model_id": "14e280c89b6546b59e51eeb42b080234"
      }
     },
     "metadata": {},
     "output_type": "display_data"
    },
    {
     "name": "stdout",
     "output_type": "stream",
     "text": [
      "********************************\n",
      "Enter the low value for GPU %\n"
     ]
    },
    {
     "data": {
      "text/plain": "FloatText(value=0.1, description='GPU % Low Value:')",
      "application/vnd.jupyter.widget-view+json": {
       "version_major": 2,
       "version_minor": 0,
       "model_id": "a5a1f890e6ef474abf8a18841fb5565d"
      }
     },
     "metadata": {},
     "output_type": "display_data"
    },
    {
     "name": "stdout",
     "output_type": "stream",
     "text": [
      "Enter the high value for GPU %\n"
     ]
    },
    {
     "data": {
      "text/plain": "FloatText(value=99.9, description='GPU % High Value:')",
      "application/vnd.jupyter.widget-view+json": {
       "version_major": 2,
       "version_minor": 0,
       "model_id": "72cb5fe855ab487ab5d73b7d8d286b31"
      }
     },
     "metadata": {},
     "output_type": "display_data"
    },
    {
     "data": {
      "text/plain": "Button(description='Save Values', style=ButtonStyle())",
      "application/vnd.jupyter.widget-view+json": {
       "version_major": 2,
       "version_minor": 0,
       "model_id": "8d88119aba7a4548b4a700525565fe96"
      }
     },
     "metadata": {},
     "output_type": "display_data"
    },
    {
     "name": "stdout",
     "output_type": "stream",
     "text": [
      "Optional: provide the hosts to be included in the timeseries data e.g., 'NODE1, NODE2'\n"
     ]
    },
    {
     "data": {
      "text/plain": "Text(value='', description='Hosts:', placeholder='')",
      "application/vnd.jupyter.widget-view+json": {
       "version_major": 2,
       "version_minor": 0,
       "model_id": "f68b75c7676f4a39b2f9ca15e2621453"
      }
     },
     "metadata": {},
     "output_type": "display_data"
    },
    {
     "name": "stdout",
     "output_type": "stream",
     "text": [
      "Optional: provide the jobs to be included in the timeseries data e.g., 'JOB1, JOB2'\n"
     ]
    },
    {
     "data": {
      "text/plain": "Text(value='', description='Jobs:', placeholder='')",
      "application/vnd.jupyter.widget-view+json": {
       "version_major": 2,
       "version_minor": 0,
       "model_id": "674d798b119043dca3d32981ada3d1bb"
      }
     },
     "metadata": {},
     "output_type": "display_data"
    },
    {
     "name": "stdout",
     "output_type": "stream",
     "text": [
      "Optional: select if you want the account logs to be returned for the Job IDs matching your query.\n"
     ]
    },
    {
     "data": {
      "text/plain": "ToggleButton(value=False, description='Account Logs', icon='check', tooltip='Return Account Logs?')",
      "application/vnd.jupyter.widget-view+json": {
       "version_major": 2,
       "version_minor": 0,
       "model_id": "e5a26d78d94642f28c525440339edd91"
      }
     },
     "metadata": {},
     "output_type": "display_data"
    },
    {
     "name": "stdout",
     "output_type": "stream",
     "text": [
      "Optional: select the columns to be included in the timeseries data (hold control to select multiple). If no columns are selected, all columns will be included.\n"
     ]
    },
    {
     "data": {
      "text/plain": "SelectMultiple(description='Return Columns', index=(0,), options=('None', 'Job Id', 'Hosts', 'Events', 'Units'…",
      "application/vnd.jupyter.widget-view+json": {
       "version_major": 2,
       "version_minor": 0,
       "model_id": "34b70611392f418e8acaaffd3d84f157"
      }
     },
     "metadata": {},
     "output_type": "display_data"
    }
   ],
   "source": [
    "# -------------- CELL 5 --------------\n",
    "\n",
    "unit_values = {}  # stores user low and high value user input such that: key = a unit from the units list above /// value = (low_value, high_value)\n",
    "\n",
    "for value in units.value:\n",
    "    if value != 'None':\n",
    "        nbf.setup_widgets(unit_values, value)\n",
    "\n",
    "print(\"Optional: provide the hosts to be included in the timeseries data e.g., 'NODE1, NODE2'\")\n",
    "hosts = widgets.Text(\n",
    "    value='',\n",
    "    placeholder='',\n",
    "    description='Hosts:',\n",
    "    disabled=False\n",
    ")\n",
    "display(hosts)\n",
    "\n",
    "print(\"Optional: provide the jobs to be included in the timeseries data e.g., 'JOB1, JOB2'\")\n",
    "job_ids = widgets.Text(\n",
    "    value='',\n",
    "    placeholder='',\n",
    "    description='Jobs:',\n",
    "    disabled=False\n",
    ")\n",
    "display(job_ids)\n",
    "\n",
    "print(\"Optional: select if you want the account logs to be returned for the Job IDs matching your query.\")\n",
    "return_account_logs = widgets.ToggleButton(\n",
    "    value=False,\n",
    "    description='Account Logs',\n",
    "    disabled=False,\n",
    "    button_style='',\n",
    "    tooltip='Return Account Logs?',\n",
    "    icon='check'\n",
    ")\n",
    "display(return_account_logs)\n",
    "\n",
    "print(\"Optional: select the columns to be included in the timeseries data (hold control to select multiple). If no columns are \"\n",
    "      \"selected, all columns will be included.\")\n",
    "timeseries_return_columns = widgets.SelectMultiple(\n",
    "    options=['None', 'Job Id', 'Hosts', 'Events', 'Units', 'Values', 'Timestamps'],\n",
    "    value=['None'],\n",
    "    description='Return Columns',\n",
    "    disabled=False\n",
    ")\n",
    "display(timeseries_return_columns)"
   ]
  },
  {
   "cell_type": "code",
   "execution_count": null,
   "id": "4f5b1281",
   "metadata": {},
   "outputs": [],
   "source": [
    "# -------------- CELL 6 --------------\n",
    "\n",
    "nbf.get_timeseries_by_timestamp(start_time.value, end_time.value, timeseries_return_columns.value)\n",
    "\n",
    "if units.value != \"None\":\n",
    "    nbf.get_timeseries_by_values_and_unit(unit_values)\n",
    "\n",
    "if len(hosts.value) > 0:\n",
    "    nbf.get_timeseries_by_hosts(hosts.value)\n",
    "    \n",
    "if len(job_ids.value) > 0:\n",
    "    nbf.get_account_logs_by_job_ids(job_ids.value)\n",
    "\n",
    "print(\"Do you want to download the filtered data?\")\n",
    "# Create download button\n",
    "download_button = widgets.Button(description=\"Download Data\")\n",
    "\n",
    "def on_button_clicked(b):\n",
    "    # Create download link when button is clicked and display link\n",
    "    display(nbf.create_download_link(dataframe))\n",
    "\n",
    "download_button.on_click(on_button_clicked)\n",
    "display(download_button)\n",
    "\n",
    "print(\"Please select which statistics to be calculated:\")\n",
    "stats = widgets.SelectMultiple(\n",
    "    options=['Average', 'Mean', 'Median', 'Standard Deviation', 'PDF', 'CDF', 'Ratio of Data Outside Threshold'],\n",
    "    value=['Mean'],\n",
    "    description='Statistics',\n",
    "    disabled=False\n",
    ")\n",
    "display(stats)"
   ]
  },
  {
   "cell_type": "code",
   "execution_count": null,
   "id": "58e03c05",
   "metadata": {},
   "outputs": [],
   "source": [
    "# -------------- CELL 7 --------------\n",
    "\n",
    "# Display statistical data here\n",
    "\n",
    "\n",
    "# Give the user the option to calculate correlations\n",
    "print(\"If you would like to explore correlations among metrics and statistics, select from the options below:\")\n",
    "\n",
    "correlations = widgets.SelectMultiple(\n",
    "    options=['None', 'CPU %', 'GPU %', 'GB(memused_minus_diskcache)', 'GB(memused)', 'GB/s', 'MB/s'],\n",
    "    value=['None'],\n",
    "    description='Metrics',\n",
    "    disabled=False\n",
    ")\n",
    "\n",
    "stats = widgets.SelectMultiple(\n",
    "    options=['Average', 'Mean', 'Median', 'Standard Deviation', 'PDF', 'CDF', 'Ratio of Data Outside Threshold'],\n",
    "    value=['Mean'],\n",
    "    description='Statistics',\n",
    "    disabled=False\n",
    ")\n",
    "\n",
    "display(correlations, stats)\n"
   ]
  },
  {
   "cell_type": "code",
   "execution_count": null,
   "id": "6614ebea",
   "metadata": {},
   "outputs": [],
   "source": [
    "# -------------- CELL 8 --------------\n",
    "\n",
    "# calculate correlations\n",
    "nbf.calculate_correlation()\n",
    "\n",
    "# Display correlation visualizations here\n"
   ]
  },
  {
   "cell_type": "code",
   "execution_count": null,
   "outputs": [],
   "source": [
    "# -------------- CELL 9 ---------------\n",
    "\n",
    "# Give the user the option to download data here.\n",
    "print(\"Select the files to be downloaded:\")\n",
    "files_to_provide = widgets.SelectMultiple(\n",
    "    options=['None', 'job_ts_metrics_aug2022_anon', 'job_ts_metrics_dec2022_anon',\n",
    "             'job_ts_metrics_jan2022_anon', 'job_ts_metrics_july2022_anon',\n",
    "             'job_ts_metrics_nov2022_anon', 'job_ts_metrics_sep2022_anon'],\n",
    "    value=['None'],\n",
    "    description='Files',\n",
    "    disabled=False\n",
    ")\n",
    "display(files_to_provide)\n",
    "\n",
    "# Create and display download button\n",
    "download_button = widgets.Button(description='Download File/s')\n",
    "download_button.on_click(nbf.on_download_button_clicked)\n",
    "display(download_button)"
   ],
   "metadata": {
    "collapsed": false
   }
  },
  {
   "cell_type": "code",
   "execution_count": null,
   "outputs": [],
   "source": [
    "# -------------- CELL 10 ---------------\n"
   ],
   "metadata": {
    "collapsed": false
   }
  }
 ],
 "metadata": {
  "kernelspec": {
   "name": "python3",
   "language": "python",
   "display_name": "Python 3 (ipykernel)"
  },
  "language_info": {
   "file_extension": ".py",
   "mimetype": "text/x-python",
   "name": "python",
   "version": "3.11.2"
  }
 },
 "nbformat": 4,
 "nbformat_minor": 5
}

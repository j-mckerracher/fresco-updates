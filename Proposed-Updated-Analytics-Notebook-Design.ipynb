{
 "cells": [
  {
   "cell_type": "markdown",
   "id": "64f51439",
   "metadata": {},
   "source": [
    "## FRESCO Analytics Notebook\n",
    "### Overview\n",
    "This notebook has been designed to make analysis of the Anvil dataset as easy as possible. Generally speaking, it will allow the user to access the Anvil files stored locally, select a number of analysis options, and view the results.\n",
    "### Instructions\n",
    "1. Run the first cell and provide the complete directory path to the data in the 'Path' field.\n",
    "2. Run the second cell. If data preprocessing is needed, select the desired options. Otherwise, skip to the \"If data preprocessing options were not selected, follow these instructions\" section below.\n",
    "#### If data preprocessing options were selected, follow these instructions\n",
    "3. Run cell 3 and provide start time and end times.\n",
    "4. Run cell 4 and select the units to be included in the timeseries data.\n",
    "5. Run cell 5 and provide the desired options.\n",
    "6. Run cell 6 and provide the desired statistic.\n",
    "7. Run cell 7 and provide the desired data visualisation options.\n",
    "8. Run cell 8 to see the data visualizations.\n",
    "\n",
    "#### If data preprocessing options were not selected, follow these instructions\n",
    "3. Run cell 4 and provide start time and end times and select the units to be included in the timeseries data.\n",
    "4. Run cell 5 and provide the desired options.\n",
    "5. Run cell 6 and provide the desired statistic.\n",
    "6. Run cell 7 and provide the desired data visualisation options.\n",
    "7. Run cell 8 to see the data visualizations.\n"
   ]
  },
  {
   "cell_type": "code",
   "execution_count": 1,
   "id": "814c04de",
   "metadata": {
    "ExecuteTime": {
     "end_time": "2023-06-11T01:40:56.650443500Z",
     "start_time": "2023-06-11T01:40:55.199399800Z"
    }
   },
   "outputs": [
    {
     "name": "stdout",
     "output_type": "stream",
     "text": [
      "Please provide the directory path to the data files e.g., D:\\Data\n"
     ]
    },
    {
     "data": {
      "text/plain": "Text(value='', description='Path:', placeholder='')",
      "application/vnd.jupyter.widget-view+json": {
       "version_major": 2,
       "version_minor": 0,
       "model_id": "29d1d3c2fb9e4618b4cd635ca7374d45"
      }
     },
     "metadata": {},
     "output_type": "display_data"
    }
   ],
   "source": [
    "# -------------- CELL 1 --------------\n",
    "\n",
    "from IPython.display import display\n",
    "import ipywidgets as widgets\n",
    "import pandas as pd\n",
    "\n",
    "print(r\"Please provide the directory path to the data files e.g., D:\\Data\")\n",
    "dir_path = widgets.Text(\n",
    "    value='',\n",
    "    placeholder='',\n",
    "    description='Path:',\n",
    "    disabled=False\n",
    ")\n",
    "display(dir_path)"
   ]
  },
  {
   "cell_type": "code",
   "execution_count": 2,
   "id": "7ff024e8",
   "metadata": {
    "scrolled": true,
    "ExecuteTime": {
     "end_time": "2023-06-11T01:42:23.780026100Z",
     "start_time": "2023-06-11T01:42:23.748780Z"
    }
   },
   "outputs": [
    {
     "name": "stdout",
     "output_type": "stream",
     "text": [
      "Data preprocessing: select this option if rows with missing metrics should be removed.\n"
     ]
    },
    {
     "data": {
      "text/plain": "ToggleButton(value=False, description='Remove Rows with Missing Metrics?', icon='check', tooltip='Remove Rows …",
      "application/vnd.jupyter.widget-view+json": {
       "version_major": 2,
       "version_minor": 0,
       "model_id": "d77560d03b1547e9942763ada4c8da4d"
      }
     },
     "metadata": {},
     "output_type": "display_data"
    },
    {
     "name": "stdout",
     "output_type": "stream",
     "text": [
      "Data preprocessing: select this option if an interval column should be added to the data.\n"
     ]
    },
    {
     "data": {
      "text/plain": "ToggleButton(value=False, description='Add Interval Column?', icon='check', tooltip='Add Interval Column?')",
      "application/vnd.jupyter.widget-view+json": {
       "version_major": 2,
       "version_minor": 0,
       "model_id": "d97d6686be3240d19490db01694f8f34"
      }
     },
     "metadata": {},
     "output_type": "display_data"
    }
   ],
   "source": [
    "# -------------- CELL 2 --------------\n",
    "\n",
    "def get_data_files_directory(path):\n",
    "    \"\"\"\n",
    "    This function should produce a folder path to the data files.\n",
    "    :param path:\n",
    "    :return:\n",
    "    \"\"\"\n",
    "    pass\n",
    "\n",
    "\n",
    "data_path = get_data_files_directory(dir_path.value)\n",
    "\n",
    "# Data preprocessing: handling missing metrics\n",
    "print(\"Data preprocessing: select this option if rows with missing metrics should be removed.\")\n",
    "missing_metrics = widgets.ToggleButton(\n",
    "    value=False,\n",
    "    description='Remove Rows with Missing Metrics?',\n",
    "    disabled=False,\n",
    "    button_style='',\n",
    "    tooltip='Remove Rows with Missing Metrics?',\n",
    "    icon='check'\n",
    ")\n",
    "display(missing_metrics)\n",
    "\n",
    "print(\"Data preprocessing: select this option if an interval column should be added to the data.\")\n",
    "interval = widgets.ToggleButton(\n",
    "    value=False,\n",
    "    description='Add Interval Column?',\n",
    "    disabled=False,\n",
    "    button_style='',\n",
    "    tooltip='Add Interval Column?',\n",
    "    icon='check'\n",
    ")\n",
    "display(interval)"
   ]
  },
  {
   "cell_type": "code",
   "execution_count": 3,
   "id": "7a37a54c",
   "metadata": {
    "ExecuteTime": {
     "end_time": "2023-06-11T01:42:29.139711200Z",
     "start_time": "2023-06-11T01:42:29.124088400Z"
    }
   },
   "outputs": [],
   "source": [
    "# -------------- CELL 3 --------------\n",
    "\n",
    "if missing_metrics.value or interval.value:\n",
    "    print(\"Please select the start time and end time for the data preprocessing.\")\n",
    "    start_time = widgets.Text(\n",
    "        value='01-01-2020',\n",
    "        placeholder='',\n",
    "        description='Start Time:',\n",
    "        disabled=False\n",
    "    )\n",
    "\n",
    "    end_time = widgets.Text(\n",
    "        value='12-31-9999',\n",
    "        placeholder='',\n",
    "        description='End Time:',\n",
    "        disabled=False\n",
    "    )\n",
    "    display(start_time, end_time)"
   ]
  },
  {
   "cell_type": "code",
   "execution_count": 4,
   "id": "c2bb83db",
   "metadata": {
    "ExecuteTime": {
     "end_time": "2023-06-11T01:42:31.398412600Z",
     "start_time": "2023-06-11T01:42:31.356531Z"
    }
   },
   "outputs": [
    {
     "name": "stdout",
     "output_type": "stream",
     "text": [
      "Please enter a start time and end time.\n"
     ]
    },
    {
     "data": {
      "text/plain": "Text(value='01-01-2020', description='Start Time:', placeholder='')",
      "application/vnd.jupyter.widget-view+json": {
       "version_major": 2,
       "version_minor": 0,
       "model_id": "a4222cbdf5ec44af97e58eae00f39b19"
      }
     },
     "metadata": {},
     "output_type": "display_data"
    },
    {
     "data": {
      "text/plain": "Text(value='12-31-9999', description='End Time:', placeholder='')",
      "application/vnd.jupyter.widget-view+json": {
       "version_major": 2,
       "version_minor": 0,
       "model_id": "88c0a37a8e60420e89297392be8526c4"
      }
     },
     "metadata": {},
     "output_type": "display_data"
    },
    {
     "name": "stdout",
     "output_type": "stream",
     "text": [
      "Optional: select the units to be included in the timeseries data.\n"
     ]
    },
    {
     "data": {
      "text/plain": "ToggleButtons(description='Units:', options=('None', 'CPU %:cpuuser', 'GPU %:gpu_usage', 'GB:memused_minus_dis…",
      "application/vnd.jupyter.widget-view+json": {
       "version_major": 2,
       "version_minor": 0,
       "model_id": "187ac3c6075f4c9f8bcf88d0b76f3bb8"
      }
     },
     "metadata": {},
     "output_type": "display_data"
    }
   ],
   "source": [
    "# -------------- CELL 4 --------------\n",
    "\n",
    "def handle_missing_metrics(starting_time, ending_time, path):\n",
    "    \"\"\"\n",
    "    This function should remove the rows within the given timeframe that are missing metrics.\n",
    "    :param starting_time:\n",
    "    :param ending_time:\n",
    "    :param path:\n",
    "    :return:\n",
    "    \"\"\"\n",
    "    pass\n",
    "\n",
    "\n",
    "def add_interval_column(starting_time, ending_time, path):\n",
    "    \"\"\"\n",
    "    This function should add an interval column to the data that falls within the given timeframe. The interval column\n",
    "    should reflect the length of each timestamp.\n",
    "    :param starting_time:\n",
    "    :param ending_time:\n",
    "    :param path:\n",
    "    :return:\n",
    "    \"\"\"\n",
    "    pass\n",
    "\n",
    "dataframe = pd.DataFrame()\n",
    "\n",
    "if missing_metrics.value:\n",
    "    dataframe = handle_missing_metrics(start_time.value, end_time.value, data_path)\n",
    "\n",
    "if interval.value:\n",
    "    dataframe = add_interval_column(start_time.value, end_time.value, data_path)\n",
    "\n",
    "if not missing_metrics.value and not interval.value:\n",
    "    print(\"Please enter a start time and end time.\")\n",
    "    start_time = widgets.Text(\n",
    "        value='01-01-2020',\n",
    "        placeholder='',\n",
    "        description='Start Time:',\n",
    "        disabled=False\n",
    "    )\n",
    "\n",
    "    end_time = widgets.Text(\n",
    "        value='12-31-9999',\n",
    "        placeholder='',\n",
    "        description='End Time:',\n",
    "        disabled=False\n",
    "    )\n",
    "    display(start_time, end_time)\n",
    "\n",
    "print(\"Optional: select the units to be included in the timeseries data.\")\n",
    "units = widgets.ToggleButtons(\n",
    "    options=['None', 'CPU %:cpuuser', 'GPU %:gpu_usage', 'GB:memused_minus_diskcache or memused', 'GB/s:block', 'MB/s:nfs'],\n",
    "    description='Units:',\n",
    "    disabled=False,\n",
    "    button_style='',\n",
    "    tooltips=['None', 'CPU %', 'GPU %', 'GB', 'GB/s', 'MB/s']\n",
    ")\n",
    "\n",
    "display(units)"
   ]
  },
  {
   "cell_type": "code",
   "execution_count": 5,
   "id": "b1cb487b",
   "metadata": {
    "ExecuteTime": {
     "end_time": "2023-06-11T01:42:39.665755300Z",
     "start_time": "2023-06-11T01:42:39.600757200Z"
    }
   },
   "outputs": [
    {
     "name": "stdout",
     "output_type": "stream",
     "text": [
      "Enter the low value for CPU %:cpuuser\n"
     ]
    },
    {
     "data": {
      "text/plain": "FloatText(value=0.1, description='CPU %:cpuuser Low Value:')",
      "application/vnd.jupyter.widget-view+json": {
       "version_major": 2,
       "version_minor": 0,
       "model_id": "94595259c3c34cf5ad54a9268876ddd0"
      }
     },
     "metadata": {},
     "output_type": "display_data"
    },
    {
     "name": "stdout",
     "output_type": "stream",
     "text": [
      "Enter the high value for CPU %:cpuuser\n"
     ]
    },
    {
     "data": {
      "text/plain": "FloatText(value=99.9, description='CPU %:cpuuser High Value:')",
      "application/vnd.jupyter.widget-view+json": {
       "version_major": 2,
       "version_minor": 0,
       "model_id": "b500497535ef473898cd1f7e228dca4d"
      }
     },
     "metadata": {},
     "output_type": "display_data"
    },
    {
     "name": "stdout",
     "output_type": "stream",
     "text": [
      "Optional: select the hosts to be included in the timeseries data e.g., 'NODE1, NODE2'\n"
     ]
    },
    {
     "data": {
      "text/plain": "Text(value='', description='Hosts:', placeholder='')",
      "application/vnd.jupyter.widget-view+json": {
       "version_major": 2,
       "version_minor": 0,
       "model_id": "a2d9f16faac9407898f3f796ce2f6c7e"
      }
     },
     "metadata": {},
     "output_type": "display_data"
    },
    {
     "name": "stdout",
     "output_type": "stream",
     "text": [
      "Optional: select the jobs to be included in the timeseries data e.g., 'JOB1, JOB2'\n"
     ]
    },
    {
     "data": {
      "text/plain": "Text(value='', description='Jobs:', placeholder='')",
      "application/vnd.jupyter.widget-view+json": {
       "version_major": 2,
       "version_minor": 0,
       "model_id": "a6c346d52ea44d44a3d2fadd0d4c0d49"
      }
     },
     "metadata": {},
     "output_type": "display_data"
    },
    {
     "name": "stdout",
     "output_type": "stream",
     "text": [
      "Optional: select if you want the account logs to be returned for the Job IDs matching your query.\n"
     ]
    },
    {
     "data": {
      "text/plain": "ToggleButton(value=False, description='Account Logs', icon='check', tooltip='Return Account Logs?')",
      "application/vnd.jupyter.widget-view+json": {
       "version_major": 2,
       "version_minor": 0,
       "model_id": "4488e2677d9b4f5f82b4391ac60ab348"
      }
     },
     "metadata": {},
     "output_type": "display_data"
    },
    {
     "name": "stdout",
     "output_type": "stream",
     "text": [
      "Optional: select the columns to be included in the timeseries data (hold control to select multiple). If no columns are selected, all columns will be included.\n"
     ]
    },
    {
     "data": {
      "text/plain": "SelectMultiple(description='Return Columns', index=(0,), options=('None', 'Job Id', 'Hosts', 'Events', 'Units'…",
      "application/vnd.jupyter.widget-view+json": {
       "version_major": 2,
       "version_minor": 0,
       "model_id": "1c2156b2f9124599be29be502282f57b"
      }
     },
     "metadata": {},
     "output_type": "display_data"
    }
   ],
   "source": [
    "# -------------- CELL 5 --------------\n",
    "\n",
    "if units.value != 'None':\n",
    "    print(f\"Enter the low value for {units.value}\")\n",
    "    low_value = widgets.FloatText(\n",
    "        value=0.1,\n",
    "        description=f'{units.value} Low Value:',\n",
    "        disabled=False\n",
    "    )\n",
    "    display(low_value)\n",
    "\n",
    "    print(f\"Enter the high value for {units.value}\")\n",
    "    high_value = widgets.FloatText(\n",
    "        value=99.9,\n",
    "        description=f'{units.value} High Value:',\n",
    "        disabled=False\n",
    "    )\n",
    "    display(high_value)\n",
    "    \n",
    "    if units.value == \"GB\":\n",
    "        print(\"Select the Event type for GB:\")\n",
    "        event = widgets.ToggleButtons(\n",
    "            options=['memused_minus_diskcache', 'memused'],\n",
    "            description='Event:',\n",
    "            disabled=False,\n",
    "            button_style='',\n",
    "            tooltips=['memused_minus_diskcache', 'memused']\n",
    "        )\n",
    "        display(event)\n",
    "\n",
    "\n",
    "print(\"Optional: select the hosts to be included in the timeseries data e.g., 'NODE1, NODE2'\")\n",
    "hosts = widgets.Text(\n",
    "    value='',\n",
    "    placeholder='',\n",
    "    description='Hosts:',\n",
    "    disabled=False\n",
    ")\n",
    "display(hosts)\n",
    "\n",
    "print(\"Optional: select the jobs to be included in the timeseries data e.g., 'JOB1, JOB2'\")\n",
    "job_ids = widgets.Text(\n",
    "    value='',\n",
    "    placeholder='',\n",
    "    description='Jobs:',\n",
    "    disabled=False\n",
    ")\n",
    "display(job_ids)\n",
    "\n",
    "print(\"Optional: select if you want the account logs to be returned for the Job IDs matching your query.\")\n",
    "return_account_logs = widgets.ToggleButton(\n",
    "    value=False,\n",
    "    description='Account Logs',\n",
    "    disabled=False,\n",
    "    button_style='',\n",
    "    tooltip='Return Account Logs?',\n",
    "    icon='check'\n",
    ")\n",
    "display(return_account_logs)\n",
    "\n",
    "print(\"Optional: select the columns to be included in the timeseries data (hold control to select multiple). If no columns are \"\n",
    "      \"selected, all columns will be included.\")\n",
    "timeseries_return_columns = widgets.SelectMultiple(\n",
    "    options=['None', 'Job Id', 'Hosts', 'Events', 'Units', 'Values', 'Timestamps'],\n",
    "    value=['None'],\n",
    "    description='Return Columns',\n",
    "    disabled=False\n",
    ")\n",
    "display(timeseries_return_columns)"
   ]
  },
  {
   "cell_type": "code",
   "execution_count": 8,
   "id": "4f5b1281",
   "metadata": {
    "ExecuteTime": {
     "end_time": "2023-06-11T01:50:53.258800100Z",
     "start_time": "2023-06-11T01:50:53.218374300Z"
    }
   },
   "outputs": [
    {
     "data": {
      "text/plain": "SelectMultiple(description='Statistics', index=(1,), options=('Average', 'Mean', 'Median', 'Standard Deviation…",
      "application/vnd.jupyter.widget-view+json": {
       "version_major": 2,
       "version_minor": 0,
       "model_id": "bd3cd659d6a246888aeaf832068017a1"
      }
     },
     "metadata": {},
     "output_type": "display_data"
    },
    {
     "data": {
      "text/plain": "ToggleButtons(description='Units:', options=('None', 'Generate CDF Graph?', 'Generate PDF Graph?'), tooltips=(…",
      "application/vnd.jupyter.widget-view+json": {
       "version_major": 2,
       "version_minor": 0,
       "model_id": "cee875fb3b0c446bb26cdcbe4f0241cb"
      }
     },
     "metadata": {},
     "output_type": "display_data"
    }
   ],
   "source": [
    "# -------------- CELL 6 --------------\n",
    "\n",
    "def get_timeseries_by_timestamp(begin_time: str, end_time: str, return_columns: list) -> pd.DataFrame:\n",
    "    pass\n",
    "\n",
    "def get_timeseries_by_values_and_unit(units: str, low_value, high_value) -> pd.DataFrame:\n",
    "    pass\n",
    "\n",
    "\n",
    "def get_timeseries_by_hosts(hosts: str) -> pd.DataFrame:\n",
    "    pass\n",
    "\n",
    "\n",
    "def get_timeseries_by_job_ids(job_ids: str) -> pd.DataFrame:\n",
    "    pass\n",
    "\n",
    "\n",
    "def get_account_logs_by_job_ids(job_ids: str) -> pd.DataFrame:\n",
    "    pass\n",
    "\n",
    "\n",
    "get_timeseries_by_timestamp(start_time.value, end_time.value, timeseries_return_columns.value)\n",
    "\n",
    "if units.value != \"None\":\n",
    "    get_timeseries_by_values_and_unit(units.value, low_value.value, high_value.value)\n",
    "\n",
    "if len(hosts.value) > 0:\n",
    "    get_timeseries_by_hosts(hosts.value)\n",
    "    \n",
    "if len(job_ids.value) > 0:\n",
    "    get_account_logs_by_job_ids(job_ids.value)\n",
    "    \n",
    "stats = widgets.SelectMultiple(\n",
    "    options=['Average', 'Mean', 'Median', 'Standard Deviation', 'PDF', 'CDF', 'Ratio of Data Outside Threshold'],\n",
    "    value=['Mean'],\n",
    "    description='Statistics',\n",
    "    disabled=False\n",
    ")\n",
    "\n",
    "cdf_pdf = widgets.ToggleButtons(\n",
    "    options=['None', 'Generate CDF Graph?', 'Generate PDF Graph?'],\n",
    "    description='Units:',\n",
    "    disabled=False,\n",
    "    button_style='',\n",
    "    tooltips=['None', 'Generate CDF Graph?', 'Generate PDF Graph?']\n",
    ")\n",
    "\n",
    "display(stats, cdf_pdf)"
   ]
  },
  {
   "cell_type": "code",
   "execution_count": 10,
   "id": "58e03c05",
   "metadata": {
    "ExecuteTime": {
     "end_time": "2023-06-11T02:01:54.835667500Z",
     "start_time": "2023-06-11T02:01:54.820038800Z"
    }
   },
   "outputs": [
    {
     "name": "stdout",
     "output_type": "stream",
     "text": [
      "If you would like to explore correlations between metrics, choose two metrics below:\n"
     ]
    }
   ],
   "source": [
    "# -------------- CELL 7 --------------\n",
    "\n",
    "def get_average():\n",
    "    pass\n",
    "\n",
    "\n",
    "def get_mean():\n",
    "    pass\n",
    "\n",
    "\n",
    "def get_median():\n",
    "    pass\n",
    "\n",
    "\n",
    "def get_standard_deviation():\n",
    "    pass\n",
    "\n",
    "\n",
    "def get_probability_density():\n",
    "    pass\n",
    "\n",
    "\n",
    "def get_cumulative_density():\n",
    "    pass\n",
    "\n",
    "\n",
    "def get_data_points_outside_threshold():\n",
    "    pass\n",
    "\n",
    "\n",
    "def get_ratio_of_data_points_outside_threshold():\n",
    "    pass\n",
    "\n",
    "# Display statistical data here\n",
    "\n",
    "# Give the user the option to calculate correlations\n",
    "print(\"If you would like to explore correlations between metrics, choose two metrics below:\")\n",
    "stats = widgets.SelectMultiple(\n",
    "    options=['None', 'CPU %:cpuuser', 'GPU %:gpu_usage', 'GB:memused_minus_diskcache or memused', 'GB/s:block', 'MB/s:nfs'],\n",
    "    value=['CPU %:cpuuser'],\n",
    "    description='Statistics',\n",
    "    disabled=False\n",
    ")\n"
   ]
  },
  {
   "cell_type": "code",
   "execution_count": 13,
   "id": "6614ebea",
   "metadata": {
    "ExecuteTime": {
     "end_time": "2023-06-11T02:09:22.066365300Z",
     "start_time": "2023-06-11T02:09:22.028597400Z"
    }
   },
   "outputs": [],
   "source": [
    "# -------------- CELL 8 --------------\n",
    "\n",
    "# Display correlation visualizations here"
   ]
  },
  {
   "cell_type": "code",
   "execution_count": 19,
   "outputs": [
    {
     "name": "stdout",
     "output_type": "stream",
     "text": [
      "Select the files to be downloaded:\n"
     ]
    },
    {
     "data": {
      "text/plain": "SelectMultiple(description='Files', index=(0,), options=('job_ts_metrics_aug2022_anon', 'job_ts_metrics_dec202…",
      "application/vnd.jupyter.widget-view+json": {
       "version_major": 2,
       "version_minor": 0,
       "model_id": "64929249f84c44b1a72e6c5f6ad19688"
      }
     },
     "metadata": {},
     "output_type": "display_data"
    }
   ],
   "source": [
    "# -------------- CELL 9 ---------------\n",
    "# Give the user the option to download data here.\n",
    "print(\"Select the files to be downloaded:\")\n",
    "files_to_provide = widgets.SelectMultiple(\n",
    "    options=['job_ts_metrics_aug2022_anon', 'job_ts_metrics_dec2022_anon',\n",
    "             'job_ts_metrics_jan2022_anon', 'job_ts_metrics_july2022_anon',\n",
    "             'job_ts_metrics_nov2022_anon', 'job_ts_metrics_sep2022_anon'],\n",
    "    value=['job_ts_metrics_aug2022_anon'],\n",
    "    description='Files',\n",
    "    disabled=False\n",
    ")\n",
    "\n",
    "display(files_to_provide)"
   ],
   "metadata": {
    "collapsed": false,
    "ExecuteTime": {
     "end_time": "2023-06-11T02:15:01.140970200Z",
     "start_time": "2023-06-11T02:15:01.114824500Z"
    }
   }
  },
  {
   "cell_type": "code",
   "execution_count": null,
   "outputs": [],
   "source": [
    "# -------------- CELL 10 ---------------\n"
   ],
   "metadata": {
    "collapsed": false
   }
  }
 ],
 "metadata": {
  "kernelspec": {
   "name": "python3",
   "language": "python",
   "display_name": "Python 3 (ipykernel)"
  },
  "language_info": {
   "file_extension": ".py",
   "mimetype": "text/x-python",
   "name": "python",
   "version": "3.11.2"
  }
 },
 "nbformat": 4,
 "nbformat_minor": 5
}

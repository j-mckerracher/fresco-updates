{
 "cells": [
  {
   "cell_type": "markdown",
   "id": "64f51439",
   "metadata": {},
   "source": [
    "## FRESCO Analytics Notebook\n",
    "### Overview\n",
    "This notebook has been designed to make analysis of the Anvil dataset as easy as possible. Generally speaking, it will allow the user to access the Anvil files stored locally, select a number of analysis options, and view the results.\n",
    "### Instructions\n",
    "1. Run the first cell and provide the window for your dataset. This window of time will be used to pull the host timeseries and job accounting data from the database.\n",
    "2. Run cell 2 and select the desired preprocessing options (can be more than one).\n",
    "3. Run cell 3 and select the desired host data time series units to be included (can be more than one).\n",
    "4. Run cell 4 and provide the desired values and options. **Note**: if units were selected in step 3, the \"Save Values\" button must be selected before moving on.\n",
    "5. Run cell 5 and select the desired options.\n",
    "6. Run cell 6 to see your data visualizations. If you would like to explore correlations among metrics and statistics, select from the provided options.\n",
    "7. Run cell 7 to see the correlation visualizations.\n",
    "8. Run cell 8 and download the desired data.\n"
   ]
  },
  {
   "cell_type": "code",
   "execution_count": 1,
   "id": "814c04de",
   "metadata": {
    "ExecuteTime": {
     "end_time": "2023-06-29T21:53:48.227453200Z",
     "start_time": "2023-06-29T21:53:47.954929100Z"
    }
   },
   "outputs": [
    {
     "name": "stdout",
     "output_type": "stream",
     "text": [
      "Please provide a time window for your host dataset.\n"
     ]
    },
    {
     "data": {
      "text/plain": "NaiveDatetimePicker(value=datetime.datetime(2023, 6, 29, 15, 53, 48), description='Start Time:')",
      "application/vnd.jupyter.widget-view+json": {
       "version_major": 2,
       "version_minor": 0,
       "model_id": "c8b710279bbf47cf882ace435ff48eab"
      }
     },
     "metadata": {},
     "output_type": "display_data"
    },
    {
     "data": {
      "text/plain": "NaiveDatetimePicker(value=datetime.datetime(2023, 6, 29, 15, 53, 48), description='End Time:')",
      "application/vnd.jupyter.widget-view+json": {
       "version_major": 2,
       "version_minor": 0,
       "model_id": "e968a3a9765d42a08bdb1d0be249414a"
      }
     },
     "metadata": {},
     "output_type": "display_data"
    },
    {
     "data": {
      "text/plain": "Button(description='Save', icon='check', style=ButtonStyle(), tooltip='Save')",
      "application/vnd.jupyter.widget-view+json": {
       "version_major": 2,
       "version_minor": 0,
       "model_id": "2a2b923c2aca461a815a5e84e07eb354"
      }
     },
     "metadata": {},
     "output_type": "display_data"
    }
   ],
   "source": [
    "# -------------- CELL 1 --------------\n",
    "from IPython.display import display, FileLink, clear_output, display\n",
    "import ipywidgets as widgets\n",
    "import notebook_functions as nbf\n",
    "from datetime import datetime\n",
    "import pandas as pd\n",
    "\n",
    "print(r\"Please provide a time window for your host dataset.\")\n",
    "\n",
    "start_time = widgets.NaiveDatetimePicker(\n",
    "    value=datetime.now().replace(microsecond=0),\n",
    "    placeholder='',\n",
    "    description='Start Time:',\n",
    "    disabled=False\n",
    ")\n",
    "\n",
    "end_time = widgets.NaiveDatetimePicker(\n",
    "    value=datetime.now().replace(microsecond=0),\n",
    "    placeholder='',\n",
    "    description='End Time:',\n",
    "    disabled=False\n",
    ")\n",
    "\n",
    "save_button = widgets.Button(\n",
    "    description='Save',\n",
    "    disabled=False,\n",
    "    button_style='',  # 'success', 'info', 'warning', 'danger' or ''\n",
    "    tooltip='Save',\n",
    "    icon='check'  # (FontAwesome names without the `fa-` prefix)\n",
    ")\n",
    "\n",
    "# Function to call when the \"Save\" button is clicked\n",
    "def on_save_button_clicked(b):\n",
    "    if nbf.validate_times(start_time.value.strftime('%Y-%m-%d %H:%M:%S'), end_time.value.strftime('%Y-%m-%d %H:%M:%S'), start_time, end_time, save_button):\n",
    "        b.description = \"Values Saved!\"\n",
    "        b.button_style = 'success'  # The button turns green when clicked\n",
    "    else:\n",
    "        b.button_style = ''\n",
    "        b.description = \"Save\"\n",
    "\n",
    "\n",
    "# Set the function to call when the \"Save\" button is clicked\n",
    "save_button.on_click(on_save_button_clicked)\n",
    "\n",
    "display(start_time, end_time, save_button)"
   ]
  },
  {
   "cell_type": "code",
   "execution_count": 2,
   "id": "7ff024e8",
   "metadata": {
    "ExecuteTime": {
     "end_time": "2023-06-29T21:35:38.950316900Z",
     "start_time": "2023-06-29T21:35:38.943424Z"
    },
    "scrolled": true
   },
   "outputs": [
    {
     "name": "stdout",
     "output_type": "stream",
     "text": [
      "Data preprocessing: select either option (or both):\n"
     ]
    },
    {
     "data": {
      "application/vnd.jupyter.widget-view+json": {
       "model_id": "23798691ac0442deb5226795d9720f99",
       "version_major": 2,
       "version_minor": 0
      },
      "text/plain": [
       "SelectMultiple(description='Options:', index=(0,), options=('None', 'Remove Rows with Missing Metrics?', 'Add …"
      ]
     },
     "metadata": {},
     "output_type": "display_data"
    }
   ],
   "source": [
    "# -------------- CELL 2 --------------\n",
    "\n",
    "print(\"Data preprocessing: select either option (or both):\")\n",
    "preprocessing = widgets.SelectMultiple(\n",
    "    options=['None', 'Remove Rows with Missing Metrics?', 'Add an Interval Column?'],\n",
    "    value=['None'],\n",
    "    description='Options:',\n",
    "    disabled=False,\n",
    ")\n",
    "\n",
    "display(preprocessing)"
   ]
  },
  {
   "cell_type": "code",
   "execution_count": 3,
   "id": "c2bb83db",
   "metadata": {
    "ExecuteTime": {
     "end_time": "2023-06-28T20:17:34.124386Z",
     "start_time": "2023-06-28T20:17:34.117026800Z"
    }
   },
   "outputs": [
    {
     "name": "stdout",
     "output_type": "stream",
     "text": [
      "Optional: select the units to be included in the timeseries data.\n"
     ]
    },
    {
     "data": {
      "application/vnd.jupyter.widget-view+json": {
       "model_id": "9365977cef66405f8fe6b2750c0e7c0d",
       "version_major": 2,
       "version_minor": 0
      },
      "text/plain": [
       "SelectMultiple(description='Units:', index=(0,), options=('None', 'CPU %', 'GPU %', 'GB:memused', 'GB:memused_…"
      ]
     },
     "metadata": {},
     "output_type": "display_data"
    }
   ],
   "source": [
    "# -------------- CELL 3 --------------\n",
    "\n",
    "# get timeseries from the DB\n",
    "time_series_df = nbf.get_time_series_from_database(start_time.value, end_time.value)\n",
    "\n",
    "# get the account logs from the DB\n",
    "account_log_df = nbf.get_account_log_from_database(start_time.value, end_time.value)\n",
    "\n",
    "# do the preprocessing\n",
    "for value in preprocessing.value:\n",
    "    if \"Remove\" in value:\n",
    "        time_series_df = time_series_df.dropna()\n",
    "    if \"Add\" in value:\n",
    "        time_series_df = nbf.add_interval_column(end_time.value, time_series_df)\n",
    "\n",
    "print(\"Optional: select the units to be included in the timeseries data.\")\n",
    "units = widgets.SelectMultiple(\n",
    "    options=['None', 'CPU %', 'GPU %', 'GB:memused', 'GB:memused_minus_diskcache', 'GB/s', 'MB/s'],\n",
    "    value=['None'],\n",
    "    description='Units:',\n",
    "    disabled=False,\n",
    ")\n",
    "\n",
    "display(units)\n"
   ]
  },
  {
   "cell_type": "code",
   "execution_count": 4,
   "id": "b1cb487b",
   "metadata": {
    "ExecuteTime": {
     "end_time": "2023-06-28T20:17:37.897736200Z",
     "start_time": "2023-06-28T20:17:37.848893200Z"
    }
   },
   "outputs": [
    {
     "name": "stdout",
     "output_type": "stream",
     "text": [
      "********************************\n",
      "Enter the low value for CPU %\n"
     ]
    },
    {
     "data": {
      "application/vnd.jupyter.widget-view+json": {
       "model_id": "62ec5ee183224b33a6b5debe131edb66",
       "version_major": 2,
       "version_minor": 0
      },
      "text/plain": [
       "FloatText(value=0.1, description='CPU % Low Value:')"
      ]
     },
     "metadata": {},
     "output_type": "display_data"
    },
    {
     "name": "stdout",
     "output_type": "stream",
     "text": [
      "Enter the high value for CPU %\n"
     ]
    },
    {
     "data": {
      "application/vnd.jupyter.widget-view+json": {
       "model_id": "ab74030997644119b7948abc5e22dc2c",
       "version_major": 2,
       "version_minor": 0
      },
      "text/plain": [
       "FloatText(value=99.9, description='CPU % High Value:')"
      ]
     },
     "metadata": {},
     "output_type": "display_data"
    },
    {
     "data": {
      "application/vnd.jupyter.widget-view+json": {
       "model_id": "abc7d165ee1f4d25afc6b761568fff50",
       "version_major": 2,
       "version_minor": 0
      },
      "text/plain": [
       "Button(description='Save Values', style=ButtonStyle())"
      ]
     },
     "metadata": {},
     "output_type": "display_data"
    },
    {
     "name": "stdout",
     "output_type": "stream",
     "text": [
      "Optional: provide the hosts to be included in the timeseries data e.g., 'NODE1, NODE2'\n"
     ]
    },
    {
     "data": {
      "application/vnd.jupyter.widget-view+json": {
       "model_id": "db271018cc0f408dad037c051423fce7",
       "version_major": 2,
       "version_minor": 0
      },
      "text/plain": [
       "Text(value='', description='Hosts:', placeholder='')"
      ]
     },
     "metadata": {},
     "output_type": "display_data"
    },
    {
     "name": "stdout",
     "output_type": "stream",
     "text": [
      "Optional: provide the jobs to be included in the timeseries data e.g., 'JOB1, JOB2'\n"
     ]
    },
    {
     "data": {
      "application/vnd.jupyter.widget-view+json": {
       "model_id": "761536b9a0034ee89ce9b9a73a6e2e89",
       "version_major": 2,
       "version_minor": 0
      },
      "text/plain": [
       "Text(value='', description='Jobs:', placeholder='')"
      ]
     },
     "metadata": {},
     "output_type": "display_data"
    },
    {
     "name": "stdout",
     "output_type": "stream",
     "text": [
      "Optional: select if you want the account logs to be returned for the Job IDs matching your query.\n"
     ]
    },
    {
     "data": {
      "application/vnd.jupyter.widget-view+json": {
       "model_id": "1115f74e37254af4947e1b630db6a283",
       "version_major": 2,
       "version_minor": 0
      },
      "text/plain": [
       "ToggleButton(value=False, description='Account Logs', icon='check', tooltip='Return Account Logs?')"
      ]
     },
     "metadata": {},
     "output_type": "display_data"
    },
    {
     "name": "stdout",
     "output_type": "stream",
     "text": [
      "Optional: select the columns to be included in the timeseries data (hold control to select multiple). If no columns are selected, all columns will be included.\n"
     ]
    },
    {
     "data": {
      "application/vnd.jupyter.widget-view+json": {
       "model_id": "919d3d17700445c0a77d791705318426",
       "version_major": 2,
       "version_minor": 0
      },
      "text/plain": [
       "SelectMultiple(description='Return Columns', index=(0,), options=('None', 'Job Id', 'Hosts', 'Events', 'Units'…"
      ]
     },
     "metadata": {},
     "output_type": "display_data"
    }
   ],
   "source": [
    "# -------------- CELL 4 --------------\n",
    "\n",
    "unit_values = {}  # stores user low and high value user input such that: key = a unit from the units list above /// value = (low_value, high_value)\n",
    "\n",
    "for value in units.value:\n",
    "    if value != 'None':\n",
    "        nbf.setup_widgets(unit_values, value)\n",
    "\n",
    "print(\"Optional: provide the hosts to be included in the timeseries data e.g., 'NODE1, NODE2'\")\n",
    "hosts = widgets.Text(\n",
    "    value='',\n",
    "    placeholder='',\n",
    "    description='Hosts:',\n",
    "    disabled=False\n",
    ")\n",
    "display(hosts)\n",
    "\n",
    "print(\"Optional: provide the jobs to be included in the timeseries data e.g., 'JOB1, JOB2'\")\n",
    "job_ids = widgets.Text(\n",
    "    value='',\n",
    "    placeholder='',\n",
    "    description='Jobs:',\n",
    "    disabled=False\n",
    ")\n",
    "display(job_ids)\n",
    "\n",
    "print(\"Optional: select if you want the account logs to be returned for the Job IDs matching your query.\")\n",
    "return_account_logs = widgets.ToggleButton(\n",
    "    value=False,\n",
    "    description='Account Logs',\n",
    "    disabled=False,\n",
    "    button_style='',\n",
    "    tooltip='Return Account Logs?',\n",
    "    icon='check'\n",
    ")\n",
    "display(return_account_logs)\n",
    "\n",
    "print(\"Optional: select the columns to be included in the timeseries data (hold control to select multiple). If no columns are \"\n",
    "      \"selected, all columns will be included.\")\n",
    "timeseries_return_columns = widgets.SelectMultiple(\n",
    "    options=['None', 'Job Id', 'Hosts', 'Events', 'Units', 'Values', 'Timestamps'],\n",
    "    value=['None'],\n",
    "    description='Return Columns',\n",
    "    disabled=False\n",
    ")\n",
    "display(timeseries_return_columns)"
   ]
  },
  {
   "cell_type": "code",
   "execution_count": 5,
   "id": "4f5b1281",
   "metadata": {
    "ExecuteTime": {
     "end_time": "2023-06-28T20:17:44.115029200Z",
     "start_time": "2023-06-28T20:17:43.866113900Z"
    }
   },
   "outputs": [
    {
     "ename": "TypeError",
     "evalue": "'NoneType' object is not subscriptable",
     "output_type": "error",
     "traceback": [
      "\u001B[1;31m---------------------------------------------------------------------------\u001B[0m",
      "\u001B[1;31mTypeError\u001B[0m                                 Traceback (most recent call last)",
      "Cell \u001B[1;32mIn[5], line 13\u001B[0m\n\u001B[0;32m     10\u001B[0m     account_log_df \u001B[38;5;241m=\u001B[39m nbf\u001B[38;5;241m.\u001B[39mget_account_logs_by_job_ids(job_ids\u001B[38;5;241m.\u001B[39mvalue)\n\u001B[0;32m     12\u001B[0m \u001B[38;5;28;01mif\u001B[39;00m return_account_logs:\n\u001B[1;32m---> 13\u001B[0m     account_log_df \u001B[38;5;241m=\u001B[39m \u001B[43mnbf\u001B[49m\u001B[38;5;241;43m.\u001B[39;49m\u001B[43mget_account_logs_by_job_ids\u001B[49m\u001B[43m(\u001B[49m\u001B[43mtime_series_df\u001B[49m\u001B[43m,\u001B[49m\u001B[43m \u001B[49m\u001B[43maccount_log_df\u001B[49m\u001B[43m)\u001B[49m\n\u001B[0;32m     15\u001B[0m \u001B[38;5;28mprint\u001B[39m(\u001B[38;5;124m\"\u001B[39m\u001B[38;5;124mDo you want to download the filtered data?\u001B[39m\u001B[38;5;124m\"\u001B[39m)\n\u001B[0;32m     16\u001B[0m \u001B[38;5;66;03m# Create download button\u001B[39;00m\n",
      "File \u001B[1;32m~\\PycharmProjects\\fresco-updates\\notebook_functions.py:404\u001B[0m, in \u001B[0;36mget_account_logs_by_job_ids\u001B[1;34m(time_series, account_log)\u001B[0m\n\u001B[0;32m    400\u001B[0m \u001B[38;5;28;01mdef\u001B[39;00m \u001B[38;5;21mget_account_logs_by_job_ids\u001B[39m(time_series: pd\u001B[38;5;241m.\u001B[39mDataFrame, account_log: pd\u001B[38;5;241m.\u001B[39mDataFrame) \u001B[38;5;241m-\u001B[39m\u001B[38;5;241m>\u001B[39m pd\u001B[38;5;241m.\u001B[39mDataFrame:\n\u001B[0;32m    401\u001B[0m \u001B[38;5;250m    \u001B[39m\u001B[38;5;124;03m\"\"\"\u001B[39;00m\n\u001B[0;32m    402\u001B[0m \n\u001B[0;32m    403\u001B[0m \u001B[38;5;124;03m    \"\"\"\u001B[39;00m\n\u001B[1;32m--> 404\u001B[0m     jobs \u001B[38;5;241m=\u001B[39m \u001B[43mtime_series\u001B[49m\u001B[43m[\u001B[49m\u001B[38;5;124;43m'\u001B[39;49m\u001B[38;5;124;43mJob Id\u001B[39;49m\u001B[38;5;124;43m'\u001B[39;49m\u001B[43m]\u001B[49m\u001B[38;5;241m.\u001B[39mto_list()\n\u001B[0;32m    406\u001B[0m     \u001B[38;5;28;01mreturn\u001B[39;00m account_log[account_log[\u001B[38;5;124m'\u001B[39m\u001B[38;5;124mJob Id\u001B[39m\u001B[38;5;124m'\u001B[39m]\u001B[38;5;241m.\u001B[39misin(jobs)]\n",
      "\u001B[1;31mTypeError\u001B[0m: 'NoneType' object is not subscriptable"
     ]
    }
   ],
   "source": [
    "# -------------- CELL 5 --------------\n",
    "\n",
    "if units.value != \"None\":\n",
    "    time_series_df = nbf.get_timeseries_by_values_and_unit(unit_values, time_series_df)\n",
    "\n",
    "if len(hosts.value) > 0:\n",
    "    time_series_df = nbf.get_timeseries_by_hosts(hosts.value, time_series_df)\n",
    "    \n",
    "if len(job_ids.value) > 0:\n",
    "    account_log_df = nbf.get_account_logs_by_job_ids(job_ids.value)\n",
    "\n",
    "if return_account_logs:\n",
    "    account_log_df = nbf.get_account_logs_by_job_ids(time_series_df, account_log_df)\n",
    "\n",
    "print(\"Do you want to download the filtered data?\")\n",
    "# Create download button\n",
    "download_button = widgets.Button(description=\"Download Data\")\n",
    "\n",
    "def on_button_clicked(b):\n",
    "    # Create download link when button is clicked and display link\n",
    "    display(nbf.create_download_link(time_series_df))\n",
    "\n",
    "download_button.on_click(on_button_clicked)\n",
    "display(download_button)\n",
    "\n",
    "print(\"Please select which statistics to be calculated:\")\n",
    "stats = widgets.SelectMultiple(\n",
    "    options=['Average', 'Mean', 'Median', 'Standard Deviation', 'PDF', 'CDF', 'Ratio of Data Outside Threshold'],\n",
    "    value=['Mean'],\n",
    "    description='Statistics',\n",
    "    disabled=False\n",
    ")\n",
    "display(stats)"
   ]
  },
  {
   "cell_type": "code",
   "execution_count": 6,
   "id": "58e03c05",
   "metadata": {
    "ExecuteTime": {
     "end_time": "2023-06-28T20:18:24.918101100Z",
     "start_time": "2023-06-28T20:18:24.899752700Z"
    }
   },
   "outputs": [
    {
     "name": "stdout",
     "output_type": "stream",
     "text": [
      "If you would like to explore correlations among metrics and statistics, select from the options below:\n"
     ]
    },
    {
     "data": {
      "application/vnd.jupyter.widget-view+json": {
       "model_id": "591d32f4bc544b9ab217720af7377912",
       "version_major": 2,
       "version_minor": 0
      },
      "text/plain": [
       "SelectMultiple(description='Metrics', index=(0,), options=('None', 'CPU %', 'GPU %', 'GB(memused_minus_diskcac…"
      ]
     },
     "metadata": {},
     "output_type": "display_data"
    },
    {
     "data": {
      "application/vnd.jupyter.widget-view+json": {
       "model_id": "9e5cd7b77c9b4619b4a934e9d91753a9",
       "version_major": 2,
       "version_minor": 0
      },
      "text/plain": [
       "SelectMultiple(description='Statistics', index=(1,), options=('Average', 'Mean', 'Median', 'Standard Deviation…"
      ]
     },
     "metadata": {},
     "output_type": "display_data"
    }
   ],
   "source": [
    "# -------------- CELL 6 --------------\n",
    "\n",
    "# Display statistical data here\n",
    "\n",
    "\n",
    "# Give the user the option to calculate correlations\n",
    "print(\"If you would like to explore correlations among metrics and statistics, select from the options below:\")\n",
    "\n",
    "correlations = widgets.SelectMultiple(\n",
    "    options=['None', 'CPU %', 'GPU %', 'GB(memused_minus_diskcache)', 'GB(memused)', 'GB/s', 'MB/s'],\n",
    "    value=['None'],\n",
    "    description='Metrics',\n",
    "    disabled=False\n",
    ")\n",
    "\n",
    "stats = widgets.SelectMultiple(\n",
    "    options=['Average', 'Mean', 'Median', 'Standard Deviation', 'PDF', 'CDF', 'Ratio of Data Outside Threshold'],\n",
    "    value=['Mean'],\n",
    "    description='Statistics',\n",
    "    disabled=False\n",
    ")\n",
    "\n",
    "display(correlations, stats)\n"
   ]
  },
  {
   "cell_type": "code",
   "execution_count": null,
   "id": "6614ebea",
   "metadata": {},
   "outputs": [],
   "source": [
    "# -------------- CELL 7 --------------\n",
    "\n",
    "# calculate correlations\n",
    "nbf.calculate_correlation()\n",
    "\n",
    "# Display correlation visualizations here\n"
   ]
  },
  {
   "cell_type": "code",
   "execution_count": null,
   "id": "e150e5fa",
   "metadata": {},
   "outputs": [],
   "source": [
    "# -------------- CELL 8 ---------------\n",
    "\n",
    "# Give the user the option to download data here.\n",
    "print(\"Select the files to be downloaded:\")\n",
    "files_to_provide = widgets.SelectMultiple(\n",
    "    options=['None', 'job_ts_metrics_aug2022_anon', 'job_ts_metrics_dec2022_anon',\n",
    "             'job_ts_metrics_jan2022_anon', 'job_ts_metrics_july2022_anon',\n",
    "             'job_ts_metrics_nov2022_anon', 'job_ts_metrics_sep2022_anon'],\n",
    "    value=['None'],\n",
    "    description='Files',\n",
    "    disabled=False\n",
    ")\n",
    "display(files_to_provide)\n",
    "\n",
    "# Create and display download button\n",
    "download_button = widgets.Button(description='Download File/s')\n",
    "download_button.on_click(nbf.on_download_button_clicked)\n",
    "display(download_button)"
   ]
  },
  {
   "cell_type": "code",
   "execution_count": null,
   "id": "9e516ccc",
   "metadata": {},
   "outputs": [],
   "source": [
    "# -------------- CELL 9 ---------------\n"
   ]
  }
 ],
 "metadata": {
  "kernelspec": {
   "display_name": "Python 3 (ipykernel)",
   "language": "python",
   "name": "python3"
  },
  "language_info": {
   "codemirror_mode": {
    "name": "ipython",
    "version": 3
   },
   "file_extension": ".py",
   "mimetype": "text/x-python",
   "name": "python",
   "nbconvert_exporter": "python",
   "pygments_lexer": "ipython3",
   "version": "3.11.4"
  }
 },
 "nbformat": 4,
 "nbformat_minor": 5
}

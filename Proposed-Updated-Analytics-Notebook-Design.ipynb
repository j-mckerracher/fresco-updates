{
 "cells": [
  {
   "cell_type": "markdown",
   "id": "25999cae",
   "metadata": {},
   "source": [
    "# FRESCO Analytics Notebook\n",
    "### Overview\n",
    "This notebook has been designed to make analysis of the Anvil dataset as easy as possible. Generally speaking, it will allow the user to access the Anvil files stored locally, select a number of analysis options, and view the results.\n",
    "\n",
    "The notebook can be divided into three sections:\n",
    "#### Section 1: Data Filtering\n",
    "This initial section is your gateway to defining the precise scope of your analysis. Select a specific datetime window and apply various filters to customize your dataset to your needs.\n",
    "\n",
    "#### Section 2: Data Analysis Options\n",
    "The second section provides a suite of analysis options. Here, you have the liberty to pick and choose the analysis that fits your needs.\n",
    "\n",
    "#### Section 3: Data Analysis and Visualizations\n",
    "The final section of this notebook performs the selected analysis option on the filtered dataset, and provides visualizations of those analyses.\n",
    "\n",
    "### Step-by-Step Instructions\n",
    "1. **Cell 1:** Start by defining the temporal boundaries of your dataset. This time frame will dictate the extraction of relevant host time series and job accounting data from the database.\n",
    "2. **Cell 2:** Here, choose your preferred preprocessing methods. Multiple methods can be combined.\n",
    "3. **Cell 3:** Specify the units for the time series data of the host that you wish to be included in the analysis.\n",
    "4. **Cell 4:** Here, you input your desired values and select options. **Remember:** If units were selected in step 3, ensure the low and high values are added here, and click the **\"Save Values\"** button before moving forward.\n",
    "5. **Cell 5:** This step involves two actions:\n",
    "- Download Option: You can choose to download the filtered dataset for offline use or further analysis.\n",
    "- Analysis Selection: Choose from various data analysis options for your filtered dataset.\n",
    "6. **Cell 6:** Running this cell will generate all the data visualizations. If you would like to explore correlations among metrics and statistics, select from the provided options.\n",
    "7. **Cell 7:** Run to see correlations.\n",
    "8. **Cell 8:** TBD.\n"
   ]
  },
  {
   "cell_type": "code",
   "execution_count": 25,
   "id": "814c04de",
   "metadata": {
    "ExecuteTime": {
     "end_time": "2023-08-02T21:25:51.921599600Z",
     "start_time": "2023-08-02T21:25:51.158801Z"
    },
    "scrolled": true,
    "tags": []
   },
   "outputs": [
    {
     "name": "stdout",
     "output_type": "stream",
     "text": [
      "Please provide a time window for your dataset.\n"
     ]
    },
    {
     "data": {
      "application/vnd.jupyter.widget-view+json": {
       "model_id": "194b27357d234d87855bcfaf6433cd7c",
       "version_major": 2,
       "version_minor": 0
      },
      "text/plain": [
       "DatePicker(value=None, description='Pick a Date', step=1)"
      ]
     },
     "metadata": {},
     "output_type": "display_data"
    },
    {
     "data": {
      "application/vnd.jupyter.widget-view+json": {
       "model_id": "8b4cebaf3aab460c94918161ed90e80a",
       "version_major": 2,
       "version_minor": 0
      },
      "text/plain": [
       "DatePicker(value=None, description='Pick a Date', step=1)"
      ]
     },
     "metadata": {},
     "output_type": "display_data"
    },
    {
     "data": {
      "application/vnd.jupyter.widget-view+json": {
       "model_id": "e8264ee74be743fcb542d666e4ede441",
       "version_major": 2,
       "version_minor": 0
      },
      "text/plain": [
       "Button(description='Validate Dates', style=ButtonStyle())"
      ]
     },
     "metadata": {},
     "output_type": "display_data"
    },
    {
     "data": {
      "application/vnd.jupyter.widget-view+json": {
       "model_id": "fdb7e3d317b8462aa514daaf2345c23b",
       "version_major": 2,
       "version_minor": 0
      },
      "text/plain": [
       "Output()"
      ]
     },
     "metadata": {},
     "output_type": "display_data"
    },
    {
     "name": "stdout",
     "output_type": "stream",
     "text": [
      "Data preprocessing: select one or many:\n"
     ]
    },
    {
     "data": {
      "application/vnd.jupyter.widget-view+json": {
       "model_id": "3e57e56465f847dba38eca515eb025b4",
       "version_major": 2,
       "version_minor": 0
      },
      "text/plain": [
       "SelectMultiple(description='Options:', index=(0,), options=('None', 'Remove Rows with Missing Metric', 'Remove…"
      ]
     },
     "metadata": {},
     "output_type": "display_data"
    }
   ],
   "source": [
    "# -------------- CELL 1 --------------\n",
    "from IPython.display import display\n",
    "import ipywidgets as widgets\n",
    "import notebook_functions as nbf\n",
    "from datetime import datetime\n",
    "import pandas as pd\n",
    "import matplotlib.pyplot as plt\n",
    "import os\n",
    "\n",
    "print(r\"Please provide a time window for your dataset.\")\n",
    "\n",
    "start_time = widgets.DatePicker(\n",
    "    description='Pick a Date',\n",
    "    disabled=False\n",
    ")\n",
    "end_time = widgets.DatePicker(\n",
    "    description='Pick a Date',\n",
    "    disabled=False\n",
    ")\n",
    "\n",
    "# start_time = widgets.NaiveDatetimePicker(\n",
    "#     value=datetime.now().replace(microsecond=0),\n",
    "#     placeholder='',\n",
    "#     description='Start Time:',\n",
    "#     disabled=False\n",
    "# )\n",
    "\n",
    "# end_time = widgets.NaiveDatetimePicker(\n",
    "#     value=datetime.now().replace(microsecond=0),\n",
    "#     placeholder='',\n",
    "#     description='End Time:',\n",
    "#     disabled=False\n",
    "# )\n",
    "\n",
    "# Add a button that the user can press to validate the dates\n",
    "validate_button = widgets.Button(description=\"Validate Dates\")\n",
    "output = widgets.Output()\n",
    "\n",
    "def on_button_clicked(b):\n",
    "    if end_time.value and start_time.value >= end_time.value:\n",
    "        b.description = \"Invalid Times\"\n",
    "        b.button_style = 'danger'  # The button turns red when clicked\n",
    "    elif start_time.value and end_time.value <= start_time.value:\n",
    "        b.description = \"Invalid Times\"\n",
    "        b.button_style = 'danger'  # The button turns red when clicked\n",
    "    else:\n",
    "        b.description = \"Times Valid\"\n",
    "        b.button_style = 'success'  # The button turns green when clicked\n",
    "\n",
    "validate_button.on_click(on_button_clicked)\n",
    "\n",
    "display(start_time, end_time, validate_button, output)\n",
    "\n",
    "print(\"Data preprocessing: select one or many:\")\n",
    "preprocessing = widgets.SelectMultiple(\n",
    "    options=['None', 'Remove Rows with Missing Metric', 'Remove Rows with Negative Value', 'Add an Interval Column'],\n",
    "    value=['None'],\n",
    "    description='Options:',\n",
    "    disabled=False,\n",
    ")\n",
    "\n",
    "display(preprocessing)"
   ]
  },
  {
   "cell_type": "code",
   "execution_count": 26,
   "id": "c2bb83db",
   "metadata": {
    "ExecuteTime": {
     "end_time": "2023-08-01T22:04:45.154543400Z",
     "start_time": "2023-08-01T22:04:32.363674300Z"
    },
    "tags": []
   },
   "outputs": [
    {
     "name": "stdout",
     "output_type": "stream",
     "text": [
      "Optional: select the units to be included in the timeseries data. **Note** the Pearson correlation below will require at least two selections here.\n"
     ]
    },
    {
     "data": {
      "application/vnd.jupyter.widget-view+json": {
       "model_id": "36a34ae556c449db906ce5729dc327a4",
       "version_major": 2,
       "version_minor": 0
      },
      "text/plain": [
       "SelectMultiple(description='Units:', index=(0,), options=('None', 'CPU %', 'GPU %', 'GB:memused', 'GB:memused_…"
      ]
     },
     "metadata": {},
     "output_type": "display_data"
    }
   ],
   "source": [
    "# -------------- CELL 2 --------------\n",
    "# get timeseries from the DB\n",
    "time_series_df = nbf.get_time_series_from_database(start_time.value.strftime('%Y-%m-%d %H:%M:%S'), end_time.value.strftime('%Y-%m-%d %H:%M:%S'))\n",
    "\n",
    "# get the account logs from the DB\n",
    "account_log_df = nbf.get_account_log_from_database(start_time.value.strftime('%Y-%m-%d %H:%M:%S'), end_time.value.strftime('%Y-%m-%d %H:%M:%S'))\n",
    "\n",
    "# do the preprocessing\n",
    "for value in preprocessing.value:\n",
    "\n",
    "    if \"Missing Metric\" in value:\n",
    "        time_series_df = time_series_df.dropna()\n",
    "    if \"Add\" in value:\n",
    "        time_series_df = nbf.add_interval_column(end_time.value, time_series_df, account_log_df)\n",
    "    if \"Negative Value\" in value:\n",
    "        time_series_df = time_series_df[time_series_df['value'] >= 0]\n",
    "\n",
    "print(\"Optional: select the units to be included in the timeseries data. **Note** the Pearson correlation below will require at least two selections here.\")\n",
    "units = widgets.SelectMultiple(\n",
    "    options=['None', 'CPU %', 'GPU %', 'GB:memused', 'GB:memused_minus_diskcache', 'GB/s', 'MB/s'],\n",
    "    value=['None'],\n",
    "    description='Units:',\n",
    "    disabled=False,\n",
    ")\n",
    "\n",
    "display(units)"
   ]
  },
  {
   "cell_type": "code",
   "execution_count": 27,
   "id": "b1cb487b",
   "metadata": {
    "ExecuteTime": {
     "end_time": "2023-08-01T22:04:54.226678400Z",
     "start_time": "2023-08-01T22:04:54.192880600Z"
    },
    "tags": []
   },
   "outputs": [
    {
     "data": {
      "application/vnd.jupyter.widget-view+json": {
       "model_id": "208bba16be01409f8fa274018b359a40",
       "version_major": 2,
       "version_minor": 0
      },
      "text/plain": [
       "VBox(children=(FloatRangeSlider(value=(0.01, 99.99), description='CPU % Range:', layout=Layout(width='99%'), r…"
      ]
     },
     "metadata": {},
     "output_type": "display_data"
    },
    {
     "data": {
      "application/vnd.jupyter.widget-view+json": {
       "model_id": "17b7373612d846608665605ce34d4e0e",
       "version_major": 2,
       "version_minor": 0
      },
      "text/plain": [
       "Button(description='Save Values', style=ButtonStyle())"
      ]
     },
     "metadata": {},
     "output_type": "display_data"
    },
    {
     "data": {
      "application/vnd.jupyter.widget-view+json": {
       "model_id": "0f1cfddf5c2e496795520820cdf4e931",
       "version_major": 2,
       "version_minor": 0
      },
      "text/plain": [
       "VBox(children=(FloatRangeSlider(value=(0.01, 99.99), description='GPU % Range:', layout=Layout(width='99%'), r…"
      ]
     },
     "metadata": {},
     "output_type": "display_data"
    },
    {
     "data": {
      "application/vnd.jupyter.widget-view+json": {
       "model_id": "ec18cbcea61a4ca289fc4872c647912e",
       "version_major": 2,
       "version_minor": 0
      },
      "text/plain": [
       "Button(description='Save Values', style=ButtonStyle())"
      ]
     },
     "metadata": {},
     "output_type": "display_data"
    },
    {
     "data": {
      "application/vnd.jupyter.widget-view+json": {
       "model_id": "e2792c6904e14837b34f980e9e24832f",
       "version_major": 2,
       "version_minor": 0
      },
      "text/plain": [
       "VBox(children=(FloatRangeSlider(value=(0.01, 99.99), description='GB:memused Range:', layout=Layout(width='99%…"
      ]
     },
     "metadata": {},
     "output_type": "display_data"
    },
    {
     "data": {
      "application/vnd.jupyter.widget-view+json": {
       "model_id": "946f16b4224c4f3a8891012b2c51c40d",
       "version_major": 2,
       "version_minor": 0
      },
      "text/plain": [
       "Button(description='Save Values', style=ButtonStyle())"
      ]
     },
     "metadata": {},
     "output_type": "display_data"
    },
    {
     "data": {
      "application/vnd.jupyter.widget-view+json": {
       "model_id": "9c995b2222d64db5a8b23a9facd812b4",
       "version_major": 2,
       "version_minor": 0
      },
      "text/plain": [
       "VBox(children=(FloatRangeSlider(value=(0.01, 99.99), description='GB:memused_minus_diskcache Range:', layout=L…"
      ]
     },
     "metadata": {},
     "output_type": "display_data"
    },
    {
     "data": {
      "application/vnd.jupyter.widget-view+json": {
       "model_id": "74da2441feef4eb6aafb2e628b75b00b",
       "version_major": 2,
       "version_minor": 0
      },
      "text/plain": [
       "Button(description='Save Values', style=ButtonStyle())"
      ]
     },
     "metadata": {},
     "output_type": "display_data"
    },
    {
     "data": {
      "application/vnd.jupyter.widget-view+json": {
       "model_id": "0e6069307d364a86b75faf42a92c795b",
       "version_major": 2,
       "version_minor": 0
      },
      "text/plain": [
       "VBox(children=(FloatRangeSlider(value=(0.01, 99.99), description='GB/s Range:', layout=Layout(width='99%'), re…"
      ]
     },
     "metadata": {},
     "output_type": "display_data"
    },
    {
     "data": {
      "application/vnd.jupyter.widget-view+json": {
       "model_id": "520484ca3a4a44bfb2dadae7df3f5a76",
       "version_major": 2,
       "version_minor": 0
      },
      "text/plain": [
       "Button(description='Save Values', style=ButtonStyle())"
      ]
     },
     "metadata": {},
     "output_type": "display_data"
    },
    {
     "data": {
      "application/vnd.jupyter.widget-view+json": {
       "model_id": "1d96fec0475f4e94854bb962283fad11",
       "version_major": 2,
       "version_minor": 0
      },
      "text/plain": [
       "VBox(children=(FloatRangeSlider(value=(0.01, 99.99), description='MB/s Range:', layout=Layout(width='99%'), re…"
      ]
     },
     "metadata": {},
     "output_type": "display_data"
    },
    {
     "data": {
      "application/vnd.jupyter.widget-view+json": {
       "model_id": "fd626c1e3a604ae88aaaca2c4afc989b",
       "version_major": 2,
       "version_minor": 0
      },
      "text/plain": [
       "Button(description='Save Values', style=ButtonStyle())"
      ]
     },
     "metadata": {},
     "output_type": "display_data"
    },
    {
     "name": "stdout",
     "output_type": "stream",
     "text": [
      "Optional: provide the hosts to be included in the timeseries data e.g., 'NODE1, NODE2'\n"
     ]
    },
    {
     "data": {
      "application/vnd.jupyter.widget-view+json": {
       "model_id": "dd5764fc8c564f87a4d67dc548e7120b",
       "version_major": 2,
       "version_minor": 0
      },
      "text/plain": [
       "Text(value='', description='Hosts:', placeholder='')"
      ]
     },
     "metadata": {},
     "output_type": "display_data"
    },
    {
     "name": "stdout",
     "output_type": "stream",
     "text": [
      "Optional: provide the jobs to be included in the timeseries data e.g., 'JOB1, JOB2'\n"
     ]
    },
    {
     "data": {
      "application/vnd.jupyter.widget-view+json": {
       "model_id": "75e2b0c725bb4f0f9b78bfba72a9e11e",
       "version_major": 2,
       "version_minor": 0
      },
      "text/plain": [
       "Text(value='', description='Jobs:', placeholder='')"
      ]
     },
     "metadata": {},
     "output_type": "display_data"
    },
    {
     "name": "stdout",
     "output_type": "stream",
     "text": [
      "Optional: select if you want the account logs to be returned for the Job IDs matching your query.\n"
     ]
    },
    {
     "data": {
      "application/vnd.jupyter.widget-view+json": {
       "model_id": "92430d3acfeb4103b73c60749556bd8a",
       "version_major": 2,
       "version_minor": 0
      },
      "text/plain": [
       "Button(description='Return Account Logs?', style=ButtonStyle())"
      ]
     },
     "metadata": {},
     "output_type": "display_data"
    },
    {
     "name": "stdout",
     "output_type": "stream",
     "text": [
      "Optional: select the columns to be included in the timeseries data (hold control to select multiple). If no columns are selected, all columns will be included. ** NOTE ** if 'Units', 'Values', and 'Timestamps' are required for graphing in the cells below!\n"
     ]
    },
    {
     "data": {
      "application/vnd.jupyter.widget-view+json": {
       "model_id": "b5d628ae99a240b0852a7e8eb97880b8",
       "version_major": 2,
       "version_minor": 0
      },
      "text/plain": [
       "SelectMultiple(description='Return Columns', index=(0,), options=('None', 'Job Id', 'Hosts', 'Events', 'Units'…"
      ]
     },
     "metadata": {},
     "output_type": "display_data"
    }
   ],
   "source": [
    "# -------------- CELL 3 --------------\n",
    "unit_values = {}  # stores user low and high value user input such that: key = a unit from the units list above /// value = (low_value, high_value)\n",
    "\n",
    "for value in units.value:\n",
    "    if value != 'None':\n",
    "        nbf.setup_widgets(unit_values, value)\n",
    "\n",
    "print(\"Optional: provide the hosts to be included in the timeseries data e.g., 'NODE1, NODE2'\")\n",
    "hosts = widgets.Text(\n",
    "    value='',\n",
    "    placeholder='',\n",
    "    description='Hosts:',\n",
    "    disabled=False\n",
    ")\n",
    "display(hosts)\n",
    "print(\"Optional: provide the jobs to be included in the timeseries data e.g., 'JOB1, JOB2'\")\n",
    "job_ids = widgets.Text(\n",
    "    value='',\n",
    "    placeholder='',\n",
    "    description='Jobs:',\n",
    "    disabled=False\n",
    ")\n",
    "display(job_ids)\n",
    "\n",
    "print(\"Optional: select if you want the account logs to be returned for the Job IDs matching your query.\")\n",
    "return_account_logs = widgets.Button(description=\"Return Account Logs?\")\n",
    "\n",
    "def on_account_clicked(b):\n",
    "    b.description = \"Returning Account Logs!\"\n",
    "    b.button_style = 'success'  # The button turns green when clicked\n",
    "\n",
    "return_account_logs.on_click(on_account_clicked)\n",
    "\n",
    "display(return_account_logs)\n",
    "\n",
    "print(\"Optional: select the columns to be included in the timeseries data (hold control to select multiple). If no columns are \"\n",
    "      \"selected, all columns will be included. ** NOTE ** if 'Units', 'Values', and 'Timestamps' are required for graphing in the cells below!\")\n",
    "timeseries_return_columns = widgets.SelectMultiple(\n",
    "    options=['None', 'Job Id', 'Hosts', 'Events', 'Units', 'Values', 'Timestamps'],\n",
    "    value=['None'],\n",
    "    description='Return Columns',\n",
    "    disabled=False\n",
    ")\n",
    "display(timeseries_return_columns)"
   ]
  },
  {
   "cell_type": "code",
   "execution_count": 28,
   "id": "4f5b1281",
   "metadata": {
    "ExecuteTime": {
     "end_time": "2023-08-01T22:05:38.898918100Z",
     "start_time": "2023-08-01T22:05:38.367471300Z"
    },
    "tags": []
   },
   "outputs": [
    {
     "name": "stdout",
     "output_type": "stream",
     "text": [
      "Do you want to download the filtered timeseries data?\n"
     ]
    },
    {
     "data": {
      "application/vnd.jupyter.widget-view+json": {
       "model_id": "7ae4c0e768b24c1aa696a5b135b2642e",
       "version_major": 2,
       "version_minor": 0
      },
      "text/plain": [
       "Button(description='Download as CSV', style=ButtonStyle())"
      ]
     },
     "metadata": {},
     "output_type": "display_data"
    },
    {
     "data": {
      "application/vnd.jupyter.widget-view+json": {
       "model_id": "64dcb1e7293f4673b31fba0d2fd49c83",
       "version_major": 2,
       "version_minor": 0
      },
      "text/plain": [
       "Button(description='Download as Excel', style=ButtonStyle())"
      ]
     },
     "metadata": {},
     "output_type": "display_data"
    },
    {
     "name": "stdout",
     "output_type": "stream",
     "text": [
      "Do you want to download the filtered accounting data?\n"
     ]
    },
    {
     "data": {
      "application/vnd.jupyter.widget-view+json": {
       "model_id": "0bc18569aa4640ff8eb6512ea18d814d",
       "version_major": 2,
       "version_minor": 0
      },
      "text/plain": [
       "Button(description='Download as CSV', style=ButtonStyle())"
      ]
     },
     "metadata": {},
     "output_type": "display_data"
    },
    {
     "data": {
      "application/vnd.jupyter.widget-view+json": {
       "model_id": "34412dbbac9248da8e355c96f3319237",
       "version_major": 2,
       "version_minor": 0
      },
      "text/plain": [
       "Button(description='Download as Excel', style=ButtonStyle())"
      ]
     },
     "metadata": {},
     "output_type": "display_data"
    },
    {
     "name": "stdout",
     "output_type": "stream",
     "text": [
      "Please select a statistic to calculate.\n"
     ]
    },
    {
     "data": {
      "application/vnd.jupyter.widget-view+json": {
       "model_id": "54483971d06140edbd24065b87f68372",
       "version_major": 2,
       "version_minor": 0
      },
      "text/plain": [
       "SelectMultiple(description='Statistics', index=(0,), options=('None', 'Mean', 'Median', 'Standard Deviation', …"
      ]
     },
     "metadata": {},
     "output_type": "display_data"
    },
    {
     "name": "stdout",
     "output_type": "stream",
     "text": [
      "Please provide the threshold if 'Ratio of Data Outside Threshold' was selected.\n"
     ]
    },
    {
     "data": {
      "application/vnd.jupyter.widget-view+json": {
       "model_id": "a184be65d05e49a78a306c79b1d8828a",
       "version_major": 2,
       "version_minor": 0
      },
      "text/plain": [
       "IntText(value=0, description='Value:', disabled=True)"
      ]
     },
     "metadata": {},
     "output_type": "display_data"
    },
    {
     "name": "stdout",
     "output_type": "stream",
     "text": [
      "Please select an interval type to use in the statistic calculation. If count is selected, the interval will correspond to a count of rows. If time is selected, the interval will be a time window.\n"
     ]
    },
    {
     "data": {
      "application/vnd.jupyter.widget-view+json": {
       "model_id": "c2fc23e7123c443ab00a3bbd4bda7399",
       "version_major": 2,
       "version_minor": 0
      },
      "text/plain": [
       "Dropdown(description='Interval Type', disabled=True, options=('None', 'Count', 'Time'), value='None')"
      ]
     },
     "metadata": {},
     "output_type": "display_data"
    },
    {
     "name": "stdout",
     "output_type": "stream",
     "text": [
      "If time was selected, please select the unit of time.\n"
     ]
    },
    {
     "data": {
      "application/vnd.jupyter.widget-view+json": {
       "model_id": "cb35caaac3c148c9b418e40acaa9c3bb",
       "version_major": 2,
       "version_minor": 0
      },
      "text/plain": [
       "Dropdown(description='Interval Unit', disabled=True, options=('None', 'Days', 'Hours', 'Minutes', 'Seconds'), …"
      ]
     },
     "metadata": {},
     "output_type": "display_data"
    },
    {
     "name": "stdout",
     "output_type": "stream",
     "text": [
      "Please provide the interval count.\n"
     ]
    },
    {
     "data": {
      "application/vnd.jupyter.widget-view+json": {
       "model_id": "1cc8b43ea8b64772a25a7156dfb02db6",
       "version_major": 2,
       "version_minor": 0
      },
      "text/plain": [
       "IntText(value=0, description='Value:', disabled=True)"
      ]
     },
     "metadata": {},
     "output_type": "display_data"
    }
   ],
   "source": [
    "# -------------- CELL 4 --------------\n",
    "if 'None' not in units.value or len(units.value) > 1:\n",
    "    time_series_df = nbf.get_timeseries_by_values_and_unit(unit_values, time_series_df)\n",
    "\n",
    "if len(hosts.value) > 0:\n",
    "    time_series_df = nbf.get_timeseries_by_hosts(hosts.value, time_series_df)\n",
    "\n",
    "if len(job_ids.value) > 0:\n",
    "    account_log_df = nbf.get_timeseries_by_job_ids(job_ids.value, time_series_df)\n",
    "\n",
    "if return_account_logs:\n",
    "    account_log_df = nbf.get_account_logs_by_job_ids(time_series_df, account_log_df)\n",
    "\n",
    "if any(selection != \"None\" for selection in timeseries_return_columns.value):\n",
    "    col_map = {'Job Id': 'jid', 'Hosts': 'host', 'Events': 'event', 'Units': 'unit', 'Values': 'value', 'Timestamps': 'time'}\n",
    "    time_series_df = nbf.filter_return_columns([col_map[selection] for selection in timeseries_return_columns.value if selection != \"None\"], time_series_df)\n",
    "\n",
    "# -------------- timeseries download --------------\n",
    "print(\"Do you want to download the filtered timeseries data?\")\n",
    "\n",
    "start = start_time.value.strftime('%Y-%m-%d-%H-%M-%S')\n",
    "end = end_time.value.strftime('%Y-%m-%d-%H-%M-%S')\n",
    "\n",
    "csv_download_button = widgets.Button(description=\"Download as CSV\")\n",
    "excel_download_button = widgets.Button(description=\"Download as Excel\")\n",
    "def on_csv_button_clicked(b):\n",
    "    display(nbf.create_csv_download_link(time_series_df, title=\"Download timeseries CSV\", filename=f\"timeseries-csv-{start}-to-{end}\"))\n",
    "\n",
    "def on_excel_button_clicked(b):\n",
    "    display(nbf.create_excel_download_link(time_series_df, title=\"Download timeseries Excel\", filename=f\"timeseries-excel-{start}-to-{end}\"))\n",
    "\n",
    "csv_download_button.on_click(on_csv_button_clicked)\n",
    "excel_download_button.on_click(on_excel_button_clicked)\n",
    "\n",
    "# Put the buttons in a horizontal box\n",
    "button_box = widgets.HBox([csv_download_button, excel_download_button])\n",
    "display(button_box)\n",
    "\n",
    "# -------------- account log download --------------\n",
    "\n",
    "print(\"Do you want to download the filtered accounting data?\")\n",
    "csv_acc_download_button = widgets.Button(description=\"Download as CSV\")\n",
    "excel_acc_download_button = widgets.Button(description=\"Download as Excel\")\n",
    "\n",
    "def on_acc_csv_button_clicked(b):\n",
    "    display(nbf.create_csv_download_link(account_log_df, title=\"Download accounting CSV\", filename=f\"job-accounting-csv-{start}-to-{end}\"))\n",
    "\n",
    "def on_acc_excel_button_clicked(b):\n",
    "    display(nbf.create_excel_download_link(account_log_df, title=\"Download accounting Excel\", filename=f\"job-accounting-excel-{start}-to-{end}\"))\n",
    "\n",
    "csv_acc_download_button.on_click(on_acc_csv_button_clicked)\n",
    "excel_acc_download_button.on_click(on_acc_excel_button_clicked)\n",
    "\n",
    "# Put the buttons in a horizontal box\n",
    "button_box2 = widgets.HBox([csv_acc_download_button, excel_acc_download_button])\n",
    "display(button_box2)\n",
    "\n",
    "# -------------- stats options --------------\n",
    "stats = widgets.SelectMultiple(\n",
    "    options=['None', 'Mean', 'Median', 'Standard Deviation', 'PDF', 'CDF', 'Ratio of Data Outside Threshold'],\n",
    "    value=['None'],\n",
    "    description='Statistics',\n",
    "    disabled=False\n",
    ")\n",
    "\n",
    "ratio_threshold = widgets.IntText(\n",
    "    value=0,\n",
    "    description='Value:',\n",
    "    disabled=True  # disabled by default\n",
    ")\n",
    "\n",
    "interval_type = widgets.Dropdown(\n",
    "    options=['None', 'Count', 'Time'],\n",
    "    value='None',\n",
    "    description='Interval Type',\n",
    "    disabled=True  # disabled by default\n",
    ")\n",
    "\n",
    "time_units = widgets.Dropdown(\n",
    "    options=['None', 'Days', 'Hours', 'Minutes', 'Seconds'],\n",
    "    value='None',\n",
    "    description='Interval Unit',\n",
    "    disabled=True  # disabled by default\n",
    ")\n",
    "\n",
    "time_value = widgets.IntText(\n",
    "    value=0,\n",
    "    description='Value:',\n",
    "    disabled=True  # disabled by default\n",
    ")\n",
    "\n",
    "# Define a function to be called when stats value changes\n",
    "def on_stats_change(change):\n",
    "    if change['type'] == 'change' and change['name'] == 'value':\n",
    "        if \"Ratio of Data Outside Threshold\" in change['new']: \n",
    "            # enable ratio_threshold if 'Ratio of Data Outside Threshold' is selected\n",
    "            ratio_threshold.disabled = False\n",
    "        else: \n",
    "            # disable ratio_threshold if 'Ratio of Data Outside Threshold' is not selected\n",
    "            ratio_threshold.disabled = True\n",
    "\n",
    "        if change['new'][0] != \"None\":  \n",
    "            # enable interval_type if stats is not None\n",
    "            interval_type.disabled = False\n",
    "        else:  \n",
    "            # disable interval_type if stats is None\n",
    "            interval_type.disabled = True\n",
    "            interval_type.value = 'None'  # reset interval_type to 'None'\n",
    "\n",
    "stats.observe(on_stats_change)\n",
    "\n",
    "# Define a function to be called when interval_type value changes\n",
    "def on_interval_type_change(change):\n",
    "    if change['type'] == 'change' and change['name'] == 'value':\n",
    "        if change['new'] == \"None\":\n",
    "            time_units.disabled = True\n",
    "            time_value.disabled = True\n",
    "            time_units.value = 'None'  # reset time_units to 'None'\n",
    "            time_value.value = 0  # reset time_value to 0\n",
    "        elif change['new'] == \"Time\":\n",
    "            time_units.disabled = False\n",
    "            time_value.disabled = False\n",
    "        elif change['new'] == \"Count\":\n",
    "            time_units.disabled = True\n",
    "            time_value.disabled = False\n",
    "        else:\n",
    "            time_units.disabled = False\n",
    "            time_value.disabled = False\n",
    "\n",
    "interval_type.observe(on_interval_type_change)\n",
    "\n",
    "# Display the widgets\n",
    "print(\"Please select a statistic to calculate.\")\n",
    "display(stats)\n",
    "print(\"Please provide the threshold if 'Ratio of Data Outside Threshold' was selected.\")\n",
    "display(ratio_threshold)\n",
    "print(\"Please select an interval type to use in the statistic calculation. If count is selected, the interval will correspond to a count of rows. If time is selected, the interval will be a time window.\")\n",
    "display(interval_type)\n",
    "print(\"If time was selected, please select the unit of time.\")\n",
    "display(time_units)\n",
    "print(\"Please provide the interval count.\")\n",
    "display(time_value)"
   ]
  },
  {
   "cell_type": "code",
   "execution_count": 29,
   "id": "a7bfc5a6-2e81-4ad1-b1e9-b4053f317d70",
   "metadata": {
    "tags": []
   },
   "outputs": [
    {
     "data": {
      "application/vnd.jupyter.widget-view+json": {
       "model_id": "c3dc0f071e494247a15e2e5026b0724e",
       "version_major": 2,
       "version_minor": 0
      },
      "text/plain": [
       "Tab(children=(Accordion(children=(Box(children=(Label(value='Mean'), Output())), Box(children=(Label(value='Me…"
      ]
     },
     "metadata": {},
     "output_type": "display_data"
    }
   ],
   "source": [
    "%matplotlib inline\n",
    "# Convert the 'time' columns to datetime\n",
    "try:\n",
    "    time_series_df['time'] = pd.to_datetime(time_series_df['time'])\n",
    "    time_series_df = time_series_df.set_index('time')\n",
    "    time_series_df = time_series_df.sort_index()\n",
    "except Exception as e:\n",
    "    print(\"Encountered the following error: {e}\")\n",
    "\n",
    "metric_func_map = {\n",
    "    \"Mean\": nbf.get_mean if \"Mean\" in stats.value else \"\",\n",
    "    \"Median\": nbf.get_median if \"Median\" in stats.value else \"\",\n",
    "    \"Standard Deviation\": nbf.get_standard_deviation if \"Standard Deviation\" in stats.value else \"\",\n",
    "    \"PDF\": nbf.plot_pdf if \"PDF\" in stats.value else \"\",\n",
    "    \"CDF\": nbf.plot_cdf if \"CDF\" in stats.value else \"\",\n",
    "    \"Ratio of Data Outside Threshold\": nbf.plot_data_points_outside_threshold if 'Ratio of Data Outside Threshold' in stats.value else \"\"\n",
    "}\n",
    "\n",
    "unit_map = {\n",
    "    \"CPU %\": \"cpuuser\",\n",
    "    \"GPU %\": \"gpu_usage\",\n",
    "    \"GB:memused\": \"memused\",\n",
    "    \"GB:memused_minus_diskcache\": \"memused_minus_diskcache\",\n",
    "    \"GB/s\": \"block\",\n",
    "    \"MB/s\": \"nfs\"\n",
    "}\n",
    "\n",
    "# set up outputs and tabbed layout\n",
    "tab = widgets.Tab()\n",
    "outputs = {}\n",
    "for unit in units.value:\n",
    "    outputs[unit] = {}\n",
    "    for stat in stats.value + ('Box and Whisker',):\n",
    "        outputs[unit][stat] = widgets.Output()\n",
    "tab.children = [widgets.Accordion([widgets.Box([widgets.Label(stat), outputs[unit][stat]]) for stat in stats.value + ('Box and Whisker',)], titles=stats.value + ('Box and Whisker',)) for unit in units.value]\n",
    "tab.titles = units.value\n",
    "\n",
    "with plt.style.context('fivethirtyeight'):\n",
    "    unit_stat_dfs = {}\n",
    "    time_map = {'Days': 'D', 'Hours': 'H', 'Minutes': 'T', 'Seconds': 'S'}\n",
    "    for unit in units.value:\n",
    "        unit_stat_dfs[unit] = {}\n",
    "        for metric in stats.value:\n",
    "            metric_df = time_series_df.query(f\"`event` == '{unit_map[unit]}'\")\n",
    "            rolling = False\n",
    "\n",
    "            # handle special cases\n",
    "            if metric == \"PDF\" or metric == \"CDF\":\n",
    "                with outputs[unit][metric]:\n",
    "                    metric_func_map[metric](metric_df)\n",
    "                continue\n",
    "            elif metric == \"Ratio of Data Outside Threshold\":\n",
    "                with outputs[unit][metric]:\n",
    "                    metric_func_map[metric](ratio_threshold.value, metric_df)\n",
    "                continue\n",
    "\n",
    "            # calculate stats\n",
    "            if interval_type.value == \"Time\":\n",
    "                unit_stat_dfs[unit][metric] = metric_func_map[metric](metric_df, rolling=True, window=f\"{time_value.value}{time_map[time_units.value]}\")\n",
    "                rolling = True\n",
    "            elif interval_type.value == \"Count\":\n",
    "                unit_stat_dfs[unit][metric] = metric_func_map[metric](metric_df, rolling=True, window=time_value.value)\n",
    "                rolling = True\n",
    "            else:\n",
    "                unit_stat_dfs[unit][metric] = metric_func_map[metric](metric_df, rolling=False)\n",
    "\n",
    "            # plot stats\n",
    "            if rolling:\n",
    "                with outputs[unit][metric]:\n",
    "                    unit_stat_dfs[unit][metric].plot()\n",
    "                    x_axis_label = \"\"\n",
    "                    if interval_type.value == \"Count\":\n",
    "                        x_axis_label += f\"Timestamp - Rolling Window: {time_value:,} Rows\"\n",
    "                    elif interval_type.value == \"Time\":\n",
    "                        x_axis_label += f\"Timestamp - Rolling Window: {time_value.value}{time_map[time_units.value]}\"\n",
    "                    y_axis_label = unit\n",
    "                    plt.gcf().autofmt_xdate()  # auto formats datetimes\n",
    "                    plt.style.use('fivethirtyeight')\n",
    "                    plt.title(f\"{unit} {metric}\")\n",
    "                    plt.legend(loc='upper left', fontsize=\"10\")\n",
    "                    plt.xlabel(x_axis_label)\n",
    "                    plt.ylabel(y_axis_label)\n",
    "                    plt.show()\n",
    "\n",
    "        # Get the stats dataframes\n",
    "        df_mean = unit_stat_dfs[unit].get('Mean')\n",
    "        df_std = unit_stat_dfs[unit].get('Standard Deviation')\n",
    "        df_median = unit_stat_dfs[unit].get('Median')\n",
    "\n",
    "        # Plot box and whisker\n",
    "        if df_mean is not None and df_std is not None and df_median is not None:\n",
    "            with outputs[unit]['Box and Whisker']:\n",
    "                nbf.plot_box_and_whisker(df_mean, df_std, df_median)\n",
    "\n",
    "display(tab)"
   ]
  },
  {
   "cell_type": "code",
   "execution_count": 30,
   "id": "a87e2db6-e306-4811-8dc6-c550936f20a7",
   "metadata": {
    "tags": []
   },
   "outputs": [
    {
     "name": "stdout",
     "output_type": "stream",
     "text": [
      "Please select two metrics below to find their Pearson correlation:\n"
     ]
    },
    {
     "data": {
      "application/vnd.jupyter.widget-view+json": {
       "model_id": "8089d867db3340eba0a68269ec374c77",
       "version_major": 2,
       "version_minor": 0
      },
      "text/plain": [
       "VBox(children=(HBox(children=(SelectMultiple(description='Metrics', index=(0,), options=('None', 'cpuuser', 'g…"
      ]
     },
     "metadata": {},
     "output_type": "display_data"
    }
   ],
   "source": [
    "# -------------- CELL 6 --------------\n",
    "def on_selection_change(change):\n",
    "    if len(change.new) > 2:\n",
    "        correlations.value = change.new[:2]\n",
    "        \n",
    "def on_button_click(button):\n",
    "    graph_output.clear_output()\n",
    "    with graph_output:\n",
    "        with plt.style.context('fivethirtyeight'):\n",
    "            display(nbf.calculate_and_plot_correlation(time_series_df, correlations.value))\n",
    "\n",
    "correlations = widgets.SelectMultiple(\n",
    "    options=['None', 'cpuuser', 'gpu_usage', 'nfs', 'block', 'memused', 'memused_minus_diskcache'],\n",
    "    value=['None'],\n",
    "    description='Metrics',\n",
    "    disabled=False\n",
    ")\n",
    "\n",
    "plot_button = widgets.Button(\n",
    "    description = \"Plot correlation\",\n",
    "    disabled = False,\n",
    "    icon= \"chart-line\"\n",
    ")\n",
    "plot_button.on_click(on_button_click)\n",
    "\n",
    "graph_output = widgets.Output()\n",
    "\n",
    "container = widgets.VBox(\n",
    "    [widgets.HBox([correlations, plot_button], layout = widgets.Layout(\n",
    "        width = \"50%\", \n",
    "        justify_content=\"space-between\", \n",
    "        align_items=\"center\"),),\n",
    "    graph_output])\n",
    "correlations.observe(on_selection_change, names='value')\n",
    "\n",
    "# Give the user the option to calculate correlations\n",
    "print(\"Please select two metrics below to find their Pearson correlation:\")\n",
    "display(container)"
   ]
  },
  {
   "cell_type": "code",
   "execution_count": null,
   "id": "e150e5fa",
   "metadata": {},
   "outputs": [],
   "source": [
    "# -------------- CELL 7 ---------------\n",
    "\n",
    "# Give the user the option to download data here.\n",
    "print(\"Select the files to be downloaded:\")\n",
    "files_to_provide = widgets.SelectMultiple(\n",
    "    options=['None', 'job_ts_metrics_aug2022_anon', 'job_ts_metrics_dec2022_anon',\n",
    "             'job_ts_metrics_jan2022_anon', 'job_ts_metrics_july2022_anon',\n",
    "             'job_ts_metrics_nov2022_anon', 'job_ts_metrics_sep2022_anon'],\n",
    "    value=['None'],\n",
    "    description='Files',\n",
    "    disabled=False\n",
    ")\n",
    "display(files_to_provide)\n",
    "\n",
    "# Create and display download button\n",
    "download_button = widgets.Button(description='Download File/s')\n",
    "download_button.on_click(nbf.on_download_button_clicked)\n",
    "display(download_button)"
   ]
  }
 ],
 "metadata": {
  "kernelspec": {
   "display_name": "Python 3 (ipykernel)",
   "language": "python",
   "name": "python3"
  },
  "language_info": {
   "codemirror_mode": {
    "name": "ipython",
    "version": 3
   },
   "file_extension": ".py",
   "mimetype": "text/x-python",
   "name": "python",
   "nbconvert_exporter": "python",
   "pygments_lexer": "ipython3",
   "version": "3.11.4"
  }
 },
 "nbformat": 4,
 "nbformat_minor": 5
}

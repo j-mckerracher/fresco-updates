{
 "cells": [
  {
   "cell_type": "markdown",
   "id": "64f51439",
   "metadata": {},
   "source": [
    "## FRESCO Analytics Notebook\n",
    "### Overview\n",
    "This notebook has been designed to make analysis of the Anvil dataset as easy as possible. Generally speaking, it will allow the user to access the Anvil files stored locally, select a number of analysis options, and view the results.\n",
    "### Instructions\n",
    "1. Run the first cell and provide the complete directory path to the data in the 'Path' field.\n",
    "2. Run the second cell. If data preprocessing is needed, select the desired options. Otherwise, skip to the \"If data preprocessing options were not selected, follow these instructions\" section below.\n",
    "#### If data preprocessing options were selected, follow these instructions\n",
    "3. Run cell 3 and provide start time and end times.\n",
    "4. Run cell 4 and select the units to be included in the timeseries data.\n",
    "5. Run cell 5 and provide the desired options.\n",
    "6. Run cell 6 and provide the desired statistic.\n",
    "7. Run cell 7 and provide the desired data visualisation options.\n",
    "8. Run cell 8 to see the data visualizations.\n",
    "\n",
    "#### If data preprocessing options were not selected, follow these instructions\n",
    "3. Run cell 4 and provide start time and end times and select the units to be included in the timeseries data.\n",
    "4. Run cell 5 and provide the desired options.\n",
    "5. Run cell 6 and provide the desired statistic.\n",
    "6. Run cell 7 and provide the desired data visualisation options.\n",
    "7. Run cell 8 to see the data visualizations.\n"
   ]
  },
  {
   "cell_type": "code",
   "execution_count": 7,
   "id": "814c04de",
   "metadata": {
    "ExecuteTime": {
     "end_time": "2023-06-12T18:50:50.716760500Z",
     "start_time": "2023-06-12T18:50:50.684420700Z"
    }
   },
   "outputs": [
    {
     "name": "stdout",
     "output_type": "stream",
     "text": [
      "Please provide the directory path to the data files e.g., D:\\Data\n"
     ]
    },
    {
     "data": {
      "text/plain": "Text(value='', description='Path:', placeholder='')",
      "application/vnd.jupyter.widget-view+json": {
       "version_major": 2,
       "version_minor": 0,
       "model_id": "3a103be0281a4567b5693a6ebdefda09"
      }
     },
     "metadata": {},
     "output_type": "display_data"
    }
   ],
   "source": [
    "# -------------- CELL 1 --------------\n",
    "\n",
    "from IPython.display import display, FileLink\n",
    "import ipywidgets as widgets\n",
    "import pandas as pd\n",
    "import os\n",
    "from functools import partial\n",
    "import notebook_functions as nbf\n",
    "\n",
    "print(r\"Please provide the directory path to the data files e.g., D:\\Data\")\n",
    "dir_path = widgets.Text(\n",
    "    value='',\n",
    "    placeholder='',\n",
    "    description='Path:',\n",
    "    disabled=False\n",
    ")\n",
    "display(dir_path)"
   ]
  },
  {
   "cell_type": "code",
   "execution_count": 2,
   "id": "7ff024e8",
   "metadata": {
    "scrolled": true,
    "ExecuteTime": {
     "end_time": "2023-06-12T18:46:17.589162300Z",
     "start_time": "2023-06-12T18:46:17.550292600Z"
    }
   },
   "outputs": [
    {
     "name": "stdout",
     "output_type": "stream",
     "text": [
      "Data preprocessing: select either option (or both):\n"
     ]
    },
    {
     "data": {
      "text/plain": "SelectMultiple(description='Preprocessing:', index=(0,), options=('None', 'Remove Rows with Missing Metrics?',…",
      "application/vnd.jupyter.widget-view+json": {
       "version_major": 2,
       "version_minor": 0,
       "model_id": "aee6b9b13e864ceb96c8ae3ae8694cc9"
      }
     },
     "metadata": {},
     "output_type": "display_data"
    }
   ],
   "source": [
    "# -------------- CELL 2 --------------\n",
    "\n",
    "def get_data_files_directory(path):\n",
    "    \"\"\"\n",
    "    This function should produce a folder path to the data files.\n",
    "    :param path:\n",
    "    :return:\n",
    "    \"\"\"\n",
    "    pass\n",
    "\n",
    "\n",
    "data_path = get_data_files_directory(dir_path.value)\n",
    "\n",
    "print(\"Data preprocessing: select either option (or both):\")\n",
    "preprocessing = widgets.SelectMultiple(\n",
    "    options=['None', 'Remove Rows with Missing Metrics?', 'Add an Interval Column?'],\n",
    "    value=['None'],\n",
    "    description='Preprocessing:',\n",
    "    disabled=False,\n",
    ")\n",
    "\n",
    "display(preprocessing)"
   ]
  },
  {
   "cell_type": "code",
   "execution_count": 3,
   "id": "7a37a54c",
   "metadata": {
    "ExecuteTime": {
     "end_time": "2023-06-12T18:46:22.040387700Z",
     "start_time": "2023-06-12T18:46:22.024759600Z"
    }
   },
   "outputs": [],
   "source": [
    "# -------------- CELL 3 --------------\n",
    "pre_proc_bools = {\"preprocess_remove\": False, \"add_interval_col\": False}\n",
    "\n",
    "for value in preprocessing.value:\n",
    "    if \"Remove\" in value or \"Add\" in value:\n",
    "        print(\"Please select the start time and end time for the data preprocessing.\")\n",
    "        start_time = widgets.Text(\n",
    "            value='01-01-2020',\n",
    "            placeholder='',\n",
    "            description='Start Time:',\n",
    "            disabled=False\n",
    "        )\n",
    "\n",
    "        end_time = widgets.Text(\n",
    "            value='12-31-9999',\n",
    "            placeholder='',\n",
    "            description='End Time:',\n",
    "            disabled=False\n",
    "        )\n",
    "        display(start_time, end_time)\n",
    "        break\n",
    "\n",
    "for value in preprocessing.value:\n",
    "    if \"Remove\" in value:\n",
    "        pre_proc_bools[\"preprocess_remove\"] = True\n",
    "    if \"Add\" in value:\n",
    "        pre_proc_bools[\"add_interval_col\"] = True\n",
    "\n"
   ]
  },
  {
   "cell_type": "code",
   "execution_count": 10,
   "id": "c2bb83db",
   "metadata": {
    "ExecuteTime": {
     "end_time": "2023-06-12T18:53:05.544651700Z",
     "start_time": "2023-06-12T18:53:05.481145300Z"
    }
   },
   "outputs": [
    {
     "name": "stdout",
     "output_type": "stream",
     "text": [
      "Please enter a start time and end time.\n"
     ]
    },
    {
     "data": {
      "text/plain": "Text(value='01-01-2020', description='Start Time:', placeholder='')",
      "application/vnd.jupyter.widget-view+json": {
       "version_major": 2,
       "version_minor": 0,
       "model_id": "d9474fa860fc49898f0acf559c577e7d"
      }
     },
     "metadata": {},
     "output_type": "display_data"
    },
    {
     "data": {
      "text/plain": "Text(value='12-31-9999', description='End Time:', placeholder='')",
      "application/vnd.jupyter.widget-view+json": {
       "version_major": 2,
       "version_minor": 0,
       "model_id": "d2aab2c510a744279d86b46c29283012"
      }
     },
     "metadata": {},
     "output_type": "display_data"
    },
    {
     "name": "stdout",
     "output_type": "stream",
     "text": [
      "Optional: select the units to be included in the timeseries data.\n"
     ]
    },
    {
     "data": {
      "text/plain": "SelectMultiple(description='Units:', index=(0,), options=('None', 'CPU %', 'GPU %', 'GB:memused', 'GB:memused_…",
      "application/vnd.jupyter.widget-view+json": {
       "version_major": 2,
       "version_minor": 0,
       "model_id": "c2361b70e86343ee8844539d1dd35bff"
      }
     },
     "metadata": {},
     "output_type": "display_data"
    }
   ],
   "source": [
    "# -------------- CELL 4 --------------\n",
    "\n",
    "def handle_missing_metrics(starting_time, ending_time, path):\n",
    "    \"\"\"\n",
    "    This function should remove the rows within the given timeframe that are missing metrics.\n",
    "    :param starting_time:\n",
    "    :param ending_time:\n",
    "    :param path:\n",
    "    :return:\n",
    "    \"\"\"\n",
    "    pass\n",
    "\n",
    "\n",
    "def add_interval_column(starting_time, ending_time, path):\n",
    "    \"\"\"\n",
    "    This function should add an interval column to the data that falls within the given timeframe. The interval column\n",
    "    should reflect the length of each timestamp.\n",
    "    :param starting_time:\n",
    "    :param ending_time:\n",
    "    :param path:\n",
    "    :return:\n",
    "    \"\"\"\n",
    "    pass\n",
    "\n",
    "dataframe = pd.DataFrame()\n",
    "\n",
    "if pre_proc_bools[\"preprocess_remove\"]:\n",
    "    dataframe = handle_missing_metrics(start_time.value, end_time.value, data_path)\n",
    "\n",
    "if pre_proc_bools[\"add_interval_col\"]:\n",
    "    dataframe = add_interval_column(start_time.value, end_time.value, data_path)\n",
    "\n",
    "if not pre_proc_bools[\"preprocess_remove\"] and not pre_proc_bools[\"add_interval_col\"]:\n",
    "    print(\"Please enter a start time and end time.\")\n",
    "    start_time = widgets.Text(\n",
    "        value='01-01-2020',\n",
    "        placeholder='',\n",
    "        description='Start Time:',\n",
    "        disabled=False\n",
    "    )\n",
    "\n",
    "    end_time = widgets.Text(\n",
    "        value='12-31-9999',\n",
    "        placeholder='',\n",
    "        description='End Time:',\n",
    "        disabled=False\n",
    "    )\n",
    "    display(start_time, end_time)\n",
    "\n",
    "print(\"Optional: select the units to be included in the timeseries data.\")\n",
    "units = widgets.SelectMultiple(\n",
    "    options=['None', 'CPU %', 'GPU %', 'GB:memused', 'GB:memused_minus_diskcache', 'GB/s', 'MB/s'],\n",
    "    value=['None'],\n",
    "    description='Units:',\n",
    "    disabled=False,\n",
    ")\n",
    "\n",
    "display(units)"
   ]
  },
  {
   "cell_type": "code",
   "execution_count": 17,
   "id": "b1cb487b",
   "metadata": {
    "ExecuteTime": {
     "end_time": "2023-06-12T19:00:26.354947800Z",
     "start_time": "2023-06-12T19:00:26.169657700Z"
    }
   },
   "outputs": [
    {
     "name": "stdout",
     "output_type": "stream",
     "text": [
      "********************************\n",
      "Enter the low value for GPU %\n"
     ]
    },
    {
     "data": {
      "text/plain": "FloatText(value=0.1, description='GPU % Low Value:')",
      "application/vnd.jupyter.widget-view+json": {
       "version_major": 2,
       "version_minor": 0,
       "model_id": "753674785a3d442c920164ff4f7e36dd"
      }
     },
     "metadata": {},
     "output_type": "display_data"
    },
    {
     "name": "stdout",
     "output_type": "stream",
     "text": [
      "Enter the high value for GPU %\n"
     ]
    },
    {
     "data": {
      "text/plain": "FloatText(value=99.9, description='GPU % High Value:')",
      "application/vnd.jupyter.widget-view+json": {
       "version_major": 2,
       "version_minor": 0,
       "model_id": "2f33dfbbab6041ddabe819c2702419e3"
      }
     },
     "metadata": {},
     "output_type": "display_data"
    },
    {
     "data": {
      "text/plain": "Button(description='Save Values', style=ButtonStyle())",
      "application/vnd.jupyter.widget-view+json": {
       "version_major": 2,
       "version_minor": 0,
       "model_id": "caad682a5d5340ebaaf7813b80b9f6ed"
      }
     },
     "metadata": {},
     "output_type": "display_data"
    },
    {
     "name": "stdout",
     "output_type": "stream",
     "text": [
      "********************************\n",
      "Enter the low value for GB:memused\n"
     ]
    },
    {
     "data": {
      "text/plain": "FloatText(value=0.1, description='GB:memused Low Value:')",
      "application/vnd.jupyter.widget-view+json": {
       "version_major": 2,
       "version_minor": 0,
       "model_id": "c049400e48d24229b61d359f6c4b163b"
      }
     },
     "metadata": {},
     "output_type": "display_data"
    },
    {
     "name": "stdout",
     "output_type": "stream",
     "text": [
      "Enter the high value for GB:memused\n"
     ]
    },
    {
     "data": {
      "text/plain": "FloatText(value=99.9, description='GB:memused High Value:')",
      "application/vnd.jupyter.widget-view+json": {
       "version_major": 2,
       "version_minor": 0,
       "model_id": "7533fe6da3ee49e1b8036ad30d4ef902"
      }
     },
     "metadata": {},
     "output_type": "display_data"
    },
    {
     "data": {
      "text/plain": "Button(description='Save Values', style=ButtonStyle())",
      "application/vnd.jupyter.widget-view+json": {
       "version_major": 2,
       "version_minor": 0,
       "model_id": "b4fedb082939438fb498da317f0e8e37"
      }
     },
     "metadata": {},
     "output_type": "display_data"
    },
    {
     "name": "stdout",
     "output_type": "stream",
     "text": [
      "Optional: provide the hosts to be included in the timeseries data e.g., 'NODE1, NODE2'\n"
     ]
    },
    {
     "data": {
      "text/plain": "Text(value='', description='Hosts:', placeholder='')",
      "application/vnd.jupyter.widget-view+json": {
       "version_major": 2,
       "version_minor": 0,
       "model_id": "2c70b230167f45d4bc5c21f0148a8d3a"
      }
     },
     "metadata": {},
     "output_type": "display_data"
    },
    {
     "name": "stdout",
     "output_type": "stream",
     "text": [
      "Optional: provide the jobs to be included in the timeseries data e.g., 'JOB1, JOB2'\n"
     ]
    },
    {
     "data": {
      "text/plain": "Text(value='', description='Jobs:', placeholder='')",
      "application/vnd.jupyter.widget-view+json": {
       "version_major": 2,
       "version_minor": 0,
       "model_id": "8681912a6e53483ba86ade0888514451"
      }
     },
     "metadata": {},
     "output_type": "display_data"
    },
    {
     "name": "stdout",
     "output_type": "stream",
     "text": [
      "Optional: select if you want the account logs to be returned for the Job IDs matching your query.\n"
     ]
    },
    {
     "data": {
      "text/plain": "ToggleButton(value=False, description='Account Logs', icon='check', tooltip='Return Account Logs?')",
      "application/vnd.jupyter.widget-view+json": {
       "version_major": 2,
       "version_minor": 0,
       "model_id": "554c6789131f4d01b064375553b1a75e"
      }
     },
     "metadata": {},
     "output_type": "display_data"
    },
    {
     "name": "stdout",
     "output_type": "stream",
     "text": [
      "Optional: select the columns to be included in the timeseries data (hold control to select multiple). If no columns are selected, all columns will be included.\n"
     ]
    },
    {
     "data": {
      "text/plain": "SelectMultiple(description='Return Columns', index=(0,), options=('None', 'Job Id', 'Hosts', 'Events', 'Units'…",
      "application/vnd.jupyter.widget-view+json": {
       "version_major": 2,
       "version_minor": 0,
       "model_id": "efb51ffdcb57484f8455ad448817fde5"
      }
     },
     "metadata": {},
     "output_type": "display_data"
    }
   ],
   "source": [
    "# -------------- CELL 5 --------------\n",
    "def setup_widgets(unit_values, value):\n",
    "    print(\"********************************\")\n",
    "    print(f\"Enter the low value for {value}\")\n",
    "    low_value = widgets.FloatText(\n",
    "        value=0.1,\n",
    "        description=f'{value} Low Value:',\n",
    "        disabled=False\n",
    "    )\n",
    "    display(low_value)\n",
    "\n",
    "    print(f\"Enter the high value for {value}\")\n",
    "    high_value = widgets.FloatText(\n",
    "        value=99.9,\n",
    "        description=f'{value} High Value:',\n",
    "        disabled=False\n",
    "    )\n",
    "    display(high_value)\n",
    "\n",
    "    button = widgets.Button(description=\"Save Values\")\n",
    "    display(button)\n",
    "\n",
    "    def on_button_clicked(b):\n",
    "        unit_values[value] = (low_value.value, high_value.value)\n",
    "        print(f\"Saved values for {value}: Low={low_value.value}, High={high_value.value}\")\n",
    "        print(f\"Current unit_values: {unit_values}\")\n",
    "\n",
    "    button.on_click(on_button_clicked)\n",
    "\n",
    "unit_values = {}  # stores user low and high value user input such that: key = a unit from the units list above /// value = (low_value, high_value)\n",
    "\n",
    "for value in units.value:\n",
    "    if value != 'None':\n",
    "        setup_widgets(unit_values, value)\n",
    "\n",
    "\n",
    "print(\"Optional: provide the hosts to be included in the timeseries data e.g., 'NODE1, NODE2'\")\n",
    "hosts = widgets.Text(\n",
    "    value='',\n",
    "    placeholder='',\n",
    "    description='Hosts:',\n",
    "    disabled=False\n",
    ")\n",
    "display(hosts)\n",
    "\n",
    "print(\"Optional: provide the jobs to be included in the timeseries data e.g., 'JOB1, JOB2'\")\n",
    "job_ids = widgets.Text(\n",
    "    value='',\n",
    "    placeholder='',\n",
    "    description='Jobs:',\n",
    "    disabled=False\n",
    ")\n",
    "display(job_ids)\n",
    "\n",
    "print(\"Optional: select if you want the account logs to be returned for the Job IDs matching your query.\")\n",
    "return_account_logs = widgets.ToggleButton(\n",
    "    value=False,\n",
    "    description='Account Logs',\n",
    "    disabled=False,\n",
    "    button_style='',\n",
    "    tooltip='Return Account Logs?',\n",
    "    icon='check'\n",
    ")\n",
    "display(return_account_logs)\n",
    "\n",
    "print(\"Optional: select the columns to be included in the timeseries data (hold control to select multiple). If no columns are \"\n",
    "      \"selected, all columns will be included.\")\n",
    "timeseries_return_columns = widgets.SelectMultiple(\n",
    "    options=['None', 'Job Id', 'Hosts', 'Events', 'Units', 'Values', 'Timestamps'],\n",
    "    value=['None'],\n",
    "    description='Return Columns',\n",
    "    disabled=False\n",
    ")\n",
    "display(timeseries_return_columns)"
   ]
  },
  {
   "cell_type": "code",
   "execution_count": 18,
   "id": "4f5b1281",
   "metadata": {
    "ExecuteTime": {
     "end_time": "2023-06-12T19:00:47.854687100Z",
     "start_time": "2023-06-12T19:00:47.782911200Z"
    }
   },
   "outputs": [
    {
     "name": "stdout",
     "output_type": "stream",
     "text": [
      "{'GPU %': (22.0, 33.0), 'GB:memused': (44.0, 55.0)}\n",
      "Do you want to download the filtered data?\n"
     ]
    },
    {
     "data": {
      "text/plain": "Button(description='Download Data', style=ButtonStyle())",
      "application/vnd.jupyter.widget-view+json": {
       "version_major": 2,
       "version_minor": 0,
       "model_id": "ea435b4fbef04bcfbe17db8cad9ad87e"
      }
     },
     "metadata": {},
     "output_type": "display_data"
    },
    {
     "name": "stdout",
     "output_type": "stream",
     "text": [
      "Please select which statistics to be calculated:\n"
     ]
    },
    {
     "data": {
      "text/plain": "SelectMultiple(description='Statistics', index=(1,), options=('Average', 'Mean', 'Median', 'Standard Deviation…",
      "application/vnd.jupyter.widget-view+json": {
       "version_major": 2,
       "version_minor": 0,
       "model_id": "f642d1abad2e4b5d9df424eab3a9c46c"
      }
     },
     "metadata": {},
     "output_type": "display_data"
    }
   ],
   "source": [
    "# -------------- CELL 6 --------------\n",
    "print(unit_values)\n",
    "def get_timeseries_by_timestamp(begin_time: str, end_time: str, return_columns: list) -> pd.DataFrame:\n",
    "    pass\n",
    "\n",
    "def get_timeseries_by_values_and_unit(unit_vals: dict) -> pd.DataFrame:  # call this with the unit_values dict as an arg\n",
    "    pass\n",
    "\n",
    "\n",
    "def get_timeseries_by_hosts(hosts: str) -> pd.DataFrame:\n",
    "    pass\n",
    "\n",
    "\n",
    "def get_timeseries_by_job_ids(job_ids: str) -> pd.DataFrame:\n",
    "    pass\n",
    "\n",
    "\n",
    "def get_account_logs_by_job_ids(job_ids: str) -> pd.DataFrame:\n",
    "    pass\n",
    "\n",
    "\n",
    "get_timeseries_by_timestamp(start_time.value, end_time.value, timeseries_return_columns.value)\n",
    "\n",
    "if units.value != \"None\":\n",
    "    get_timeseries_by_values_and_unit(unit_values)\n",
    "\n",
    "if len(hosts.value) > 0:\n",
    "    get_timeseries_by_hosts(hosts.value)\n",
    "    \n",
    "if len(job_ids.value) > 0:\n",
    "    get_account_logs_by_job_ids(job_ids.value)\n",
    "\n",
    "print(\"Do you want to download the filtered data?\")\n",
    "def create_download_link(df, title = \"Download CSV file\", filename = \"data.csv\"):\n",
    "    df.to_csv(filename, index=False)\n",
    "    return FileLink(filename)\n",
    "\n",
    "# Create download button\n",
    "download_button = widgets.Button(description=\"Download Data\")\n",
    "\n",
    "def on_button_clicked(b):\n",
    "    # Create download link when button is clicked and display link\n",
    "    display(create_download_link(dataframe))\n",
    "\n",
    "download_button.on_click(on_button_clicked)\n",
    "display(download_button)\n",
    "\n",
    "print(\"Please select which statistics to be calculated:\")\n",
    "stats = widgets.SelectMultiple(\n",
    "    options=['Average', 'Mean', 'Median', 'Standard Deviation', 'PDF', 'CDF', 'Ratio of Data Outside Threshold'],\n",
    "    value=['Mean'],\n",
    "    description='Statistics',\n",
    "    disabled=False\n",
    ")\n",
    "display(stats)"
   ]
  },
  {
   "cell_type": "code",
   "execution_count": 16,
   "id": "58e03c05",
   "metadata": {
    "ExecuteTime": {
     "end_time": "2023-06-12T18:56:14.830028400Z",
     "start_time": "2023-06-12T18:56:14.767314Z"
    }
   },
   "outputs": [
    {
     "name": "stdout",
     "output_type": "stream",
     "text": [
      "{}\n",
      "If you would like to explore correlations among metrics and statistics, select from the options below:\n"
     ]
    },
    {
     "data": {
      "text/plain": "SelectMultiple(description='Metrics', index=(0,), options=('None', 'CPU %', 'GPU %', 'GB(memused_minus_diskcac…",
      "application/vnd.jupyter.widget-view+json": {
       "version_major": 2,
       "version_minor": 0,
       "model_id": "77a703f0ed524ebcb6f9b1f489e4f2cb"
      }
     },
     "metadata": {},
     "output_type": "display_data"
    },
    {
     "data": {
      "text/plain": "SelectMultiple(description='Statistics', index=(1,), options=('Average', 'Mean', 'Median', 'Standard Deviation…",
      "application/vnd.jupyter.widget-view+json": {
       "version_major": 2,
       "version_minor": 0,
       "model_id": "7c1f365c9b134c40abff341d1b2c9894"
      }
     },
     "metadata": {},
     "output_type": "display_data"
    }
   ],
   "source": [
    "# -------------- CELL 7 --------------\n",
    "\n",
    "def get_average():\n",
    "    pass\n",
    "\n",
    "\n",
    "def get_mean():\n",
    "    pass\n",
    "\n",
    "\n",
    "def get_median():\n",
    "    pass\n",
    "\n",
    "\n",
    "def get_standard_deviation():\n",
    "    pass\n",
    "\n",
    "\n",
    "def get_probability_density():\n",
    "    pass\n",
    "\n",
    "\n",
    "def get_cumulative_density():\n",
    "    pass\n",
    "\n",
    "\n",
    "def get_data_points_outside_threshold():\n",
    "    pass\n",
    "\n",
    "\n",
    "def get_ratio_of_data_points_outside_threshold():\n",
    "    pass\n",
    "\n",
    "# Display statistical data here\n",
    "\n",
    "# Give the user the option to calculate correlations\n",
    "print(\"If you would like to explore correlations among metrics and statistics, select from the options below:\")\n",
    "\n",
    "correlations = widgets.SelectMultiple(\n",
    "    options=['None', 'CPU %', 'GPU %', 'GB(memused_minus_diskcache)', 'GB(memused)', 'GB/s', 'MB/s'],\n",
    "    value=['None'],\n",
    "    description='Metrics',\n",
    "    disabled=False\n",
    ")\n",
    "\n",
    "stats = widgets.SelectMultiple(\n",
    "    options=['Average', 'Mean', 'Median', 'Standard Deviation', 'PDF', 'CDF', 'Ratio of Data Outside Threshold'],\n",
    "    value=['Mean'],\n",
    "    description='Statistics',\n",
    "    disabled=False\n",
    ")\n",
    "\n",
    "display(correlations, stats)\n"
   ]
  },
  {
   "cell_type": "code",
   "execution_count": 13,
   "id": "6614ebea",
   "metadata": {
    "ExecuteTime": {
     "end_time": "2023-06-11T02:09:22.066365300Z",
     "start_time": "2023-06-11T02:09:22.028597400Z"
    }
   },
   "outputs": [],
   "source": [
    "# -------------- CELL 8 --------------\n",
    "\n",
    "# Display correlation visualizations here"
   ]
  },
  {
   "cell_type": "code",
   "execution_count": 21,
   "outputs": [
    {
     "name": "stdout",
     "output_type": "stream",
     "text": [
      "Select the files to be downloaded:\n"
     ]
    },
    {
     "data": {
      "text/plain": "SelectMultiple(description='Files', index=(0,), options=('None', 'job_ts_metrics_aug2022_anon', 'job_ts_metric…",
      "application/vnd.jupyter.widget-view+json": {
       "version_major": 2,
       "version_minor": 0,
       "model_id": "5b9ca38b183f43829e82b5087c660120"
      }
     },
     "metadata": {},
     "output_type": "display_data"
    },
    {
     "data": {
      "text/plain": "Button(description='Download File/s', style=ButtonStyle())",
      "application/vnd.jupyter.widget-view+json": {
       "version_major": 2,
       "version_minor": 0,
       "model_id": "9008deb917254f799374b1512380200a"
      }
     },
     "metadata": {},
     "output_type": "display_data"
    }
   ],
   "source": [
    "# -------------- CELL 9 ---------------\n",
    "\n",
    "# Give the user the option to download data here.\n",
    "print(\"Select the files to be downloaded:\")\n",
    "files_to_provide = widgets.SelectMultiple(\n",
    "    options=['None', 'job_ts_metrics_aug2022_anon', 'job_ts_metrics_dec2022_anon',\n",
    "             'job_ts_metrics_jan2022_anon', 'job_ts_metrics_july2022_anon',\n",
    "             'job_ts_metrics_nov2022_anon', 'job_ts_metrics_sep2022_anon'],\n",
    "    value=['None'],\n",
    "    description='Files',\n",
    "    disabled=False\n",
    ")\n",
    "\n",
    "display(files_to_provide)\n",
    "\n",
    "# Function to generate download link\n",
    "def create_download_file_link(file_list):\n",
    "    links = []\n",
    "    for file_name in file_list:\n",
    "        file_path = os.path.join(\"./\", file_name)  # Adjust the path when we know where they'll be\n",
    "        if os.path.isfile(file_path):\n",
    "            links.append(FileLink(file_path))\n",
    "        else:\n",
    "            print(f\"File {file_name} does not exist.\")\n",
    "    return links\n",
    "\n",
    "# Function to be linked to the button, to execute the file download.\n",
    "def on_download_button_clicked(b):\n",
    "    download_files = files_to_provide.value\n",
    "    if download_files:\n",
    "        links = create_download_file_link(download_files)\n",
    "        for link in links:\n",
    "            display(link)\n",
    "    else:\n",
    "        print(\"No file selected for download.\")\n",
    "\n",
    "# Create and display download button\n",
    "download_button = widgets.Button(description='Download File/s')\n",
    "download_button.on_click(on_download_button_clicked)\n",
    "display(download_button)"
   ],
   "metadata": {
    "collapsed": false,
    "ExecuteTime": {
     "end_time": "2023-06-12T01:54:15.116267400Z",
     "start_time": "2023-06-12T01:54:15.030192300Z"
    }
   }
  },
  {
   "cell_type": "code",
   "execution_count": 23,
   "outputs": [],
   "source": [
    "# -------------- CELL 10 ---------------\n"
   ],
   "metadata": {
    "collapsed": false,
    "ExecuteTime": {
     "end_time": "2023-06-12T01:56:41.803259400Z",
     "start_time": "2023-06-12T01:56:41.532222700Z"
    }
   }
  }
 ],
 "metadata": {
  "kernelspec": {
   "name": "python3",
   "language": "python",
   "display_name": "Python 3 (ipykernel)"
  },
  "language_info": {
   "file_extension": ".py",
   "mimetype": "text/x-python",
   "name": "python",
   "version": "3.11.2"
  }
 },
 "nbformat": 4,
 "nbformat_minor": 5
}

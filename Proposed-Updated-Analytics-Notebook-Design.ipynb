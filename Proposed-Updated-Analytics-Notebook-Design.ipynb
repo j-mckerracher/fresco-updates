{
 "cells": [
  {
   "cell_type": "markdown",
   "id": "64f51439",
   "metadata": {},
   "source": [
    "## FRESCO Analytics Notebook\n",
    "### Overview\n",
    "This notebook has been designed to make analysis of the Anvil dataset as easy as possible. Generally speaking, it will allow the user to access the Anvil files stored locally, select a number of analysis options, and view the results.\n",
    "### Instructions\n",
    "1. Run the first cell and provide the complete directory path to the data in the 'Path' field.\n",
    "2. Run the second cell. If data preprocessing is needed, select the desired options. Otherwise, skip to the \"If data preprocessing options were not selected, follow these instructions\" section below.\n",
    "### If data preprocessing options were selected, follow these instructions\n",
    "3. Run cell 3 and provide start time and end times.\n",
    "4. Run cell 4 and select the units to be included in the timeseries data.\n",
    "5. Run cell 5 and provide the desired options.\n",
    "6. Run cell 6 and provide the desired statistic.\n",
    "7. Run cell 7 and provide the desired data visualisation options.\n",
    "8. Run cell 8 to see the data visualizations.\n",
    "\n",
    "### If data preprocessing options were not selected, follow these instructions\n",
    "3. Run cell 4 and provide start time and end times and select the units to be included in the timeseries data.\n",
    "4. Run cell 5 and provide the desired options.\n",
    "5. Run cell 6 and provide the desired statistic.\n",
    "6. Run cell 7 and provide the desired data visualisation options.\n",
    "7. Run cell 8 to see the data visualizations.\n"
   ]
  },
  {
   "cell_type": "code",
   "execution_count": 1,
   "id": "814c04de",
   "metadata": {
    "ExecuteTime": {
     "end_time": "2023-06-11T18:02:42.780871300Z",
     "start_time": "2023-06-11T18:02:40.814559Z"
    }
   },
   "outputs": [
    {
     "name": "stdout",
     "output_type": "stream",
     "text": [
      "Please provide the directory path to the data files e.g., D:\\Data\n"
     ]
    },
    {
     "data": {
      "text/plain": "Text(value='', description='Path:', placeholder='')",
      "application/vnd.jupyter.widget-view+json": {
       "version_major": 2,
       "version_minor": 0,
       "model_id": "179e4b37a2b64f4daed76301c9617d00"
      }
     },
     "metadata": {},
     "output_type": "display_data"
    }
   ],
   "source": [
    "# -------------- CELL 1 --------------\n",
    "\n",
    "from IPython.display import display\n",
    "import ipywidgets as widgets\n",
    "import pandas as pd\n",
    "\n",
    "print(r\"Please provide the directory path to the data files e.g., D:\\Data\")\n",
    "dir_path = widgets.Text(\n",
    "    value='',\n",
    "    placeholder='',\n",
    "    description='Path:',\n",
    "    disabled=False\n",
    ")\n",
    "display(dir_path)"
   ]
  },
  {
   "cell_type": "code",
   "execution_count": 2,
   "id": "7ff024e8",
   "metadata": {
    "scrolled": true,
    "ExecuteTime": {
     "end_time": "2023-06-11T18:02:54.930625100Z",
     "start_time": "2023-06-11T18:02:54.883740100Z"
    }
   },
   "outputs": [
    {
     "name": "stdout",
     "output_type": "stream",
     "text": [
      "Data preprocessing: select this option if rows with missing metrics should be removed.\n"
     ]
    },
    {
     "data": {
      "text/plain": "ToggleButton(value=False, description='Remove Rows with Missing Metrics?', icon='check', tooltip='Remove Rows …",
      "application/vnd.jupyter.widget-view+json": {
       "version_major": 2,
       "version_minor": 0,
       "model_id": "160e5d620ad347a0952a69458ab0a538"
      }
     },
     "metadata": {},
     "output_type": "display_data"
    },
    {
     "name": "stdout",
     "output_type": "stream",
     "text": [
      "Data preprocessing: select this option if an interval column should be added to the data.\n"
     ]
    },
    {
     "data": {
      "text/plain": "ToggleButton(value=False, description='Add Interval Column?', icon='check', tooltip='Add Interval Column?')",
      "application/vnd.jupyter.widget-view+json": {
       "version_major": 2,
       "version_minor": 0,
       "model_id": "ed56e02b24dc4f59a104a512260f3a82"
      }
     },
     "metadata": {},
     "output_type": "display_data"
    }
   ],
   "source": [
    "# -------------- CELL 2 --------------\n",
    "\n",
    "def get_data_files_directory(path):\n",
    "    \"\"\"\n",
    "    This function should produce a folder path to the data files.\n",
    "    :param path:\n",
    "    :return:\n",
    "    \"\"\"\n",
    "    pass\n",
    "\n",
    "\n",
    "data_path = get_data_files_directory(dir_path.value)\n",
    "\n",
    "# Data preprocessing: handling missing metrics\n",
    "print(\"Data preprocessing: select this option if rows with missing metrics should be removed.\")\n",
    "missing_metrics = widgets.ToggleButton(\n",
    "    value=False,\n",
    "    description='Remove Rows with Missing Metrics?',\n",
    "    disabled=False,\n",
    "    button_style='',\n",
    "    tooltip='Remove Rows with Missing Metrics?',\n",
    "    icon='check'\n",
    ")\n",
    "display(missing_metrics)\n",
    "\n",
    "print(\"Data preprocessing: select this option if an interval column should be added to the data.\")\n",
    "interval = widgets.ToggleButton(\n",
    "    value=False,\n",
    "    description='Add Interval Column?',\n",
    "    disabled=False,\n",
    "    button_style='',\n",
    "    tooltip='Add Interval Column?',\n",
    "    icon='check'\n",
    ")\n",
    "display(interval)"
   ]
  },
  {
   "cell_type": "code",
   "execution_count": 3,
   "id": "7a37a54c",
   "metadata": {
    "ExecuteTime": {
     "end_time": "2023-06-11T01:42:29.139711200Z",
     "start_time": "2023-06-11T01:42:29.124088400Z"
    }
   },
   "outputs": [],
   "source": [
    "# -------------- CELL 3 --------------\n",
    "\n",
    "if missing_metrics.value or interval.value:\n",
    "    print(\"Please select the start time and end time for the data preprocessing.\")\n",
    "    start_time = widgets.Text(\n",
    "        value='01-01-2020',\n",
    "        placeholder='',\n",
    "        description='Start Time:',\n",
    "        disabled=False\n",
    "    )\n",
    "\n",
    "    end_time = widgets.Text(\n",
    "        value='12-31-9999',\n",
    "        placeholder='',\n",
    "        description='End Time:',\n",
    "        disabled=False\n",
    "    )\n",
    "    display(start_time, end_time)"
   ]
  },
  {
   "cell_type": "code",
   "execution_count": 4,
   "id": "c2bb83db",
   "metadata": {
    "ExecuteTime": {
     "end_time": "2023-06-11T18:04:18.535914800Z",
     "start_time": "2023-06-11T18:04:18.504664800Z"
    }
   },
   "outputs": [
    {
     "name": "stdout",
     "output_type": "stream",
     "text": [
      "Please enter a start time and end time.\n"
     ]
    },
    {
     "data": {
      "text/plain": "Text(value='01-01-2020', description='Start Time:', placeholder='')",
      "application/vnd.jupyter.widget-view+json": {
       "version_major": 2,
       "version_minor": 0,
       "model_id": "ee5c5604c4c640ffaf4543a09b546648"
      }
     },
     "metadata": {},
     "output_type": "display_data"
    },
    {
     "data": {
      "text/plain": "Text(value='12-31-9999', description='End Time:', placeholder='')",
      "application/vnd.jupyter.widget-view+json": {
       "version_major": 2,
       "version_minor": 0,
       "model_id": "8bcc68f5025e4428b8c6c22f55e1aef6"
      }
     },
     "metadata": {},
     "output_type": "display_data"
    },
    {
     "name": "stdout",
     "output_type": "stream",
     "text": [
      "Optional: select the units to be included in the timeseries data.\n"
     ]
    },
    {
     "data": {
      "text/plain": "SelectMultiple(description='Units:', index=(0,), options=('None', 'CPU %', 'GPU %', 'GB:memused', 'GB:memused_…",
      "application/vnd.jupyter.widget-view+json": {
       "version_major": 2,
       "version_minor": 0,
       "model_id": "77d29894e4bc47378d58cf95afe7b75c"
      }
     },
     "metadata": {},
     "output_type": "display_data"
    }
   ],
   "source": [
    "# -------------- CELL 4 --------------\n",
    "\n",
    "def handle_missing_metrics(starting_time, ending_time, path):\n",
    "    \"\"\"\n",
    "    This function should remove the rows within the given timeframe that are missing metrics.\n",
    "    :param starting_time:\n",
    "    :param ending_time:\n",
    "    :param path:\n",
    "    :return:\n",
    "    \"\"\"\n",
    "    pass\n",
    "\n",
    "\n",
    "def add_interval_column(starting_time, ending_time, path):\n",
    "    \"\"\"\n",
    "    This function should add an interval column to the data that falls within the given timeframe. The interval column\n",
    "    should reflect the length of each timestamp.\n",
    "    :param starting_time:\n",
    "    :param ending_time:\n",
    "    :param path:\n",
    "    :return:\n",
    "    \"\"\"\n",
    "    pass\n",
    "\n",
    "dataframe = pd.DataFrame()\n",
    "\n",
    "if missing_metrics.value:\n",
    "    dataframe = handle_missing_metrics(start_time.value, end_time.value, data_path)\n",
    "\n",
    "if interval.value:\n",
    "    dataframe = add_interval_column(start_time.value, end_time.value, data_path)\n",
    "\n",
    "if not missing_metrics.value and not interval.value:\n",
    "    print(\"Please enter a start time and end time.\")\n",
    "    start_time = widgets.Text(\n",
    "        value='01-01-2020',\n",
    "        placeholder='',\n",
    "        description='Start Time:',\n",
    "        disabled=False\n",
    "    )\n",
    "\n",
    "    end_time = widgets.Text(\n",
    "        value='12-31-9999',\n",
    "        placeholder='',\n",
    "        description='End Time:',\n",
    "        disabled=False\n",
    "    )\n",
    "    display(start_time, end_time)\n",
    "\n",
    "print(\"Optional: select the units to be included in the timeseries data.\")\n",
    "units = widgets.SelectMultiple(\n",
    "    options=['None', 'CPU %', 'GPU %', 'GB:memused', 'GB:memused_minus_diskcache', 'GB/s', 'MB/s'],\n",
    "    value=['None'],\n",
    "    description='Units:',\n",
    "    disabled=False,\n",
    ")\n",
    "\n",
    "display(units)"
   ]
  },
  {
   "cell_type": "code",
   "execution_count": null,
   "id": "b1cb487b",
   "metadata": {
    "is_executing": true,
    "ExecuteTime": {
     "start_time": "2023-06-11T20:03:51.779192400Z"
    }
   },
   "outputs": [
    {
     "data": {
      "text/plain": "VBox(children=(interactive(children=(Text(value='GPU %', description='value'), FloatSlider(value=0.1, descript…",
      "application/vnd.jupyter.widget-view+json": {
       "version_major": 2,
       "version_minor": 0,
       "model_id": "d5c3e2b51b984e8489661de7f34b5d7d"
      }
     },
     "metadata": {},
     "output_type": "display_data"
    },
    {
     "name": "stdout",
     "output_type": "stream",
     "text": [
      "Optional: select the hosts to be included in the timeseries data e.g., 'NODE1, NODE2'\n"
     ]
    },
    {
     "data": {
      "text/plain": "Text(value='', description='Hosts:', placeholder='')",
      "application/vnd.jupyter.widget-view+json": {
       "version_major": 2,
       "version_minor": 0,
       "model_id": "e095c89be6a64d478f8854aa4cc4e14d"
      }
     },
     "metadata": {},
     "output_type": "display_data"
    },
    {
     "name": "stdout",
     "output_type": "stream",
     "text": [
      "Optional: select the jobs to be included in the timeseries data e.g., 'JOB1, JOB2'\n"
     ]
    },
    {
     "data": {
      "text/plain": "Text(value='', description='Jobs:', placeholder='')",
      "application/vnd.jupyter.widget-view+json": {
       "version_major": 2,
       "version_minor": 0,
       "model_id": "1808a6a315b540e08c18f28776603017"
      }
     },
     "metadata": {},
     "output_type": "display_data"
    },
    {
     "name": "stdout",
     "output_type": "stream",
     "text": [
      "Optional: select if you want the account logs to be returned for the Job IDs matching your query.\n"
     ]
    },
    {
     "data": {
      "text/plain": "ToggleButton(value=False, description='Account Logs', icon='check', tooltip='Return Account Logs?')",
      "application/vnd.jupyter.widget-view+json": {
       "version_major": 2,
       "version_minor": 0,
       "model_id": "8a5a92c3a964491fad5daf3f2827c518"
      }
     },
     "metadata": {},
     "output_type": "display_data"
    },
    {
     "name": "stdout",
     "output_type": "stream",
     "text": [
      "Optional: select the columns to be included in the timeseries data (hold control to select multiple). If no columns are selected, all columns will be included.\n"
     ]
    },
    {
     "data": {
      "text/plain": "SelectMultiple(description='Return Columns', index=(0,), options=('None', 'Job Id', 'Hosts', 'Events', 'Units'…",
      "application/vnd.jupyter.widget-view+json": {
       "version_major": 2,
       "version_minor": 0,
       "model_id": "582d8b37708c45e681c23e45facf9ca5"
      }
     },
     "metadata": {},
     "output_type": "display_data"
    }
   ],
   "source": [
    "# -------------- CELL 5 --------------\n",
    "unit_values = {}  # stores user low and high value user input such that: key = a unit from the units list above /// value = (low_value, high_value)\n",
    "\n",
    "def filter_values(value, low_value, high_value):\n",
    "    print(f\"For {value}: Low Value: {low_value}, High Value: {high_value}\")\n",
    "    unit_values[value] = (low_value, high_value)\n",
    "\n",
    "value_widgets = []\n",
    "for value in units.value:\n",
    "    if value != 'None':\n",
    "        low_value = widgets.FloatSlider(min=0.0, max=100.0, step=0.1, value=0.1)\n",
    "        high_value = widgets.FloatSlider(min=0.0, max=100.0, step=0.1, value=0.1)\n",
    "        interact = widgets.interactive(filter_values, value=value, low_value=low_value, high_value=high_value)\n",
    "        value_widgets.append(interact)\n",
    "\n",
    "display(widgets.VBox(value_widgets))\n",
    "\n",
    "\n",
    "\n",
    "print(\"Optional: select the hosts to be included in the timeseries data e.g., 'NODE1, NODE2'\")\n",
    "hosts = widgets.Text(\n",
    "    value='',\n",
    "    placeholder='',\n",
    "    description='Hosts:',\n",
    "    disabled=False\n",
    ")\n",
    "display(hosts)\n",
    "\n",
    "# TODO: explore using a qgrid here for nodes and jobs\n",
    "# import qgrid\n",
    "#\n",
    "# df_nodes = pd.DataFrame(nodes_list, columns=['Nodes'])\n",
    "#\n",
    "# qgrid_widget = qgrid.show_grid(df_nodes, show_toolbar=False)\n",
    "# qgrid_widget\n",
    "# With qgrid, your list of nodes is displayed in an interactive table. You can click the filter icon in the header of the column to select multiple nodes. After making the selection, you can retrieve the selected nodes using:\n",
    "# selected_nodes = qgrid_widget.get_selected_df()\n",
    "\n",
    "print(\"Optional: select the jobs to be included in the timeseries data e.g., 'JOB1, JOB2'\")\n",
    "job_ids = widgets.Text(\n",
    "    value='',\n",
    "    placeholder='',\n",
    "    description='Jobs:',\n",
    "    disabled=False\n",
    ")\n",
    "display(job_ids)\n",
    "\n",
    "print(\"Optional: select if you want the account logs to be returned for the Job IDs matching your query.\")\n",
    "return_account_logs = widgets.ToggleButton(\n",
    "    value=False,\n",
    "    description='Account Logs',\n",
    "    disabled=False,\n",
    "    button_style='',\n",
    "    tooltip='Return Account Logs?',\n",
    "    icon='check'\n",
    ")\n",
    "display(return_account_logs)\n",
    "\n",
    "print(\"Optional: select the columns to be included in the timeseries data (hold control to select multiple). If no columns are \"\n",
    "      \"selected, all columns will be included.\")\n",
    "timeseries_return_columns = widgets.SelectMultiple(\n",
    "    options=['None', 'Job Id', 'Hosts', 'Events', 'Units', 'Values', 'Timestamps'],\n",
    "    value=['None'],\n",
    "    description='Return Columns',\n",
    "    disabled=False\n",
    ")\n",
    "display(timeseries_return_columns)"
   ]
  },
  {
   "cell_type": "code",
   "execution_count": 18,
   "id": "4f5b1281",
   "metadata": {
    "ExecuteTime": {
     "end_time": "2023-06-11T20:04:20.003901900Z",
     "start_time": "2023-06-11T20:04:19.957027700Z"
    }
   },
   "outputs": [
    {
     "name": "stdout",
     "output_type": "stream",
     "text": [
      "{'GPU %': (18.2, 100.0), 'GB:memused': (19.0, 66.5)}\n"
     ]
    }
   ],
   "source": [
    "# -------------- CELL 6 --------------\n",
    "\n",
    "def get_timeseries_by_timestamp(begin_time: str, end_time: str, return_columns: list) -> pd.DataFrame:\n",
    "    pass\n",
    "\n",
    "def get_timeseries_by_values_and_unit(unit_vals: dict) -> pd.DataFrame:  # call this with the unit_values dict as an arg\n",
    "    pass\n",
    "\n",
    "\n",
    "def get_timeseries_by_hosts(hosts: str) -> pd.DataFrame:\n",
    "    pass\n",
    "\n",
    "\n",
    "def get_timeseries_by_job_ids(job_ids: str) -> pd.DataFrame:\n",
    "    pass\n",
    "\n",
    "\n",
    "def get_account_logs_by_job_ids(job_ids: str) -> pd.DataFrame:\n",
    "    pass\n",
    "\n",
    "\n",
    "get_timeseries_by_timestamp(start_time.value, end_time.value, timeseries_return_columns.value)\n",
    "\n",
    "if units.value != \"None\":\n",
    "    get_timeseries_by_values_and_unit(units.value, low_value.value, high_value.value)\n",
    "\n",
    "if len(hosts.value) > 0:\n",
    "    get_timeseries_by_hosts(hosts.value)\n",
    "    \n",
    "if len(job_ids.value) > 0:\n",
    "    get_account_logs_by_job_ids(job_ids.value)\n",
    "    \n",
    "stats = widgets.SelectMultiple(\n",
    "    options=['Average', 'Mean', 'Median', 'Standard Deviation', 'PDF', 'CDF', 'Ratio of Data Outside Threshold'],\n",
    "    value=['Mean'],\n",
    "    description='Statistics',\n",
    "    disabled=False\n",
    ")"
   ]
  },
  {
   "cell_type": "code",
   "execution_count": 10,
   "id": "58e03c05",
   "metadata": {
    "ExecuteTime": {
     "end_time": "2023-06-11T02:01:54.835667500Z",
     "start_time": "2023-06-11T02:01:54.820038800Z"
    }
   },
   "outputs": [
    {
     "name": "stdout",
     "output_type": "stream",
     "text": [
      "If you would like to explore correlations between metrics, choose two metrics below:\n"
     ]
    }
   ],
   "source": [
    "# -------------- CELL 7 --------------\n",
    "\n",
    "def get_average():\n",
    "    pass\n",
    "\n",
    "\n",
    "def get_mean():\n",
    "    pass\n",
    "\n",
    "\n",
    "def get_median():\n",
    "    pass\n",
    "\n",
    "\n",
    "def get_standard_deviation():\n",
    "    pass\n",
    "\n",
    "\n",
    "def get_probability_density():\n",
    "    pass\n",
    "\n",
    "\n",
    "def get_cumulative_density():\n",
    "    pass\n",
    "\n",
    "\n",
    "def get_data_points_outside_threshold():\n",
    "    pass\n",
    "\n",
    "\n",
    "def get_ratio_of_data_points_outside_threshold():\n",
    "    pass\n",
    "\n",
    "# Display statistical data here\n",
    "\n",
    "# Give the user the option to calculate correlations\n",
    "print(\"If you would like to explore correlations between metrics, choose two metrics below:\")\n",
    "stats = widgets.SelectMultiple(\n",
    "    options=['None', 'CPU %:cpuuser', 'GPU %:gpu_usage', 'GB:memused_minus_diskcache or memused', 'GB/s:block', 'MB/s:nfs'],\n",
    "    value=['CPU %:cpuuser'],\n",
    "    description='Statistics',\n",
    "    disabled=False\n",
    ")\n"
   ]
  },
  {
   "cell_type": "code",
   "execution_count": 13,
   "id": "6614ebea",
   "metadata": {
    "ExecuteTime": {
     "end_time": "2023-06-11T02:09:22.066365300Z",
     "start_time": "2023-06-11T02:09:22.028597400Z"
    }
   },
   "outputs": [],
   "source": [
    "# -------------- CELL 8 --------------\n",
    "\n",
    "# Display correlation visualizations here"
   ]
  },
  {
   "cell_type": "code",
   "execution_count": 19,
   "outputs": [
    {
     "name": "stdout",
     "output_type": "stream",
     "text": [
      "Select the files to be downloaded:\n"
     ]
    },
    {
     "data": {
      "text/plain": "SelectMultiple(description='Files', index=(0,), options=('job_ts_metrics_aug2022_anon', 'job_ts_metrics_dec202…",
      "application/vnd.jupyter.widget-view+json": {
       "version_major": 2,
       "version_minor": 0,
       "model_id": "64929249f84c44b1a72e6c5f6ad19688"
      }
     },
     "metadata": {},
     "output_type": "display_data"
    }
   ],
   "source": [
    "# -------------- CELL 9 ---------------\n",
    "# Give the user the option to download data here.\n",
    "print(\"Select the files to be downloaded:\")\n",
    "files_to_provide = widgets.SelectMultiple(\n",
    "    options=['job_ts_metrics_aug2022_anon', 'job_ts_metrics_dec2022_anon',\n",
    "             'job_ts_metrics_jan2022_anon', 'job_ts_metrics_july2022_anon',\n",
    "             'job_ts_metrics_nov2022_anon', 'job_ts_metrics_sep2022_anon'],\n",
    "    value=['job_ts_metrics_aug2022_anon'],\n",
    "    description='Files',\n",
    "    disabled=False\n",
    ")\n",
    "\n",
    "display(files_to_provide)"
   ],
   "metadata": {
    "collapsed": false,
    "ExecuteTime": {
     "end_time": "2023-06-11T02:15:01.140970200Z",
     "start_time": "2023-06-11T02:15:01.114824500Z"
    }
   }
  },
  {
   "cell_type": "code",
   "execution_count": null,
   "outputs": [],
   "source": [
    "# -------------- CELL 10 ---------------\n"
   ],
   "metadata": {
    "collapsed": false
   }
  }
 ],
 "metadata": {
  "kernelspec": {
   "name": "python3",
   "language": "python",
   "display_name": "Python 3 (ipykernel)"
  },
  "language_info": {
   "file_extension": ".py",
   "mimetype": "text/x-python",
   "name": "python",
   "version": "3.11.2"
  }
 },
 "nbformat": 4,
 "nbformat_minor": 5
}
